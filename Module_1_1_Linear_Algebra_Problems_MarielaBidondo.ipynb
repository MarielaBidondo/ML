{
  "nbformat": 4,
  "nbformat_minor": 0,
  "metadata": {
    "kernelspec": {
      "display_name": "Python 3",
      "language": "python",
      "name": "python3"
    },
    "language_info": {
      "codemirror_mode": {
        "name": "ipython",
        "version": 3
      },
      "file_extension": ".py",
      "mimetype": "text/x-python",
      "name": "python",
      "nbconvert_exporter": "python",
      "pygments_lexer": "ipython3",
      "version": "3.7.4"
    },
    "colab": {
      "name": "Module_1_1_Linear_Algebra_Problems-MarielaBidondo.ipynb",
      "provenance": [],
      "collapsed_sections": []
    }
  },
  "cells": [
    {
      "cell_type": "markdown",
      "metadata": {
        "id": "XbPcS6KhEV1W"
      },
      "source": [
        "# **<center> Module 1.1 - Linear Algebra - Problems </center>** \n",
        "![Immune](https://i.imgur.com/0TSSaqL.png)  "
      ]
    },
    {
      "cell_type": "markdown",
      "metadata": {
        "id": "z6T2jGUREV1a"
      },
      "source": [
        "  ### Import library"
      ]
    },
    {
      "cell_type": "code",
      "metadata": {
        "id": "VMi0I7TjEV1b"
      },
      "source": [
        "import numpy as np\n",
        "#biblioteca para el lenguaje de programación Python que da soporte para crear vectores y matrices grandes multidimensionales,\n",
        "# junto con una gran colección de funciones matemáticas de alto nivel para operar con ella"
      ],
      "execution_count": null,
      "outputs": []
    },
    {
      "cell_type": "code",
      "metadata": {
        "id": "kUcw8N5l0Blc"
      },
      "source": [
        ""
      ],
      "execution_count": null,
      "outputs": []
    },
    {
      "cell_type": "markdown",
      "metadata": {
        "id": "jn_f6VjNEV1f"
      },
      "source": [
        "### 1) For each of the following cases:\n",
        "\n",
        "* Express the elements as correspond (matrices or vectors)\n",
        "* Check whether the **mathematical operation** can be performed. If so, provide the solution or explain why can't be performed"
      ]
    },
    {
      "cell_type": "markdown",
      "metadata": {
        "id": "Z-jIsDGiEV1g"
      },
      "source": [
        "#### a)          $ A = \\begin{pmatrix} 9 & \\sqrt(2) & -3 \\end{pmatrix}$ and $B = \\begin{pmatrix} 5& 0 & 16 \\end{pmatrix}$"
      ]
    },
    {
      "cell_type": "markdown",
      "metadata": {
        "id": "cKPez45GEV1g"
      },
      "source": [
        "$C = A+B$ \\\n",
        "$D = A*B$"
      ]
    },
    {
      "cell_type": "code",
      "metadata": {
        "id": "C0U6gUHAEV1h",
        "colab": {
          "base_uri": "https://localhost:8080/"
        },
        "outputId": "04404b75-745c-4523-ef7a-a41ba4986659"
      },
      "source": [
        "\n",
        "A = np.array([[9, np.sqrt(2) , -3]])\n",
        "B = np.array([[5 , 0, 16]])\n",
        "\n",
        "A\n",
        "B\n",
        "A.shape\n",
        "B.shape\n",
        "#Las dimensiones son 1 = filas y 3 = columnas para los dos vectores\n"
      ],
      "execution_count": null,
      "outputs": [
        {
          "output_type": "execute_result",
          "data": {
            "text/plain": [
              "(1, 3)"
            ]
          },
          "metadata": {
            "tags": []
          },
          "execution_count": 25
        }
      ]
    },
    {
      "cell_type": "code",
      "metadata": {
        "id": "zr8PFKJ0EV1k",
        "colab": {
          "base_uri": "https://localhost:8080/"
        },
        "outputId": "3a4ae615-b0a4-4e7e-db1c-99d0ead0ce98"
      },
      "source": [
        "#Para sumar dos vectores necesitamos tener el mismo numero de componentes\n",
        "#Tenemos tres componentes en los vectores A y B entonces podremos ejecutar la suma\n",
        "#C= ((9+5),(0+sqrt(2)).(16-3))\n",
        "C = A+B\n",
        "C"
      ],
      "execution_count": null,
      "outputs": [
        {
          "output_type": "execute_result",
          "data": {
            "text/plain": [
              "array([[14.        ,  1.41421356, 13.        ]])"
            ]
          },
          "metadata": {
            "tags": []
          },
          "execution_count": 27
        }
      ]
    },
    {
      "cell_type": "code",
      "metadata": {
        "id": "NyTtSHdEEV1s",
        "colab": {
          "base_uri": "https://localhost:8080/",
          "height": 203
        },
        "outputId": "8d181bd7-ada0-4354-be05-97025c9f7641"
      },
      "source": [
        "#Funcion dot para multiplicar \n",
        "#Primero debemos verificar que se cumpla la propiedad Product: The product of two Matrices is possible if and only if the number of columns of the first \n",
        "#matrix is equal to the number of rows of the second matrix  An,m ⇤ Bm,p = Cn,p\n",
        "#filaA = 1 columaA= 3 filaB = 1 columnaB = 3 ---> columnaA != filaB  \n",
        "#No podremos ejecutar esta operacion \n",
        "D = np.dot(A,B)"
      ],
      "execution_count": null,
      "outputs": [
        {
          "output_type": "error",
          "ename": "NameError",
          "evalue": "ignored",
          "traceback": [
            "\u001b[0;31m---------------------------------------------------------------------------\u001b[0m",
            "\u001b[0;31mNameError\u001b[0m                                 Traceback (most recent call last)",
            "\u001b[0;32m<ipython-input-4-56367a5384a9>\u001b[0m in \u001b[0;36m<module>\u001b[0;34m()\u001b[0m\n\u001b[1;32m      4\u001b[0m \u001b[0;31m#filaA = 1 columaA= 3 filaB = 1 columnaB = 3 ---> columnaA != filaB\u001b[0m\u001b[0;34m\u001b[0m\u001b[0;34m\u001b[0m\u001b[0;34m\u001b[0m\u001b[0m\n\u001b[1;32m      5\u001b[0m \u001b[0;31m#No podremos ejecutar esta operacion\u001b[0m\u001b[0;34m\u001b[0m\u001b[0;34m\u001b[0m\u001b[0;34m\u001b[0m\u001b[0m\n\u001b[0;32m----> 6\u001b[0;31m \u001b[0mD\u001b[0m \u001b[0;34m=\u001b[0m \u001b[0mnp\u001b[0m\u001b[0;34m.\u001b[0m\u001b[0mdot\u001b[0m\u001b[0;34m(\u001b[0m\u001b[0mA\u001b[0m\u001b[0;34m,\u001b[0m\u001b[0mB\u001b[0m\u001b[0;34m)\u001b[0m\u001b[0;34m\u001b[0m\u001b[0;34m\u001b[0m\u001b[0m\n\u001b[0m",
            "\u001b[0;31mNameError\u001b[0m: name 'A' is not defined"
          ]
        }
      ]
    },
    {
      "cell_type": "code",
      "metadata": {
        "scrolled": true,
        "id": "KToKJtFpEV1v"
      },
      "source": [
        ""
      ],
      "execution_count": null,
      "outputs": []
    },
    {
      "cell_type": "markdown",
      "metadata": {
        "id": "-Axhj-TLEV1y"
      },
      "source": [
        "#### b)          $ A = \\begin{pmatrix} 9 & \\sqrt(2) & -3 \\end{pmatrix}$ and $B = \\begin{pmatrix} 25 \\\\ 33 \\\\ -9 \\end{pmatrix}$"
      ]
    },
    {
      "cell_type": "markdown",
      "metadata": {
        "id": "mWdmjQ6oEV1z"
      },
      "source": [
        "$C = A-B$ \\\n",
        "$D = A*B$"
      ]
    },
    {
      "cell_type": "code",
      "metadata": {
        "id": "djv-m8HLEV1z",
        "colab": {
          "base_uri": "https://localhost:8080/"
        },
        "outputId": "8541f5ff-8e1e-40c1-cf71-2cb774f4b0a0"
      },
      "source": [
        "A = np.array([[9, np.sqrt(2) , -3]])\n",
        "B = np.array([[25] ,[33], [-9]])\n",
        "\n",
        "#A\n",
        "B\n",
        "#A.shape\n",
        "B.shape"
      ],
      "execution_count": null,
      "outputs": [
        {
          "output_type": "execute_result",
          "data": {
            "text/plain": [
              "(3, 1)"
            ]
          },
          "metadata": {
            "tags": []
          },
          "execution_count": 5
        }
      ]
    },
    {
      "cell_type": "code",
      "metadata": {
        "id": "KmxZoH8YEV15",
        "colab": {
          "base_uri": "https://localhost:8080/"
        },
        "outputId": "90bbf4cc-994b-4e26-ff17-cc27b16befa7"
      },
      "source": [
        "#Para sumar dos vectores necesitamos tener el mismo numero de componentes\n",
        "#dos matrices se pueden sumar solamente si ambas tienen el mismo tamaño\n",
        "#Tenemos tres columnas en A y una columna en B entonces no  podremos ejecutar la suma\n",
        "#Pero Python utiliza sistema de broadcasting donde repite los componentes para poder ejecutar la operacion\n",
        "#Matematicamente no seria possible\n",
        "#Pero Python lo hara repitiendo los valores ((9(√2)−3)     ((25 25 25)\n",
        "#                                            (9(√2)−3)  -  (33 33 33)\n",
        "#                                            (9(√2)−3))    (-9  -9 -9))\n",
        "C = A-B\n",
        "C"
      ],
      "execution_count": null,
      "outputs": [
        {
          "output_type": "execute_result",
          "data": {
            "text/plain": [
              "array([[-16.        , -23.58578644, -28.        ],\n",
              "       [-24.        , -31.58578644, -36.        ],\n",
              "       [ 18.        ,  10.41421356,   6.        ]])"
            ]
          },
          "metadata": {
            "tags": []
          },
          "execution_count": 6
        }
      ]
    },
    {
      "cell_type": "code",
      "metadata": {
        "id": "NGdVXfGOEV17",
        "colab": {
          "base_uri": "https://localhost:8080/"
        },
        "outputId": "a9dcc0b5-ba47-4afc-ed77-efb73bfa31e0"
      },
      "source": [
        "#Funcion dot para multiplicar \n",
        "#Primero debemos verificar que se cumpla la propiedad Product: The product of two Matrices is possible if and only if the number of columns of the first \n",
        "#matrix is equal to the number of rows of the second matrix  An,m ⇤ Bm,p = Cn,p\n",
        "#filaA = 1 columaA= 3 filaB = 3 columnaB = 1 ---> columnaA = filaB = 3  Matrix result (1,1)  \n",
        "#Podremos ejecutar esta operacion \n",
        "#( 25*9 + sqrt(2)*33 + (-3)*(-9))\n",
        "\n",
        "D = np.dot(A,B)\n",
        "D"
      ],
      "execution_count": null,
      "outputs": [
        {
          "output_type": "execute_result",
          "data": {
            "text/plain": [
              "array([[298.66904756]])"
            ]
          },
          "metadata": {
            "tags": []
          },
          "execution_count": 7
        }
      ]
    },
    {
      "cell_type": "code",
      "metadata": {
        "id": "UtX6uK6TEV1-"
      },
      "source": [
        ""
      ],
      "execution_count": null,
      "outputs": []
    },
    {
      "cell_type": "markdown",
      "metadata": {
        "id": "6obnhLXCEV2B"
      },
      "source": [
        "#### c)          $ A = \\begin{pmatrix} 9 & 2 \\\\ -4 & 8 \\\\ 0 & 1  \\end{pmatrix}$ and $B = \\begin{pmatrix} 5 & 0 & -1\\\\ 3 & 3 & 7\\end{pmatrix}$"
      ]
    },
    {
      "cell_type": "markdown",
      "metadata": {
        "id": "hObCwuUgEV2B"
      },
      "source": [
        "$C = A*B$ \\\n",
        "$D = B*A$"
      ]
    },
    {
      "cell_type": "code",
      "metadata": {
        "id": "GDql6zjoEV2C",
        "colab": {
          "base_uri": "https://localhost:8080/"
        },
        "outputId": "7a163e11-eb39-4377-ae80-a4ed2d731960"
      },
      "source": [
        "A = np.array([[9, 2],[-4,8],[0,1]])\n",
        "B = np.array([[5, 0, -1],[3,3,7]])\n",
        "A\n",
        "B"
      ],
      "execution_count": null,
      "outputs": [
        {
          "output_type": "execute_result",
          "data": {
            "text/plain": [
              "array([[ 5,  0, -1],\n",
              "       [ 3,  3,  7]])"
            ]
          },
          "metadata": {
            "tags": []
          },
          "execution_count": 8
        }
      ]
    },
    {
      "cell_type": "code",
      "metadata": {
        "id": "fpprruU0EV2E",
        "colab": {
          "base_uri": "https://localhost:8080/"
        },
        "outputId": "337d296d-0d42-4571-99bd-cd21ca6219ec"
      },
      "source": [
        "A.shape\n"
      ],
      "execution_count": null,
      "outputs": [
        {
          "output_type": "execute_result",
          "data": {
            "text/plain": [
              "(3, 2)"
            ]
          },
          "metadata": {
            "tags": []
          },
          "execution_count": 9
        }
      ]
    },
    {
      "cell_type": "code",
      "metadata": {
        "id": "WldXmXzOEV2I",
        "colab": {
          "base_uri": "https://localhost:8080/"
        },
        "outputId": "16d3370c-a9e6-4238-fec3-499c660417c2"
      },
      "source": [
        "B.shape"
      ],
      "execution_count": null,
      "outputs": [
        {
          "output_type": "execute_result",
          "data": {
            "text/plain": [
              "(2, 3)"
            ]
          },
          "metadata": {
            "tags": []
          },
          "execution_count": 10
        }
      ]
    },
    {
      "cell_type": "code",
      "metadata": {
        "id": "lNi6UPyEEV2K",
        "colab": {
          "base_uri": "https://localhost:8080/"
        },
        "outputId": "53fc3adc-0798-4929-c8cb-2ead70be453e"
      },
      "source": [
        "#Funcion dot para multiplicar \n",
        "#Primero debemos verificar que se cumpla la propiedad Product: The product of two Matrices is possible if and only if the number of columns of the first \n",
        "#matrix is equal to the number of rows of the second matrix  An,m ⇤ Bm,p = Cn,p\n",
        "#filaA = 3 columaA= 2 filaB = 2 columnaB = 3 ---> columnaA = filaB = 2  Matrix result (3,3)  \n",
        "#Podremos ejecutar esta operacion \n",
        "#( (5*9 + 3*2 ), ( 0 + 2*3), (-9 + 2*7) \n",
        "#  (-4*5 + 3*8) , (0 + 8*3), (4 + 8*7)\n",
        "#  (5*0 + 1*3), + (0 + 3) ,  (0 + 7))\n",
        "C = np.dot(A,B)\n",
        "C"
      ],
      "execution_count": null,
      "outputs": [
        {
          "output_type": "execute_result",
          "data": {
            "text/plain": [
              "array([[51,  6,  5],\n",
              "       [ 4, 24, 60],\n",
              "       [ 3,  3,  7]])"
            ]
          },
          "metadata": {
            "tags": []
          },
          "execution_count": 11
        }
      ]
    },
    {
      "cell_type": "code",
      "metadata": {
        "id": "stCPhCyDEV2O",
        "colab": {
          "base_uri": "https://localhost:8080/"
        },
        "outputId": "71d4536c-6f8e-4f9e-b600-2a0efad989e2"
      },
      "source": [
        "#Funcion dot para multiplicar \n",
        "#Primero debemos verificar que se cumpla la propiedad Product: The product of two Matrices is possible if and only if the number of columns of the first \n",
        "#matrix is equal to the number of rows of the second matrix  An,m ⇤ Bm,p = Cn,p\n",
        "#filaB = 2 columaB= 3 filaA = 3 columnaA = 2 ---> columnaB = filaA = 3  Matrix result (2,2)  \n",
        "#Podremos ejecutar esta operacion \n",
        "#( (5*9 + 0 + 0), ( 2*5 + 0 -1),\n",
        "#  (3*9 - 4*3 + 0) , (3*2 + 8*3 + 7))\n",
        "\n",
        "#Corroboramos que AB no es lo mismo que BA \n",
        "#Multiplicacion de matrices no es una propiedad conmutativa\n",
        "\n",
        "D = np.dot(B,A)\n",
        "D"
      ],
      "execution_count": null,
      "outputs": [
        {
          "output_type": "execute_result",
          "data": {
            "text/plain": [
              "array([[45,  9],\n",
              "       [15, 37]])"
            ]
          },
          "metadata": {
            "tags": []
          },
          "execution_count": 12
        }
      ]
    },
    {
      "cell_type": "markdown",
      "metadata": {
        "id": "xWqQoIhjEV2S"
      },
      "source": [
        "#### d)          $ A = \\begin{pmatrix} 1 & 2 \\\\ -2 & 6 \\\\ 1 & 3  \\end{pmatrix}$ and $B = \\begin{pmatrix} -1\\\\ 3 \\\\ 7\\end{pmatrix}$"
      ]
    },
    {
      "cell_type": "markdown",
      "metadata": {
        "id": "LGkfsjmhEV2S"
      },
      "source": [
        "$C = A^T*B$ \\\n",
        "$D = B*A$"
      ]
    },
    {
      "cell_type": "code",
      "metadata": {
        "scrolled": false,
        "id": "JFIoKU3iEV2T",
        "colab": {
          "base_uri": "https://localhost:8080/"
        },
        "outputId": "c6f52e3e-7ac7-4fab-c54d-a74910121573"
      },
      "source": [
        "A = np.array([[1, 2],[-2, 6],[1,3]])\n",
        "B = np.array([[-1], [3],[7]])\n",
        "A\n",
        "B"
      ],
      "execution_count": null,
      "outputs": [
        {
          "output_type": "execute_result",
          "data": {
            "text/plain": [
              "array([[-1],\n",
              "       [ 3],\n",
              "       [ 7]])"
            ]
          },
          "metadata": {
            "tags": []
          },
          "execution_count": 13
        }
      ]
    },
    {
      "cell_type": "code",
      "metadata": {
        "id": "Ih34rv-BEV2V",
        "colab": {
          "base_uri": "https://localhost:8080/"
        },
        "outputId": "23697278-d672-4255-ff1b-90936378bc99"
      },
      "source": [
        "#Aplicamos Transpose -->(AT and is defined as: )i,j = Aj,i\n",
        "#A(1,1) = At(1,1 ) = 1  A(1,2)=At(2,1) =2   A(2,1)=At(1,2) = -2  A(2,2) = At(2,2)= 6  \n",
        "#A(3,1) = At(1,3)= 1  A(3,2) = At(2,3)= 3\n",
        " \n",
        "A.T"
      ],
      "execution_count": null,
      "outputs": [
        {
          "output_type": "execute_result",
          "data": {
            "text/plain": [
              "array([[ 1, -2,  1],\n",
              "       [ 2,  6,  3]])"
            ]
          },
          "metadata": {
            "tags": []
          },
          "execution_count": 14
        }
      ]
    },
    {
      "cell_type": "code",
      "metadata": {
        "scrolled": true,
        "id": "4gW_sqnGEV2a",
        "colab": {
          "base_uri": "https://localhost:8080/"
        },
        "outputId": "f67698a7-9015-4371-d451-3e10eec69c5f"
      },
      "source": [
        "#Funcion dot para multiplicar \n",
        "#Primero debemos verificar que se cumpla la propiedad Product: The product of two Matrices is possible if and only if the number of columns of the first \n",
        "#matrix is equal to the number of rows of the second matrix  An,m ⇤ Bm,p = Cn,p\n",
        "#filaAT = 2 columaAT= 3 filaB = 3 columnaA = 1 ---> columnaAT = filaB = 3   Matrix result (2,1) \n",
        "#No podremos ejecutar esta operacion \n",
        "#( (-1 + -3*2 + 7)\n",
        "#  (-2 + 6*3 + 3*7) )\n",
        "C = np.dot((A.T),B)\n",
        "C"
      ],
      "execution_count": null,
      "outputs": [
        {
          "output_type": "execute_result",
          "data": {
            "text/plain": [
              "array([[ 0],\n",
              "       [37]])"
            ]
          },
          "metadata": {
            "tags": []
          },
          "execution_count": 15
        }
      ]
    },
    {
      "cell_type": "code",
      "metadata": {
        "id": "F-4BgSiMEV2c"
      },
      "source": [
        ""
      ],
      "execution_count": null,
      "outputs": []
    },
    {
      "cell_type": "code",
      "metadata": {
        "id": "MJM_YA3CEV2f",
        "colab": {
          "base_uri": "https://localhost:8080/",
          "height": 203
        },
        "outputId": "86b49938-fd66-4474-b674-b252310b7bad"
      },
      "source": [
        "#Funcion dot para multiplicar \n",
        "#Primero debemos verificar que se cumpla la propiedad Product: The product of two Matrices is possible if and only if the number of columns of the first \n",
        "#matrix is equal to the number of rows of the second matrix  An,m ⇤ Bm,p = Cn,p\n",
        "#filaB = 3 columaB= 1 filaA = 3 columnaA = 2 ---> columnaB != filaA  \n",
        "#No podremos ejecutar esta operacion \n",
        "\n",
        "D = np.dot(B,A)"
      ],
      "execution_count": null,
      "outputs": [
        {
          "output_type": "error",
          "ename": "NameError",
          "evalue": "ignored",
          "traceback": [
            "\u001b[0;31m---------------------------------------------------------------------------\u001b[0m",
            "\u001b[0;31mNameError\u001b[0m                                 Traceback (most recent call last)",
            "\u001b[0;32m<ipython-input-4-0e156dfed6cb>\u001b[0m in \u001b[0;36m<module>\u001b[0;34m()\u001b[0m\n\u001b[1;32m      5\u001b[0m \u001b[0;31m#No podremos ejecutar esta operacion\u001b[0m\u001b[0;34m\u001b[0m\u001b[0;34m\u001b[0m\u001b[0;34m\u001b[0m\u001b[0m\n\u001b[1;32m      6\u001b[0m \u001b[0;34m\u001b[0m\u001b[0m\n\u001b[0;32m----> 7\u001b[0;31m \u001b[0mD\u001b[0m \u001b[0;34m=\u001b[0m \u001b[0mnp\u001b[0m\u001b[0;34m.\u001b[0m\u001b[0mdot\u001b[0m\u001b[0;34m(\u001b[0m\u001b[0mB\u001b[0m\u001b[0;34m,\u001b[0m\u001b[0mA\u001b[0m\u001b[0;34m)\u001b[0m\u001b[0;34m\u001b[0m\u001b[0;34m\u001b[0m\u001b[0m\n\u001b[0m",
            "\u001b[0;31mNameError\u001b[0m: name 'B' is not defined"
          ]
        }
      ]
    },
    {
      "cell_type": "code",
      "metadata": {
        "id": "MUaIboeDEV2i"
      },
      "source": [
        ""
      ],
      "execution_count": null,
      "outputs": []
    },
    {
      "cell_type": "markdown",
      "metadata": {
        "scrolled": true,
        "id": "Yn2HniyaEV2l"
      },
      "source": [
        "### 2) In each of the following cases:\n",
        "*  Check whether or not the system has a solution(s) (explain).\n",
        "*  Obtain the solution if it exists or calculate an approximate solution if it applies. "
      ]
    },
    {
      "cell_type": "markdown",
      "metadata": {
        "id": "zLjjdF4dEV2m"
      },
      "source": [
        "#### a) \n",
        "$x_1 +2x_2 -3x_3 = 9$ \\\n",
        "$2x_1 -x_2 +x_3 = 0$ \\\n",
        "$4x_1 -x_2 +x_3 = 4$"
      ]
    },
    {
      "cell_type": "markdown",
      "metadata": {
        "id": "tp-DjR4eEV2m"
      },
      "source": [
        "$Ax = b$"
      ]
    },
    {
      "cell_type": "code",
      "metadata": {
        "id": "qZCM8JTAEV2o",
        "colab": {
          "base_uri": "https://localhost:8080/"
        },
        "outputId": "041fae21-3b10-462a-ce6f-5b38a70e5bd6"
      },
      "source": [
        "#funciones pueden ser representadas en una matrix\n",
        "#Para encontrar las soluciones a nuestro sistema de ecuaciones \n",
        "#n variables and m equations\n",
        "#Para encontrar las soluciones facilmente Matrix debe ser cuadrada , m = n y todas las columnas deben ser linealmente independientes\n",
        "#Condicion necesaria: is n mayor o igual que  m\n",
        "#Condicion suficiente: por lo menos un set de m linealmente independiente\n",
        "\n",
        "A = np.array([[1, 2, -3],[2,-1,1],[4,-1,1]])\n",
        "A"
      ],
      "execution_count": null,
      "outputs": [
        {
          "output_type": "execute_result",
          "data": {
            "text/plain": [
              "array([[ 1,  2, -3],\n",
              "       [ 2, -1,  1],\n",
              "       [ 4, -1,  1]])"
            ]
          },
          "metadata": {
            "tags": []
          },
          "execution_count": 17
        }
      ]
    },
    {
      "cell_type": "code",
      "metadata": {
        "id": "1kz8EUgfEV2r",
        "colab": {
          "base_uri": "https://localhost:8080/"
        },
        "outputId": "d41d9c47-c227-4397-ad29-84f77e04da48"
      },
      "source": [
        "np.linalg.matrix_rank(A)\n",
        "#Rank de una matrix sera el numero de columnas linealmente independientes\n",
        "#Matrix tiene 3 columnas y rank es de 3 --> todas las columnas son linealmente  independiente"
      ],
      "execution_count": null,
      "outputs": [
        {
          "output_type": "execute_result",
          "data": {
            "text/plain": [
              "3"
            ]
          },
          "metadata": {
            "tags": []
          },
          "execution_count": 18
        }
      ]
    },
    {
      "cell_type": "code",
      "metadata": {
        "id": "dnYMAvpXEV2v",
        "colab": {
          "base_uri": "https://localhost:8080/"
        },
        "outputId": "3a81097c-f450-43da-fd39-7b716e2f13e7"
      },
      "source": [
        "np.linalg.det(A)\n",
        "#Detereminante de matrix diferente de 0 \n",
        "#Si el determinante es distinto de 0 enotnces ---> Matriz inverible\n",
        "# ((-1*1*1)+(-3*(-1)*2)+(4*2*1))-(-1*4*(-3))+(2*1*2)+(-1*1*1))\n",
        "#(-1+6+8)-(12+4-1)=-2"
      ],
      "execution_count": null,
      "outputs": [
        {
          "output_type": "execute_result",
          "data": {
            "text/plain": [
              "-2.0"
            ]
          },
          "metadata": {
            "tags": []
          },
          "execution_count": 19
        }
      ]
    },
    {
      "cell_type": "code",
      "metadata": {
        "id": "5G3H7Ux_EV2x",
        "colab": {
          "base_uri": "https://localhost:8080/"
        },
        "outputId": "41169e80-aecd-474b-c45d-f3a7dab2506a"
      },
      "source": [
        "b =np.array([[9],[0],[4]])\n",
        "b\n",
        "# Array con valores a igualar"
      ],
      "execution_count": null,
      "outputs": [
        {
          "output_type": "execute_result",
          "data": {
            "text/plain": [
              "array([[9],\n",
              "       [0],\n",
              "       [4]])"
            ]
          },
          "metadata": {
            "tags": []
          },
          "execution_count": 20
        }
      ]
    },
    {
      "cell_type": "code",
      "metadata": {
        "colab": {
          "base_uri": "https://localhost:8080/"
        },
        "id": "HUx9-Ynxr70d",
        "outputId": "457e084f-34f0-4244-a69e-6ac8168ce7c2"
      },
      "source": [
        "x = np.linalg.inv(A)@b\n",
        "x\n",
        "#Multiplicamos el inverso de nuestra matrix A por vector b de resultados\n",
        "##AX = b  -->  x=A-1b "
      ],
      "execution_count": null,
      "outputs": [
        {
          "output_type": "execute_result",
          "data": {
            "text/plain": [
              "array([[2.],\n",
              "       [5.],\n",
              "       [1.]])"
            ]
          },
          "metadata": {
            "tags": []
          },
          "execution_count": 30
        }
      ]
    },
    {
      "cell_type": "code",
      "metadata": {
        "id": "tlOQOkjzsIOs"
      },
      "source": [
        "#Podemos verificar la solucion \n",
        "#x1 + 2x2 − 3x3 = 9  --> 2 +(5*2)- (3*1) = 9"
      ],
      "execution_count": null,
      "outputs": []
    },
    {
      "cell_type": "markdown",
      "metadata": {
        "id": "ml07sx_GEV25"
      },
      "source": [
        "#### b) \n",
        "$-x_1 + 3x_2 -2x_3 +4x_4= 0$ \\\n",
        "$2x_1 -6x_2 +x_3 -2x_4 = -3$ \\\n",
        "$x_1 -3x_2 +4x_3 -8x4= 2$"
      ]
    },
    {
      "cell_type": "code",
      "metadata": {
        "scrolled": true,
        "id": "5GYO1CGcEV26",
        "colab": {
          "base_uri": "https://localhost:8080/"
        },
        "outputId": "58ded381-ef22-4399-bcc6-bb62e3cebc1c"
      },
      "source": [
        "#funciones pueden ser representadas en una matrix\n",
        "#Para encontrar las soluciones a nuestro sistema de ecuaciones\n",
        "#n variables y m equaciones\n",
        "#Para encontrar las soluciones facilmente Matrix debe ser cuadrada , m = n y todas las columnas deben ser linealmente independientes\n",
        "#Condicion necesaria: is n mayor o igual que  m\n",
        "#Condicion suficiente: por lo menos un set de m linealmente independiente\n",
        "\n",
        "A = np.array([[-1, 3, -2, 4],[2,-6,1,-2],[1,-3,4,-8]])\n",
        "A"
      ],
      "execution_count": null,
      "outputs": [
        {
          "output_type": "execute_result",
          "data": {
            "text/plain": [
              "array([[-1,  3, -2,  4],\n",
              "       [ 2, -6,  1, -2],\n",
              "       [ 1, -3,  4, -8]])"
            ]
          },
          "metadata": {
            "tags": []
          },
          "execution_count": 21
        }
      ]
    },
    {
      "cell_type": "code",
      "metadata": {
        "scrolled": false,
        "id": "jkvyd96eEV28",
        "colab": {
          "base_uri": "https://localhost:8080/"
        },
        "outputId": "e19aef0e-35eb-4206-9267-d1feeb274e45"
      },
      "source": [
        "np.linalg.matrix_rank(A)\n",
        "#Rank de una matrix sera el numero de columnas linealmente independientes\n",
        "#Matrix tiene 4 columnas y rank es de 2--> todas las columnas no son linealmente  independiente"
      ],
      "execution_count": null,
      "outputs": [
        {
          "output_type": "execute_result",
          "data": {
            "text/plain": [
              "2"
            ]
          },
          "metadata": {
            "tags": []
          },
          "execution_count": 24
        }
      ]
    },
    {
      "cell_type": "code",
      "metadata": {
        "scrolled": true,
        "id": "tavF_Y0MEV2_"
      },
      "source": [
        "#Tenemos mas variables que equaciones independientes --> No tendremos una unica solucion\n"
      ],
      "execution_count": null,
      "outputs": []
    },
    {
      "cell_type": "code",
      "metadata": {
        "id": "cvmwLPsREV3B",
        "colab": {
          "base_uri": "https://localhost:8080/"
        },
        "outputId": "dbcf7832-5b36-4046-a738-9ea8f7567c42"
      },
      "source": [
        "b = np.array([[0],[-3],[2]])\n",
        "b"
      ],
      "execution_count": null,
      "outputs": [
        {
          "output_type": "execute_result",
          "data": {
            "text/plain": [
              "array([[ 0],\n",
              "       [-3],\n",
              "       [ 2]])"
            ]
          },
          "metadata": {
            "tags": []
          },
          "execution_count": 23
        }
      ]
    },
    {
      "cell_type": "code",
      "metadata": {
        "id": "ygOupizFEV3D"
      },
      "source": [
        ""
      ],
      "execution_count": null,
      "outputs": []
    },
    {
      "cell_type": "code",
      "metadata": {
        "id": "2nV5NKGREV3H"
      },
      "source": [
        ""
      ],
      "execution_count": null,
      "outputs": []
    },
    {
      "cell_type": "markdown",
      "metadata": {
        "id": "KkqjkLtwEV3J"
      },
      "source": [
        "#### c) \n",
        "$x_1 + x_2 + 2x_3 +x_4= 1$ \\\n",
        "$x_1 + -x_2 - x_3 +x_4= 0$ \\\n",
        "$x_2 + x_3= -1$ \\\n",
        "$x_1 + x_2 +x4= 2$"
      ]
    },
    {
      "cell_type": "code",
      "metadata": {
        "id": "P6LblDhIEV3K",
        "colab": {
          "base_uri": "https://localhost:8080/"
        },
        "outputId": "1952350e-22b1-4547-f914-00291853a446"
      },
      "source": [
        "#funciones pueden ser representadas en una matrix\n",
        "#Para encontrar las soluciones a nuestro sistema de ecuaciones\n",
        "#n variables y m equaciones\n",
        "#Para encontrar las soluciones facilmente Matrix debe ser cuadrada , m = n y todas las columnas deben ser linealmente independientes\n",
        "#Condicion necesaria: is n mayor o igual que  m\n",
        "#Condicion suficiente: por lo menos un set de m linealmente independiente\n",
        "\n",
        "A = np.array([[1, 1, 2, 1],[1,-1,-1,1],[0,1,1,0],[1,1,0,1] ])\n",
        "A"
      ],
      "execution_count": null,
      "outputs": [
        {
          "output_type": "execute_result",
          "data": {
            "text/plain": [
              "array([[ 1,  1,  2,  1],\n",
              "       [ 1, -1, -1,  1],\n",
              "       [ 0,  1,  1,  0],\n",
              "       [ 1,  1,  0,  1]])"
            ]
          },
          "metadata": {
            "tags": []
          },
          "execution_count": 28
        }
      ]
    },
    {
      "cell_type": "code",
      "metadata": {
        "scrolled": true,
        "id": "R1N_JJXbEV3N",
        "colab": {
          "base_uri": "https://localhost:8080/"
        },
        "outputId": "ef0c28b7-2610-40ad-c8cc-37ff6084840f"
      },
      "source": [
        "np.linalg.matrix_rank(A)\n",
        "#Rank de una matrix sera el numero de columnas linealmente independientes\n",
        "#Matrix tiene 4 columnas y rank es de 3--> todas las columnas no son linealmente  independientes"
      ],
      "execution_count": null,
      "outputs": [
        {
          "output_type": "execute_result",
          "data": {
            "text/plain": [
              "3"
            ]
          },
          "metadata": {
            "tags": []
          },
          "execution_count": 29
        }
      ]
    },
    {
      "cell_type": "code",
      "metadata": {
        "id": "8OJ93_CdEV3Q",
        "colab": {
          "base_uri": "https://localhost:8080/"
        },
        "outputId": "d5900d1b-5288-4641-b334-041b1b8a22f9"
      },
      "source": [
        "np.linalg.det(A)\n",
        "# Matriz singular determinante es 0\n",
        "# No tendremos una solucion unica"
      ],
      "execution_count": null,
      "outputs": [
        {
          "output_type": "execute_result",
          "data": {
            "text/plain": [
              "0.0"
            ]
          },
          "metadata": {
            "tags": []
          },
          "execution_count": 30
        }
      ]
    },
    {
      "cell_type": "code",
      "metadata": {
        "id": "2khpkdZaEV3S",
        "colab": {
          "base_uri": "https://localhost:8080/"
        },
        "outputId": "3767e7d0-1e59-4f8b-c131-0b8706a8c21c"
      },
      "source": [
        "b = np.array([[1],[0],[-1],[2]])\n",
        "b"
      ],
      "execution_count": null,
      "outputs": [
        {
          "output_type": "execute_result",
          "data": {
            "text/plain": [
              "array([[ 1],\n",
              "       [ 0],\n",
              "       [-1],\n",
              "       [ 2]])"
            ]
          },
          "metadata": {
            "tags": []
          },
          "execution_count": 31
        }
      ]
    },
    {
      "cell_type": "code",
      "metadata": {
        "id": "RyPQ1OGAEV3Y"
      },
      "source": [
        ""
      ],
      "execution_count": null,
      "outputs": []
    },
    {
      "cell_type": "markdown",
      "metadata": {
        "id": "g5ppmmlpEV3d"
      },
      "source": [
        "#### d) Given the matrix A: \n"
      ]
    },
    {
      "cell_type": "markdown",
      "metadata": {
        "id": "qPxeScs-EV3e"
      },
      "source": [
        "$A = \\frac{1}{10} \\begin{pmatrix}1 & 1 & 1 & 1 \\\\ 1 & 1 & -1 & -1 \\\\ 1 & -1 & 1 & -1 \\\\ 1 & -1 & -1 & 1\\end{pmatrix} \\begin{pmatrix}2 & 0 \\\\ 0 & 1\\\\ 0 & 0 \\\\ 0 & 0 \\end{pmatrix} \\begin{pmatrix}3 & -4 \\\\ 4 & 3 \\end{pmatrix} $"
      ]
    },
    {
      "cell_type": "markdown",
      "metadata": {
        "id": "cyRuBt7HEV3e"
      },
      "source": [
        "Find the solution of the following system $A\\vec{x} = \\vec{b}$"
      ]
    },
    {
      "cell_type": "markdown",
      "metadata": {
        "id": "hUF9vfJ2EV3f"
      },
      "source": [
        "$\\vec{b} = \\begin{pmatrix}1 \\\\ 2 \\\\ 3 \\\\ 4 \\end{pmatrix}$"
      ]
    },
    {
      "cell_type": "code",
      "metadata": {
        "id": "RoK3kM4OEV3f",
        "colab": {
          "base_uri": "https://localhost:8080/"
        },
        "outputId": "f5856d73-fd42-4f94-db1d-b3e4b905923b"
      },
      "source": [
        "A = np.array([[1, 1, 1, 1],[1,1,-1,-1],[1,-1,1,-1],[1,-1,-1,1] ])\n",
        "B = np.array([[2, 0],[0,1],[0,0],[0,0]])\n",
        "C = np.array([[3, -4],[4,3]])\n",
        "A\n",
        "B\n",
        "#matrix is equal to the number of rows of the second matrix  An,m ⇤ Bm,p = Cn,p\n",
        "#filaA = 4 columaA= 4 filaB = 4 columnaB = 2 ---> columnaA = filaB = 4 --> H(4,2)  \n",
        "H = np.dot(A,B)\n",
        "#filaH = 4 columaH= 2 filaC = 2 columnaC = 2 ---> columnaH = filaC = 2 --> I(4,2)  \n",
        "I = np.dot(H,C)\n",
        "I = (0.1)*I\n",
        "b=([1],[2],[3],[4])\n",
        "\n",
        "I\n"
      ],
      "execution_count": null,
      "outputs": [
        {
          "output_type": "execute_result",
          "data": {
            "text/plain": [
              "array([[ 1. , -0.5],\n",
              "       [ 1. , -0.5],\n",
              "       [ 0.2, -1.1],\n",
              "       [ 0.2, -1.1]])"
            ]
          },
          "metadata": {
            "tags": []
          },
          "execution_count": 14
        }
      ]
    },
    {
      "cell_type": "code",
      "metadata": {
        "id": "WxZU6a7mEV3i",
        "colab": {
          "base_uri": "https://localhost:8080/",
          "height": 387
        },
        "outputId": "042f71a7-ab1b-44c3-d366-4081bc8245b5"
      },
      "source": [
        "np.linalg.matrix_rank(I)\n",
        "#Rank de una matrix sera el numero de columnas linealmente independientes\n",
        "#Matrix tiene 4 filas y rank es de 2--> todas las filas no son linealmente  independientes\n",
        "np.linalg.det(I)\n",
        "#No podemos calcular el determinante ya que la matriz no es cuadrada\n",
        "#Condicion necesaria: is n mayor o igual que  m\n",
        "#Condicion suficiente: por lo menos un set de m linealmente independiente\n",
        "#Se cumplen las dos condiciones entonces sabemos que tenemos solucion y no es unica"
      ],
      "execution_count": null,
      "outputs": [
        {
          "output_type": "error",
          "ename": "LinAlgError",
          "evalue": "ignored",
          "traceback": [
            "\u001b[0;31m---------------------------------------------------------------------------\u001b[0m",
            "\u001b[0;31mLinAlgError\u001b[0m                               Traceback (most recent call last)",
            "\u001b[0;32m<ipython-input-16-9b1c12394853>\u001b[0m in \u001b[0;36m<module>\u001b[0;34m()\u001b[0m\n\u001b[1;32m      2\u001b[0m \u001b[0;31m#Rank de una matrix sera el numero de columnas linealmente independientes\u001b[0m\u001b[0;34m\u001b[0m\u001b[0;34m\u001b[0m\u001b[0;34m\u001b[0m\u001b[0m\n\u001b[1;32m      3\u001b[0m \u001b[0;31m#Matrix tiene 4 filas y rank es de 2--> todas las filas no son linealmente  independientes\u001b[0m\u001b[0;34m\u001b[0m\u001b[0;34m\u001b[0m\u001b[0;34m\u001b[0m\u001b[0m\n\u001b[0;32m----> 4\u001b[0;31m \u001b[0mnp\u001b[0m\u001b[0;34m.\u001b[0m\u001b[0mlinalg\u001b[0m\u001b[0;34m.\u001b[0m\u001b[0mdet\u001b[0m\u001b[0;34m(\u001b[0m\u001b[0mI\u001b[0m\u001b[0;34m)\u001b[0m\u001b[0;34m\u001b[0m\u001b[0;34m\u001b[0m\u001b[0m\n\u001b[0m",
            "\u001b[0;32m<__array_function__ internals>\u001b[0m in \u001b[0;36mdet\u001b[0;34m(*args, **kwargs)\u001b[0m\n",
            "\u001b[0;32m/usr/local/lib/python3.6/dist-packages/numpy/linalg/linalg.py\u001b[0m in \u001b[0;36mdet\u001b[0;34m(a)\u001b[0m\n\u001b[1;32m   2111\u001b[0m     \u001b[0ma\u001b[0m \u001b[0;34m=\u001b[0m \u001b[0masarray\u001b[0m\u001b[0;34m(\u001b[0m\u001b[0ma\u001b[0m\u001b[0;34m)\u001b[0m\u001b[0;34m\u001b[0m\u001b[0;34m\u001b[0m\u001b[0m\n\u001b[1;32m   2112\u001b[0m     \u001b[0m_assert_stacked_2d\u001b[0m\u001b[0;34m(\u001b[0m\u001b[0ma\u001b[0m\u001b[0;34m)\u001b[0m\u001b[0;34m\u001b[0m\u001b[0;34m\u001b[0m\u001b[0m\n\u001b[0;32m-> 2113\u001b[0;31m     \u001b[0m_assert_stacked_square\u001b[0m\u001b[0;34m(\u001b[0m\u001b[0ma\u001b[0m\u001b[0;34m)\u001b[0m\u001b[0;34m\u001b[0m\u001b[0;34m\u001b[0m\u001b[0m\n\u001b[0m\u001b[1;32m   2114\u001b[0m     \u001b[0mt\u001b[0m\u001b[0;34m,\u001b[0m \u001b[0mresult_t\u001b[0m \u001b[0;34m=\u001b[0m \u001b[0m_commonType\u001b[0m\u001b[0;34m(\u001b[0m\u001b[0ma\u001b[0m\u001b[0;34m)\u001b[0m\u001b[0;34m\u001b[0m\u001b[0;34m\u001b[0m\u001b[0m\n\u001b[1;32m   2115\u001b[0m     \u001b[0msignature\u001b[0m \u001b[0;34m=\u001b[0m \u001b[0;34m'D->D'\u001b[0m \u001b[0;32mif\u001b[0m \u001b[0misComplexType\u001b[0m\u001b[0;34m(\u001b[0m\u001b[0mt\u001b[0m\u001b[0;34m)\u001b[0m \u001b[0;32melse\u001b[0m \u001b[0;34m'd->d'\u001b[0m\u001b[0;34m\u001b[0m\u001b[0;34m\u001b[0m\u001b[0m\n",
            "\u001b[0;32m/usr/local/lib/python3.6/dist-packages/numpy/linalg/linalg.py\u001b[0m in \u001b[0;36m_assert_stacked_square\u001b[0;34m(*arrays)\u001b[0m\n\u001b[1;32m    211\u001b[0m         \u001b[0mm\u001b[0m\u001b[0;34m,\u001b[0m \u001b[0mn\u001b[0m \u001b[0;34m=\u001b[0m \u001b[0ma\u001b[0m\u001b[0;34m.\u001b[0m\u001b[0mshape\u001b[0m\u001b[0;34m[\u001b[0m\u001b[0;34m-\u001b[0m\u001b[0;36m2\u001b[0m\u001b[0;34m:\u001b[0m\u001b[0;34m]\u001b[0m\u001b[0;34m\u001b[0m\u001b[0;34m\u001b[0m\u001b[0m\n\u001b[1;32m    212\u001b[0m         \u001b[0;32mif\u001b[0m \u001b[0mm\u001b[0m \u001b[0;34m!=\u001b[0m \u001b[0mn\u001b[0m\u001b[0;34m:\u001b[0m\u001b[0;34m\u001b[0m\u001b[0;34m\u001b[0m\u001b[0m\n\u001b[0;32m--> 213\u001b[0;31m             \u001b[0;32mraise\u001b[0m \u001b[0mLinAlgError\u001b[0m\u001b[0;34m(\u001b[0m\u001b[0;34m'Last 2 dimensions of the array must be square'\u001b[0m\u001b[0;34m)\u001b[0m\u001b[0;34m\u001b[0m\u001b[0;34m\u001b[0m\u001b[0m\n\u001b[0m\u001b[1;32m    214\u001b[0m \u001b[0;34m\u001b[0m\u001b[0m\n\u001b[1;32m    215\u001b[0m \u001b[0;32mdef\u001b[0m \u001b[0m_assert_finite\u001b[0m\u001b[0;34m(\u001b[0m\u001b[0;34m*\u001b[0m\u001b[0marrays\u001b[0m\u001b[0;34m)\u001b[0m\u001b[0;34m:\u001b[0m\u001b[0;34m\u001b[0m\u001b[0;34m\u001b[0m\u001b[0m\n",
            "\u001b[0;31mLinAlgError\u001b[0m: Last 2 dimensions of the array must be square"
          ]
        }
      ]
    },
    {
      "cell_type": "code",
      "metadata": {
        "colab": {
          "base_uri": "https://localhost:8080/",
          "height": 268
        },
        "id": "RkyI-FPtoang",
        "outputId": "a85a0686-9a24-468d-b720-a6a0da2ba51c"
      },
      "source": [
        "import matplotlib.pyplot as plt\n",
        "%matplotlib inline\n",
        "#Podemos ver donde estaria la solucion estimada graficando el sitema de ecuaciones\n",
        "\n",
        "x = np.arange(-10, 10)\n",
        "\n",
        "#([[ 1. , -0.5],\n",
        "#  [ 1. , -0.5],\n",
        "#  [ 0.2, -1.1],\n",
        "#  [ 0.2, -1.1]]\n",
        "#Puedo ver mi matrix como un sistema de ecuaciones y \n",
        "#graficarlos para encontrar la solucion approximada\n",
        "\n",
        "y = -0.5*x + 1\n",
        "y1 = -0.5*x + 2\n",
        "y2 = -5.5*x + 15\n",
        "y3 = -5.5*x + 20 \n",
        "\n",
        "plt.figure()\n",
        "plt.plot(x, y)\n",
        "plt.plot(x, y1)\n",
        "plt.plot(x, y2)\n",
        "plt.plot(x, y3)\n",
        "plt.xlim(-2, 10)\n",
        "plt.ylim(-4, 10)\n",
        "\n",
        "# Axes del plot\n",
        "plt.axvline(x=0, color='#A9A9A9')\n",
        "plt.axhline(y=0, color='#A9A9A9')\n",
        "plt.show()\n",
        "plt.close()\n",
        "#Podemos estimar  una solucion alrededor de (3,0)"
      ],
      "execution_count": null,
      "outputs": [
        {
          "output_type": "display_data",
          "data": {
            "image/png": "[encoded data removed]",
            "text/plain": [
              "<Figure size 432x288 with 1 Axes>"
            ]
          },
          "metadata": {
            "tags": [],
            "needs_background": "light"
          }
        }
      ]
    },
    {
      "cell_type": "markdown",
      "metadata": {
        "id": "IeI4iRCTLf3M"
      },
      "source": [
        "## **Optional**\n",
        "\n",
        "Create a function that, given a vector **$v_1$**, computes the Euclidean norm of the vector (norm 2). Compare the result with the numpy function "
      ]
    },
    {
      "cell_type": "code",
      "metadata": {
        "id": "zEUDfOBLEV3l"
      },
      "source": [
        "# Euclidean norm: Simply the Euclidean distance between the origin and the point\n",
        "#∥x∥2=(∑ix2i)1/2"
      ],
      "execution_count": null,
      "outputs": []
    },
    {
      "cell_type": "code",
      "metadata": {
        "colab": {
          "base_uri": "https://localhost:8080/"
        },
        "id": "mYBx-jtsk466",
        "outputId": "119ad8d1-b48f-48ab-d1fb-a21af1cbba45"
      },
      "source": [
        "v1 = np.array([1, 4, 1, 3])\n",
        "\n",
        "#definimoa una funcion que tiene como input un vector\n",
        "def NormaEuclidean(v1):\n",
        "  #Definimos la variable norma\n",
        "    norma2 = 0\n",
        "    #Creamos un loop que recorre el vector\n",
        "    for i in v1:\n",
        "        # A cada elemento de mi vector lo elevo al cuadrado\n",
        "        #Luego sumo uno a unos los elementos al cuadrao y los almaceno en la variable norma\n",
        "        norma2 += i**2\n",
        "    #Una vez que he recorrido todos los elementos e mi vector le aplico raiz cuadrada\n",
        "    norma2 =  norma2**0.5  \n",
        "    #Devuelvo el resultado de la norma    \n",
        "    return norma2\n",
        " \n",
        "\n",
        "print(NormaEuclidean(v1))\n",
        "np.linalg.norm(v1, 2)\n",
        "\n"
      ],
      "execution_count": null,
      "outputs": [
        {
          "output_type": "stream",
          "text": [
            "5.196152422706632\n"
          ],
          "name": "stdout"
        },
        {
          "output_type": "execute_result",
          "data": {
            "text/plain": [
              "5.196152422706632"
            ]
          },
          "metadata": {
            "tags": []
          },
          "execution_count": 49
        }
      ]
    }
  ]
}