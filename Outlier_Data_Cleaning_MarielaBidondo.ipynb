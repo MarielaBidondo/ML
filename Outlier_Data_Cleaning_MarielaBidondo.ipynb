{
  "nbformat": 4,
  "nbformat_minor": 0,
  "metadata": {
    "kernelspec": {
      "display_name": "Python 3",
      "language": "python",
      "name": "python3"
    },
    "language_info": {
      "codemirror_mode": {
        "name": "ipython",
        "version": 3
      },
      "file_extension": ".py",
      "mimetype": "text/x-python",
      "name": "python",
      "nbconvert_exporter": "python",
      "pygments_lexer": "ipython3",
      "version": "3.7.3"
    },
    "colab": {
      "name": "Outlier_Data_Cleaning-MarielaBidondo.ipynb",
      "provenance": []
    }
  },
  "cells": [
    {
      "cell_type": "markdown",
      "metadata": {
        "id": "GYVxwU03aL1V"
      },
      "source": [
        "# Outliers \n",
        "\n",
        "An outlier is an observation in the data set that is distant from all other observations, therefore it is outside the general distribution of the dataset. \n",
        "They can occur for different reasons: \n",
        "\n",
        "Human errors \n",
        "Measurement errors \n",
        "Experimental errors \n",
        "Intentional to detect outliers\n",
        "Data processing errors \n",
        "Data extraction errors\n",
        "Natural outliers\n"
      ]
    },
    {
      "cell_type": "code",
      "metadata": {
        "id": "u-i4gEdZaL1X"
      },
      "source": [
        "import numpy as np\n",
        "\n",
        "import pandas as pd   \n",
        "import matplotlib.pyplot as plt\n",
        "from scipy import stats\n",
        "\n",
        "price=np.array([80,71,79,61,78,73,77,74,76,75,160,79,80,78,75,78,86,80,75,82,69,100,72,74,75,180,72,71,120])\n",
        "price_df=pd.DataFrame(price)\n",
        "price_df.columns=['price']"
      ],
      "execution_count": null,
      "outputs": []
    },
    {
      "cell_type": "markdown",
      "metadata": {
        "id": "wxJ7DYKJaL1Y"
      },
      "source": [
        "**Outlier Identification**\n",
        "\n",
        "There can be many reasons for the presence of outliers in the data. Sometimes the outliers may be genuine, while in other cases, they could exist because of data entry errors. It is important to understand the reasons for the outliers before cleaning them.\n",
        "\n",
        "We will start the process of finding outliers by running the summary statistics on the variables. This is done using the describe() function below, which provides a statistical summary of all the quantitative variables."
      ]
    },
    {
      "cell_type": "code",
      "metadata": {
        "colab": {
          "base_uri": "https://localhost:8080/",
          "height": 297
        },
        "id": "ZmdIjU6naL1Z",
        "outputId": "9518fb78-2f4f-4bae-9416-96c05b3aad29"
      },
      "source": [
        "price_df.describe()"
      ],
      "execution_count": null,
      "outputs": [
        {
          "output_type": "execute_result",
          "data": {
            "text/html": [
              "<div>\n",
              "<style scoped>\n",
              "    .dataframe tbody tr th:only-of-type {\n",
              "        vertical-align: middle;\n",
              "    }\n",
              "\n",
              "    .dataframe tbody tr th {\n",
              "        vertical-align: top;\n",
              "    }\n",
              "\n",
              "    .dataframe thead th {\n",
              "        text-align: right;\n",
              "    }\n",
              "</style>\n",
              "<table border=\"1\" class=\"dataframe\">\n",
              "  <thead>\n",
              "    <tr style=\"text-align: right;\">\n",
              "      <th></th>\n",
              "      <th>price</th>\n",
              "    </tr>\n",
              "  </thead>\n",
              "  <tbody>\n",
              "    <tr>\n",
              "      <th>count</th>\n",
              "      <td>29.000000</td>\n",
              "    </tr>\n",
              "    <tr>\n",
              "      <th>mean</th>\n",
              "      <td>84.482759</td>\n",
              "    </tr>\n",
              "    <tr>\n",
              "      <th>std</th>\n",
              "      <td>25.973366</td>\n",
              "    </tr>\n",
              "    <tr>\n",
              "      <th>min</th>\n",
              "      <td>61.000000</td>\n",
              "    </tr>\n",
              "    <tr>\n",
              "      <th>25%</th>\n",
              "      <td>74.000000</td>\n",
              "    </tr>\n",
              "    <tr>\n",
              "      <th>50%</th>\n",
              "      <td>77.000000</td>\n",
              "    </tr>\n",
              "    <tr>\n",
              "      <th>75%</th>\n",
              "      <td>80.000000</td>\n",
              "    </tr>\n",
              "    <tr>\n",
              "      <th>max</th>\n",
              "      <td>180.000000</td>\n",
              "    </tr>\n",
              "  </tbody>\n",
              "</table>\n",
              "</div>"
            ],
            "text/plain": [
              "            price\n",
              "count   29.000000\n",
              "mean    84.482759\n",
              "std     25.973366\n",
              "min     61.000000\n",
              "25%     74.000000\n",
              "50%     77.000000\n",
              "75%     80.000000\n",
              "max    180.000000"
            ]
          },
          "metadata": {
            "tags": []
          },
          "execution_count": 154
        }
      ]
    },
    {
      "cell_type": "markdown",
      "metadata": {
        "id": "1xwkvn3NaL1Z"
      },
      "source": [
        "**Identifying Outliers with Skewness**\n",
        "\n",
        "Several machine learning algorithms make the assumption that the data follow a normal (or Gaussian) distribution. This is easy to check with the skewness value, which explains the extent to which the data is normally distributed. Ideally, the skewness value should be between -1 and +1, and any major deviation from this range indicates the presence of extreme values.\n"
      ]
    },
    {
      "cell_type": "code",
      "metadata": {
        "colab": {
          "base_uri": "https://localhost:8080/"
        },
        "id": "CndPyS6qaL1a",
        "outputId": "ac109f07-8240-4f0c-9ef8-53ecfe561088"
      },
      "source": [
        "print(price_df['price'].skew())\n",
        "price_df['price'].describe()"
      ],
      "execution_count": null,
      "outputs": [
        {
          "output_type": "stream",
          "text": [
            "-0.23807135789871647\n"
          ],
          "name": "stdout"
        },
        {
          "output_type": "execute_result",
          "data": {
            "text/plain": [
              "count    29.000000\n",
              "mean     76.310345\n",
              "std       2.817084\n",
              "min      71.000000\n",
              "25%      75.000000\n",
              "50%      77.000000\n",
              "75%      78.000000\n",
              "max      82.000000\n",
              "Name: price, dtype: float64"
            ]
          },
          "metadata": {
            "tags": []
          },
          "execution_count": 179
        }
      ]
    },
    {
      "cell_type": "markdown",
      "metadata": {
        "id": "OqdKFgrKaL1a"
      },
      "source": [
        "**Identifying Outliers with Visualization**\n",
        "\n",
        "In the previous section, we used quantitative methods for outlier identification. This can also be achieved with visualization. Some of the common plots used for outlier detection are discussed below.\n",
        "\n",
        "1. Box Plot\n",
        "\n",
        "The box plot is a standardized way of displaying the distribution of data based on the five-number summary (minimum, first quartile (Q1), median, third quartile (Q3), and maximum). It is often used to identify data distribution and detect outliers. "
      ]
    },
    {
      "cell_type": "code",
      "metadata": {
        "colab": {
          "base_uri": "https://localhost:8080/",
          "height": 265
        },
        "id": "Ey2mZOCtaL1b",
        "outputId": "e370bde9-f68e-4a07-87ec-5e1302729d0c"
      },
      "source": [
        "plt.boxplot(price_df[\"price\"])\n",
        "plt.show()"
      ],
      "execution_count": null,
      "outputs": [
        {
          "output_type": "display_data",
          "data": {
            "image/png": "[encoded data removed]",
            "text/plain": [
              "<Figure size 432x288 with 1 Axes>"
            ]
          },
          "metadata": {
            "tags": [],
            "needs_background": "light"
          }
        }
      ]
    },
    {
      "cell_type": "markdown",
      "metadata": {
        "id": "w8n8CjofaL1b"
      },
      "source": [
        "2. Histogram\n",
        "\n",
        "A histogram is used to visualize the distribution of a numerical variable. An outlier will appear outside the overall pattern of distribution. "
      ]
    },
    {
      "cell_type": "code",
      "metadata": {
        "colab": {
          "base_uri": "https://localhost:8080/",
          "height": 333
        },
        "id": "RhheZTAYaL1c",
        "outputId": "9d0f0dc8-c094-4f73-e1c8-e0ae8d564896"
      },
      "source": [
        "plt.hist(price_df[\"price\"])"
      ],
      "execution_count": null,
      "outputs": [
        {
          "output_type": "execute_result",
          "data": {
            "text/plain": [
              "(array([ 6., 18.,  1.,  1.,  1.,  0.,  0.,  0.,  1.,  1.]),\n",
              " array([ 61. ,  72.9,  84.8,  96.7, 108.6, 120.5, 132.4, 144.3, 156.2,\n",
              "        168.1, 180. ]),\n",
              " <a list of 10 Patch objects>)"
            ]
          },
          "metadata": {
            "tags": []
          },
          "execution_count": 157
        },
        {
          "output_type": "display_data",
          "data": {
            "image/png": "[encoded data removed]",
            "text/plain": [
              "<Figure size 432x288 with 1 Axes>"
            ]
          },
          "metadata": {
            "tags": [],
            "needs_background": "light"
          }
        }
      ]
    },
    {
      "cell_type": "markdown",
      "metadata": {
        "id": "Hr_bZncoaL1c"
      },
      "source": [
        "**Identifying Outliers with Interquartile Range (IQR)**\n",
        "The interquartile range (IQR) is a measure of statistical dispersion and is calculated as the difference between the 75th and 25th percentiles. It is represented by the formula IQR = Q3 − Q1. The lines of code below calculate and print the interquartile range for each of the variables in the dataset."
      ]
    },
    {
      "cell_type": "code",
      "metadata": {
        "colab": {
          "base_uri": "https://localhost:8080/"
        },
        "id": "ofdMkY8HaL1d",
        "outputId": "449b29ba-4346-4040-99db-fd54239df414"
      },
      "source": [
        "Q1=price_df.quantile(0.25)\n",
        "Q3=price_df.quantile(0.75)\n",
        "IQR=Q3-Q1\n",
        "lowqe_bound=Q1 - 1.5 * IQR\n",
        "upper_bound=Q3 + 1.5 * IQR\n",
        "print(lowqe_bound,upper_bound)"
      ],
      "execution_count": null,
      "outputs": [
        {
          "output_type": "stream",
          "text": [
            "price    65.0\n",
            "dtype: float64 price    89.0\n",
            "dtype: float64\n"
          ],
          "name": "stdout"
        }
      ]
    },
    {
      "cell_type": "code",
      "metadata": {
        "colab": {
          "base_uri": "https://localhost:8080/"
        },
        "id": "Ci5V0MctaL1d",
        "outputId": "403d6770-cbed-408e-99dd-6d2a126f0dad"
      },
      "source": [
        "price_df.shape"
      ],
      "execution_count": null,
      "outputs": [
        {
          "output_type": "execute_result",
          "data": {
            "text/plain": [
              "(29, 1)"
            ]
          },
          "metadata": {
            "tags": []
          },
          "execution_count": 49
        }
      ]
    },
    {
      "cell_type": "code",
      "metadata": {
        "colab": {
          "base_uri": "https://localhost:8080/"
        },
        "id": "Bw_YPoLoaL1e",
        "outputId": "fcdf8082-c791-471c-ccba-ce9ee4d2786b"
      },
      "source": [
        "price_df[~((price_df < lowqe_bound) |(price_df > upper_bound)).any(axis=1)].shape"
      ],
      "execution_count": null,
      "outputs": [
        {
          "output_type": "execute_result",
          "data": {
            "text/plain": [
              "(24, 1)"
            ]
          },
          "metadata": {
            "tags": []
          },
          "execution_count": 105
        }
      ]
    },
    {
      "cell_type": "markdown",
      "metadata": {
        "id": "PBCccMJWaL1e"
      },
      "source": [
        "# Exercises \n",
        "\n",
        "## Exercise 1\n",
        "\n",
        "\n",
        "-a. Quantile-based Flooring and Capping: In this technique, we will do the flooring (e.g., the 10th percentile) for the lower values and capping (e.g., the 90th percentile) for the higher values. Apply this approach to the previous dataset\n",
        "\n",
        "-b. Trimming: In this method, we completely remove data points that are outliers by the filters you consider\n",
        "\n",
        "-c. Log Transformation: Apply log transformation to this dataset and represent a histogram to see the shape of the distribution\n",
        "\n",
        "-d. Replacing Outliers with Median values \n",
        "\n"
      ]
    },
    {
      "cell_type": "code",
      "metadata": {
        "colab": {
          "base_uri": "https://localhost:8080/",
          "height": 581
        },
        "id": "LXgGuYVoaL1e",
        "outputId": "50998ac4-3afb-48e9-83c6-b555cd88b03e"
      },
      "source": [
        "#Answer here\n",
        "#A\n",
        "print(price_df['price'].quantile(0.10))\n",
        "print(price_df['price'].quantile(0.90))\n",
        "plt.boxplot(price_df[\"price\"])\n",
        "plt.show()\n",
        "#En este scenario calculamos los valores que estan en los extremos y luego los remplazamos en el data set\n",
        "print('skew antes:',price_df['price'].skew())\n",
        "#Podemos observar como Skew se aproxima mas al valor deseado\n",
        "price_df['price'] = np.where(price_df['price'] <71.0, 71.0,price_df['price'])\n",
        "price_df['price'] = np.where(price_df['price'] >104.0, 104.0,price_df['price'])\n",
        "print('skew despues:',price_df['price'].skew())\n",
        "plt.boxplot(price_df[\"price\"])\n",
        "plt.show()\n"
      ],
      "execution_count": null,
      "outputs": [
        {
          "output_type": "stream",
          "text": [
            "71.0\n",
            "103.99999999999999\n"
          ],
          "name": "stdout"
        },
        {
          "output_type": "display_data",
          "data": {
            "image/png": "[encoded data removed]",
            "text/plain": [
              "<Figure size 432x288 with 1 Axes>"
            ]
          },
          "metadata": {
            "tags": [],
            "needs_background": "light"
          }
        },
        {
          "output_type": "stream",
          "text": [
            "skew antes: 2.879976198725263\n",
            "skew despues: 1.6981934852162943\n"
          ],
          "name": "stdout"
        },
        {
          "output_type": "display_data",
          "data": {
            "image/png": "[encoded data removed]",
            "text/plain": [
              "<Figure size 432x288 with 1 Axes>"
            ]
          },
          "metadata": {
            "tags": [],
            "needs_background": "light"
          }
        }
      ]
    },
    {
      "cell_type": "code",
      "metadata": {
        "colab": {
          "base_uri": "https://localhost:8080/",
          "height": 530
        },
        "id": "0kxduzinaL1f",
        "outputId": "269eac46-5609-41e7-f308-abe178abeba5"
      },
      "source": [
        "#Answer here\n",
        "#B\n",
        "#En esta forma elegi,os arbitrariamente los numeros aue eliminaremos del set\n",
        "plt.boxplot(price_df[\"price\"])\n",
        "plt.show()\n",
        "#Como no tenemos mayor informacion de la data, podriamos mirar en boxplot los \n",
        "#elementos que podriamos considerar outliers and remove them from the set\n",
        "index = price_df[(price_df['price'] >= 90)|(price_df['price'] <= 70)].index\n",
        "price_df.drop(index, inplace=True)\n",
        "#Vemos como skew mejora al igual que la grafica de boxplot\n",
        "print('skew despues:',price_df['price'].skew())\n",
        "plt.boxplot(price_df[\"price\"])\n",
        "plt.show()\n"
      ],
      "execution_count": null,
      "outputs": [
        {
          "output_type": "display_data",
          "data": {
            "image/png": "[encoded data removed]",
            "text/plain": [
              "<Figure size 432x288 with 1 Axes>"
            ]
          },
          "metadata": {
            "tags": [],
            "needs_background": "light"
          }
        },
        {
          "output_type": "stream",
          "text": [
            "0.532736268156429\n"
          ],
          "name": "stdout"
        },
        {
          "output_type": "display_data",
          "data": {
            "image/png": "[encoded data removed]",
            "text/plain": [
              "<Figure size 432x288 with 1 Axes>"
            ]
          },
          "metadata": {
            "tags": [],
            "needs_background": "light"
          }
        }
      ]
    },
    {
      "cell_type": "code",
      "metadata": {
        "colab": {
          "base_uri": "https://localhost:8080/",
          "height": 299
        },
        "id": "WNzrpGG5aL1f",
        "outputId": "40b1961d-d73f-4cf2-83d2-7e8a8e6899f3"
      },
      "source": [
        "#Answer here\n",
        "#C\n",
        "print('skew antes:',price_df['price'].skew())\n",
        "#Podemos observar como Skew se aproxima mas al valor deseado\n",
        "price_df['price'] = price_df['price'].map(lambda i: np.log(i) if i > 0 else 0) \n",
        "plt.hist(price_df['price'])\n",
        "print('skew despues:',price_df['price'].skew())\n",
        "#En este caso la mejora no es muy significativa, pero podemos ver una leve mejora\n"
      ],
      "execution_count": null,
      "outputs": [
        {
          "output_type": "stream",
          "text": [
            "skew antes: 2.879976198725263\n",
            "skew despues: 2.4169251427813068\n"
          ],
          "name": "stdout"
        },
        {
          "output_type": "display_data",
          "data": {
            "image/png": "[encoded data removed]",
            "text/plain": [
              "<Figure size 432x288 with 1 Axes>"
            ]
          },
          "metadata": {
            "tags": [],
            "needs_background": "light"
          }
        }
      ]
    },
    {
      "cell_type": "code",
      "metadata": {
        "id": "B5h-WEaaaL1f",
        "colab": {
          "base_uri": "https://localhost:8080/",
          "height": 887
        },
        "outputId": "ae434399-badc-4219-cd96-3754f200230a"
      },
      "source": [
        "#Answer here\n",
        "#D\n",
        "print(price_df.describe()) \n",
        "#Podemos ver que la media es 77, remplazaremos los outliers con este valor\n",
        "print(price_df['price'].quantile(0.85)) \n",
        "print(price_df['price'].quantile(0.15)) \n",
        "plt.boxplot(price_df[\"price\"])\n",
        "plt.show()\n",
        "# Podemos variar el rango a seleccionar en este caso \n",
        "print('skew antes:',price_df['price'].skew())\n",
        "#Podemos observar como Skew se aproxima mas al valor deseado\n",
        "price_df['price'] = np.where(price_df['price'] <72.0, 77.0,price_df['price'])\n",
        "price_df['price'] = np.where(price_df['price'] >85.0, 77.0,price_df['price'])\n",
        "print('skew despues:',price_df['price'].skew())\n",
        "\n",
        "#Hemos eliminado los outliers \n",
        "plt.boxplot(price_df[\"price\"])\n",
        "plt.show()\n",
        "print(price_df.describe()) "
      ],
      "execution_count": null,
      "outputs": [
        {
          "output_type": "stream",
          "text": [
            "            price\n",
            "count   29.000000\n",
            "mean    84.482759\n",
            "std     25.973366\n",
            "min     61.000000\n",
            "25%     74.000000\n",
            "50%     77.000000\n",
            "75%     80.000000\n",
            "max    180.000000\n",
            "85.20000000000002\n",
            "72.0\n"
          ],
          "name": "stdout"
        },
        {
          "output_type": "display_data",
          "data": {
            "image/png": "[encoded data removed]",
            "text/plain": [
              "<Figure size 432x288 with 1 Axes>"
            ]
          },
          "metadata": {
            "tags": [],
            "needs_background": "light"
          }
        },
        {
          "output_type": "stream",
          "text": [
            "skew antes: 2.879976198725263\n",
            "skew despues: -0.11459162906903701\n"
          ],
          "name": "stdout"
        },
        {
          "output_type": "display_data",
          "data": {
            "image/png": "[encoded data removed]",
            "text/plain": [
              "<Figure size 432x288 with 1 Axes>"
            ]
          },
          "metadata": {
            "tags": [],
            "needs_background": "light"
          }
        },
        {
          "output_type": "stream",
          "text": [
            "           price\n",
            "count  29.000000\n",
            "mean   76.724138\n",
            "std     2.403815\n",
            "min    72.000000\n",
            "25%    75.000000\n",
            "50%    77.000000\n",
            "75%    78.000000\n",
            "max    82.000000\n"
          ],
          "name": "stdout"
        }
      ]
    }
  ]
}