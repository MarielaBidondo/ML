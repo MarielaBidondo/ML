{
  "nbformat": 4,
  "nbformat_minor": 0,
  "metadata": {
    "colab": {
      "name": "Ejercicios_Primer_Fin_de_Semana_MarielaBidondo.ipynb",
      "provenance": [],
      "collapsed_sections": [],
      "toc_visible": true
    },
    "kernelspec": {
      "name": "python3",
      "display_name": "Python 3"
    }
  },
  "cells": [
    {
      "cell_type": "code",
      "metadata": {
        "id": "VX2lcsPh0aTP"
      },
      "source": [
        ""
      ],
      "execution_count": null,
      "outputs": []
    },
    {
      "cell_type": "markdown",
      "metadata": {
        "id": "JbyRE6Oj0axG"
      },
      "source": [
        "# Ejercicios para casa de los 4 primeros módulos.\n",
        "\n",
        "1.. Escribir un programa que pregunte al usuario por el número de horas trabajadas y el coste por hora. Después debe mostrar por pantalla la paga que le corresponde."
      ]
    },
    {
      "cell_type": "code",
      "metadata": {
        "id": "t4ipHyFe0p-0",
        "colab": {
          "base_uri": "https://localhost:8080/",
          "height": 70
        },
        "outputId": "c74931aa-d0ec-4480-f9d2-ab9e16e58ca9"
      },
      "source": [
        "try:\n",
        "  horasTrabajadas = float(input(\"Horas trabajadas:\"))\n",
        "  costePH = float(input(\"Coste por hora €:\"))\n",
        "  print(\"Paga correspondiente  €: \", (round((horasTrabajadas*costePH),2)))\n",
        "except:\n",
        "  print(\"Ingresa un numero por favor!\")\n"
      ],
      "execution_count": null,
      "outputs": [
        {
          "output_type": "stream",
          "text": [
            "Horas trabajadas:3\n",
            "Coste por hora €:s\n",
            "Ingresa un numero por favor!\n"
          ],
          "name": "stdout"
        }
      ]
    },
    {
      "cell_type": "markdown",
      "metadata": {
        "id": "S8S2G9JV0qgM"
      },
      "source": [
        "2.. Una panadería vende barras de pan a 3.49€ cada una. El pan que no es el día tiene un descuento del 60%. Escribe un programa que comience leyendo el número de barras vendidas que no son del día. Después tu programa debe mostrar el precio habitual de una barra de pan, el descuento que se le hace por no ser fresca y el coste final total."
      ]
    },
    {
      "cell_type": "code",
      "metadata": {
        "id": "iyDd3jyP0sJF",
        "colab": {
          "base_uri": "https://localhost:8080/",
          "height": 87
        },
        "outputId": "1398e135-2b6e-48ce-da5f-61d5982dcf82"
      },
      "source": [
        "barrasDePanCoste = 3.49\n",
        "try:\n",
        "  barrasDePanNoDelDia = int(input(\"Número de barras vendidas que no son del día:\"))\n",
        "  print(\"Precio un pan: \", barrasDePanCoste , \" €\")\n",
        "  print(\"Descuento 60% : -\", round((barrasDePanCoste*0.6),2) , \" €\")\n",
        "  print(\"Coste Final : \", round((barrasDePanNoDelDia*barrasDePanCoste*0.4),2), \" €\")\n",
        "except:\n",
        "  print(\"Ingresa un numero por favor!\")\n"
      ],
      "execution_count": null,
      "outputs": [
        {
          "output_type": "stream",
          "text": [
            "Número de barras vendidas que no son del día:7\n",
            "Precio un pan:  3.49  €\n",
            "Descuento 60% : - 2.09  €\n",
            "Coste Final :  9.77  €\n"
          ],
          "name": "stdout"
        }
      ]
    },
    {
      "cell_type": "markdown",
      "metadata": {
        "id": "UdF4VqTq063F"
      },
      "source": [
        "3.. Para tributar un determinado impuesto se debe ser mayor de 16 años y tener unos ingresos iguales o superiores a 1000 € mensuales. Escribir un programa que pregunte al usuario su edad y sus ingresos mensuales y muestre por pantalla si el usuario tiene que tributar o no.\n",
        "\n",
        "\n"
      ]
    },
    {
      "cell_type": "code",
      "metadata": {
        "id": "O479MRLZ06As",
        "colab": {
          "base_uri": "https://localhost:8080/",
          "height": 70
        },
        "outputId": "4024faee-2386-4827-84a0-12e27175ff22"
      },
      "source": [
        "try:\n",
        "  edad = float(input(\"Edad :\"))\n",
        "  ingresos = float(input(\"Ingresos(€):\") )\n",
        "  if edad > 16 and ingresos >= 1000:\n",
        "    print(\"Es necesario tributar !\" )\n",
        "  else:\n",
        "     print(\"No es necesario tributar !\" )\n",
        "except:\n",
        "  print(\"Ingresa un numero por favor!\")"
      ],
      "execution_count": null,
      "outputs": [
        {
          "output_type": "stream",
          "text": [
            "Edad :15.999999\n",
            "Ingresos(€):1237129371\n",
            "No es necesario tributar !\n"
          ],
          "name": "stdout"
        }
      ]
    },
    {
      "cell_type": "markdown",
      "metadata": {
        "id": "TAhpgVqn1E6m"
      },
      "source": [
        "4.. Los alumnos de un curso se han dividido en dos grupos A y B de acuerdo al sexo y el nombre. El grupo A esta formado por las mujeres con un nombre anterior a la M y los hombres con un nombre posterior a la N y el grupo B por el resto. Escribir un programa que pregunte al usuario su nombre y sexo, y muestre por pantalla el grupo que le corresponde."
      ]
    },
    {
      "cell_type": "code",
      "metadata": {
        "id": "JPM2TCRS1Gi1",
        "colab": {
          "base_uri": "https://localhost:8080/",
          "height": 70
        },
        "outputId": "7e4dee4d-3124-44d2-fedc-1bc790b95558"
      },
      "source": [
        "nombre =str(input(\"Nombre :\"))\n",
        "sexo = input(\"Sexo (F/M):\")\n",
        "sexo = sexo.upper()\n",
        "if ((sexo == \"M\") or (sexo == \"F\")):\n",
        "  if ((sexo == \"M\" and nombre.upper() < 'M') or (sexo == \"F\" and nombre.upper() > 'N')) :\n",
        "    print(\"Tu grupo es A !\" )\n",
        "  else:\n",
        "    print(\"Tu grupo es B !\" )\n",
        "else:\n",
        "  print(\"Ingresa F or M por favor\" )\n",
        "\n",
        " "
      ],
      "execution_count": null,
      "outputs": [
        {
          "output_type": "stream",
          "text": [
            "Nombre :Juan\n",
            "Sexo (F/M):M\n",
            "Tu grupo es A !\n"
          ],
          "name": "stdout"
        }
      ]
    },
    {
      "cell_type": "markdown",
      "metadata": {
        "id": "U8upzM-t5U-O"
      },
      "source": [
        ""
      ]
    },
    {
      "cell_type": "markdown",
      "metadata": {
        "id": "dRyfIxDS1Pv0"
      },
      "source": [
        "5.. En una determinada empresa, sus empleados son evaluados al final de cada año. Los puntos que pueden obtener en la evaluación comienzan en 0.0 y pueden ir aumentando, traduciéndose en mejores beneficios. Los puntos que pueden conseguir los empleados pueden ser 0.0, 0.4, 0.6 o más, pero no valores intermedios entre las cifras mencionadas. A continuación se muestra una tabla con los niveles correspondientes a cada puntuación. La cantidad de dinero conseguida en cada nivel es de 2.400€ multiplicada por la puntuación del nivel.\n",
        "\n",
        "Nivel\tPuntuación\n",
        "\n",
        "Inaceptable\t0.0\n",
        "\n",
        "Aceptable\t0.4\n",
        "\n",
        "Meritorio\t0.6 o más\n",
        "\n",
        "\n",
        "\n",
        "Escribir un programa que lea la puntuación del usuario e indique su nivel de rendimiento, así como la cantidad de dinero que recibirá el usuario."
      ]
    },
    {
      "cell_type": "code",
      "metadata": {
        "id": "oWTbpb7i1xjV",
        "colab": {
          "base_uri": "https://localhost:8080/",
          "height": 70
        },
        "outputId": "a1e96431-81f0-40dc-afdc-b12b8cce6db6"
      },
      "source": [
        "try:\n",
        "  dineroPNivel = 2400\n",
        "  nivelPDicc = { 0.0 : \"inaceptable\", 0.4 : \"acceptable\", 0.6 : \"meritorio\"}\n",
        "  puntuacion = float(input(\"Puntuacion :\"))\n",
        "  if puntuacion <= 0.6:\n",
        "    nivelP = nivelPDicc[puntuacion] \n",
        "  else:\n",
        "    nivelP = \"meritorio\"\n",
        "  print( \"Rendimeinto : \", nivelP , '\\n', \"Cantidad de dinero a recibir (€):\", dineroPNivel*puntuacion)\n",
        "except:\n",
        " print( \"Por favor ingresa un valor valido con formato 0.0 o mayor a 0.6, esto es un error!\")"
      ],
      "execution_count": null,
      "outputs": [
        {
          "output_type": "stream",
          "text": [
            "Puntuacion :0.6\n",
            "Rendimeinto :  meritorio \n",
            " Cantidad de dinero a recibir (€): 1440.0\n"
          ],
          "name": "stdout"
        }
      ]
    },
    {
      "cell_type": "markdown",
      "metadata": {
        "id": "5T3cgXa-14gk"
      },
      "source": [
        "6.. La pizzería Bella Napoli ofrece pizzas vegetarianas y no vegetarianas a sus clientes. Los ingredientes para cada tipo de pizza aparecen a continuación.\n",
        "\n",
        "\n",
        "Ingredientes vegetarianos: Pimiento y tofu.\n",
        "\n",
        "Ingredientes no vegetarianos: Peperoni, Jamón y Salmón.\n",
        "\n",
        "Escribir un programa que pregunte al usuario si quiere una pizza vegetariana o no, y en función de su respuesta le muestre un menú con los ingredientes disponibles para que elija. Solo se puede eligir un ingrediente además de la mozzarella y el tomate que están en todas la pizzas. Al final se debe mostrar por pantalla si la pizza elegida es vegetariana o no y todos los ingredientes que lleva."
      ]
    },
    {
      "cell_type": "code",
      "metadata": {
        "id": "D_V1jXxW2AM8",
        "colab": {
          "base_uri": "https://localhost:8080/",
          "height": 87
        },
        "outputId": "9c610842-b426-49bb-fabf-e937247ee841"
      },
      "source": [
        "pizzaV = (input(\"Bienvenido a pizzería Bella Napoli Le gustaria una pizza vegetariana S/N?:\"))\n",
        "extraVeg = ['Pimiento','Tofu']\n",
        "extraNoVeg =['Peperoni', 'Jamón','Salmón']\n",
        "ingredienteExtra =\"\"\n",
        "pizzaV = pizzaV.upper()\n",
        "if ((pizzaV == \"S\") or (pizzaV == \"N\")):\n",
        "  print(\"Su pizza tiene tomate y mozzarella y puede elegir solo un ingrediente mas: \")\n",
        "  if pizzaV == \"S\":\n",
        "    pizzaT = \"Vegetariana\"\n",
        "    print(\"Ingredientes disponibles:\", extraVeg)\n",
        "    try:\n",
        "      ingredienteExtra = int(input(\"Ingrese 1 para pimiento, ingrese 2 para tofu\"))\n",
        "      print(\"Los ingredientes en su pizza son tomate, mozzarella y \" + extraVeg[ingredienteExtra- 1] )\n",
        "    except:\n",
        "      print(\"Seleccione 1 o 2 por favor, comience de nuevo!!\" )\n",
        "  else:\n",
        "    pizzaT = \"No Vegetariana\" \n",
        "    print(\"Ingredientes disponibles:\", extraNoVeg)\n",
        "    try:\n",
        "      ingredienteExtra = int(input(\"Ingrese 1 para Peperoni, ingrese 2 para Jamon, ingrese 3 para Salmón\"))\n",
        "      print(\"Los ingredientes en su pizza son tomate, mozzarella y \" + extraNoVeg[ingredienteExtra- 1] )\n",
        "    except:\n",
        "      print(\"Seleccione 1, 2 o 3 por favor, comience de nuevo!!\" )   \n",
        "else:\n",
        "  pizzaT = \"No definida\"\n",
        "  print(\"Por favor ingrese S o N !\") \n",
        "\n",
        "print(\"Su pizza es: \" , pizzaT ,'\\n', \"Adios!!\")\n"
      ],
      "execution_count": null,
      "outputs": [
        {
          "output_type": "stream",
          "text": [
            "Bienvenido a pizzería Bella Napoli Le gustaria una pizza vegetariana S/N?:g\n",
            "Por favor ingrese S o N !\n",
            "Su pizza es:  No definida \n",
            " Adios!!\n"
          ],
          "name": "stdout"
        }
      ]
    },
    {
      "cell_type": "markdown",
      "metadata": {
        "id": "_SRO-Wvw2AcF"
      },
      "source": [
        "7.. Escribir un programa que pida al usuario una palabra y luego muestre por pantalla una a una las letras de la palabra introducida empezando por la última."
      ]
    },
    {
      "cell_type": "code",
      "metadata": {
        "id": "nxR2j9842PM8",
        "colab": {
          "base_uri": "https://localhost:8080/"
        },
        "outputId": "cdb73e30-a9af-41de-b940-3abf510da77d"
      },
      "source": [
        "palabra = str(input(\"Please, ingrese una palabra: \"))\n",
        "for i in range(len(palabra)-1, -1, -1):\n",
        "  print(palabra[i])\n",
        " "
      ],
      "execution_count": null,
      "outputs": [
        {
          "output_type": "stream",
          "text": [
            "Please, ingrese una palabra: =\n",
            "=\n"
          ],
          "name": "stdout"
        }
      ]
    },
    {
      "cell_type": "markdown",
      "metadata": {
        "id": "FehOXa5X3Lkl"
      },
      "source": [
        "8.. Un grupo de amigos decide organizar un juego de estrategia, para lo cual forman dos equipos de 6 integrantes cada uno, donde un integrante de cada equipo es el “jefe” y los otros 5 son sus “oficiales”. La regla más importante del juego es que sólo se comunicarán mediante un canal común, por lo que deben buscar la forma de ocultar el contenido de sus mensajes. Uno de los equipos decide utilizar un método antiguo de encriptación llamado “la cifra del césar”, que consiste en correr cada letra del mensaje –considerando la posición de cada una en el alfabeto– una determinada cantidad de lugares. Ejemplo: si el corrimiento es de 2 lugares, la palabra “ATAQUE” se transforma en “CVCSWG”.\n",
        "\n",
        "Cada día, el “jefe” del equipo debe enviar un mensaje a cada uno de sus oficiales. Escribir un programa que permita encriptar los 5 mensajes. El corrimiento (cantidad de lugares que se correrán las letras) será dado por el usuario antes de comenzar a encriptar. Los 5 mensajes usarán el mismo corrimiento.\n",
        "\n",
        "Nota: si el alfabeto termina antes de poder correr la cantidad de lugares necesarios, se vuelve a comenzar desde la letra “a”. Ejemplo: la palabra “EXTRA” corrida 3 lugares se convierte en “HAWUD”. Utilizando el alfabeto español, de 27 letras, el siguiente cálculo matemático permite volver a comenzar por el principio una vez que se llegó a la “z”: (índice de la letra a correr+corrimiento)%27\n",
        "\n",
        "Sólo se encriptarán las letras de los mensajes, dejando al resto de caracteres sin modificación"
      ]
    },
    {
      "cell_type": "code",
      "metadata": {
        "id": "G66-niWb3d6E",
        "colab": {
          "base_uri": "https://localhost:8080/"
        },
        "outputId": "e52802b7-4619-4801-cb49-c3cbb8036840"
      },
      "source": [
        "alfabeto = \"ABCDEFGHIJKLMNÑOPQRSTUVWXYZ\"\n",
        "try:\n",
        "  laCifraDelCesar = int(input(\"Corrimiento: \"))\n",
        "  for i in range(5):\n",
        "    mensaje = input(\"Introduzca su mensaje para el oficial:\" )\n",
        "    mensajeEncriptado=\"\"\n",
        "    for letra in mensaje:\n",
        "        if letra.upper() in alfabeto:\n",
        "          indice = alfabeto.find(letra.upper())\n",
        "          indice = (indice + laCifraDelCesar)%27\n",
        "          mensajeEncriptado += alfabeto[indice]\n",
        "        else:\n",
        "          mensajeEncriptado += letra\n",
        "    print(\"Menssaje Encriptado \", (i +1),\": \", mensajeEncriptado)\n",
        "except:\n",
        "    print(\"Ingresa un corrimiento valido!\")"
      ],
      "execution_count": null,
      "outputs": [
        {
          "output_type": "stream",
          "text": [
            "Corrimiento: -2\n",
            "Introduzca su mensaje para el oficial:aa\n",
            "Menssaje Encriptado  1 :  YY\n",
            "Introduzca su mensaje para el oficial:56456\n",
            "Menssaje Encriptado  2 :  56456\n",
            "Introduzca su mensaje para el oficial:456trgfb\n",
            "Menssaje Encriptado  3 :  456RPEDZ\n",
            "Introduzca su mensaje para el oficial:a\n",
            "Menssaje Encriptado  4 :  Y\n",
            "Introduzca su mensaje para el oficial:b\n",
            "Menssaje Encriptado  5 :  Z\n"
          ],
          "name": "stdout"
        }
      ]
    },
    {
      "cell_type": "markdown",
      "metadata": {
        "id": "qGrQwdiI3gYs"
      },
      "source": [
        "9.. Escribir un programa que guarde en una variable el diccionario {'Euro':'€', 'Dollar':'$', 'Yen':'¥'}, pregunte al usuario por una divisa y muestre su símbolo o un mensaje de aviso si la divisa no está en el diccionario."
      ]
    },
    {
      "cell_type": "code",
      "metadata": {
        "id": "yDuBhnUT3huG",
        "colab": {
          "base_uri": "https://localhost:8080/"
        },
        "outputId": "81b08829-feb6-452c-f668-64c617567f75"
      },
      "source": [
        "divisas = {'Euro':'€', 'Dollar':'$', 'Yen':'¥'}\n",
        "divisa = input(\"Introduce una divisa: \")\n",
        "if divisa in divisas:\n",
        "  print(\"El simbolo de su divisa es:\"+ divisas[divisa])\n",
        "else:\n",
        "  print(\"La divisa no esta en el diccionario\")\n"
      ],
      "execution_count": null,
      "outputs": [
        {
          "output_type": "stream",
          "text": [
            "Introduce una divisa: Euro\n",
            "El simbolo de su divisa es:€\n"
          ],
          "name": "stdout"
        }
      ]
    },
    {
      "cell_type": "markdown",
      "metadata": {
        "id": "R9aQ27wtJTgy"
      },
      "source": [
        ""
      ]
    },
    {
      "cell_type": "markdown",
      "metadata": {
        "id": "3nm5AnOJ3h5V"
      },
      "source": [
        "10.. Escribir un programa que gestione las facturas pendientes de cobro de una empresa. Las facturas se almacenarán en un diccionario donde la clave de cada factura será el número de factura y el valor el coste de la factura.\n",
        "\n",
        "El programa debe preguntar al usuario si quiere añadir una nueva factura, pagar una existente o terminar. Si desea añadir una nueva factura se preguntará por el número de factura y su coste y se añadirá al diccionario. Si se desea pagar una factura se preguntará por el número de factura y se eliminará del diccionario. Después de cada operación el programa debe mostrar por pantalla la cantidad cobrada hasta el momento y la cantidad pendiente de cobro."
      ]
    },
    {
      "cell_type": "code",
      "metadata": {
        "id": "NuU_L3-qNs5j",
        "colab": {
          "base_uri": "https://localhost:8080/"
        },
        "outputId": "4ece5293-1b52-4f2e-e3a9-4a4f302a01ff"
      },
      "source": [
        "facturasD = {}\n",
        "cantidadaCobrada = 0.0\n",
        "cantidadPendiente = 0.0\n",
        "terminar = True\n",
        "while terminar == True:\n",
        "  action = input(\"Selecciona 1 para ingresar una factura, 2 para pagar la factura o 3 para salir\")\n",
        "  try:  \n",
        "    if action == '3':\n",
        "      terminar = False\n",
        "    if action == '1':\n",
        "      facturaN = int(input('Ingresa el número de la factura: '))\n",
        "      coste = float(input('Ingresa el coste de la factura: '))\n",
        "      facturasD[facturaN] = coste\n",
        "      cantidadPendiente += coste\n",
        "    if action == '2':\n",
        "      facturaN = int(input('Ingresa el número de la factura: '))\n",
        "      if facturaN in facturasD:\n",
        "        cantidadaCobrada += facturasD[facturaN] \n",
        "        cantidadPendiente -= facturasD[facturaN] \n",
        "        del facturasD[facturaN]\n",
        "      else:\n",
        "        print(\"Ingresa un valor correcto esta factura no existe!\")\n",
        "    print(\"Cantidad cobrada: \", cantidadaCobrada)\n",
        "    print(\"Cantidad pendiente: \", cantidadPendiente)\n",
        "  except:\n",
        "    print(\"No es correcto!\")\n",
        "    "
      ],
      "execution_count": null,
      "outputs": [
        {
          "output_type": "stream",
          "text": [
            "Selecciona 1 para ingresar una factura, 2 para pagar la factura o 3 para salir2\n",
            "Ingresa el número de la factura: 2\n",
            "Ingresa un valor correcto esta factura no existe!\n",
            "Cantidad cobrada:  0.0\n",
            "Cantidad pendiente:  0.0\n",
            "Selecciona 1 para ingresar una factura, 2 para pagar la factura o 3 para salir12\n",
            "Cantidad cobrada:  0.0\n",
            "Cantidad pendiente:  0.0\n",
            "Selecciona 1 para ingresar una factura, 2 para pagar la factura o 3 para salir1\n",
            "Ingresa el número de la factura: 121\n",
            "Ingresa el coste de la factura: 8765\n",
            "Cantidad cobrada:  0.0\n",
            "Cantidad pendiente:  8765.0\n",
            "Selecciona 1 para ingresar una factura, 2 para pagar la factura o 3 para salir1\n",
            "Ingresa el número de la factura: 23432432\n",
            "Ingresa el coste de la factura: 23\n",
            "Cantidad cobrada:  0.0\n",
            "Cantidad pendiente:  8788.0\n",
            "Selecciona 1 para ingresar una factura, 2 para pagar la factura o 3 para salir2\n",
            "Ingresa el número de la factura: 121\n",
            "Cantidad cobrada:  8765.0\n",
            "Cantidad pendiente:  23.0\n",
            "Selecciona 1 para ingresar una factura, 2 para pagar la factura o 3 para salir1\n",
            "Ingresa el número de la factura: 1211212\n",
            "Ingresa el coste de la factura: 2121\n",
            "Cantidad cobrada:  8765.0\n",
            "Cantidad pendiente:  2144.0\n",
            "Selecciona 1 para ingresar una factura, 2 para pagar la factura o 3 para salir21312312\n",
            "Cantidad cobrada:  8765.0\n",
            "Cantidad pendiente:  2144.0\n",
            "Selecciona 1 para ingresar una factura, 2 para pagar la factura o 3 para salir3\n",
            "Cantidad cobrada:  8765.0\n",
            "Cantidad pendiente:  2144.0\n"
          ],
          "name": "stdout"
        }
      ]
    },
    {
      "cell_type": "markdown",
      "metadata": {
        "id": "fO1n0X-y3qas"
      },
      "source": [
        "Escribir un programa que permita gestionar la base de datos de clientes de una empresa. Los clientes se guardarán en un diccionario en el que la clave de cada cliente será su NIF, y el valor será otro diccionario con los datos del cliente (nombre, dirección, teléfono, correo, preferente), donde preferente tendrá el valor True si se trata de un cliente preferente. El programa debe preguntar al usuario por una opción del siguiente menú:\n",
        "\n",
        "(1) Añadir cliente,\n",
        "\n",
        "(2) Eliminar cliente,\n",
        "\n",
        "(3) Mostrar cliente,\n",
        "\n",
        "(4) Listar todos los clientes,\n",
        "\n",
        "(5) Listar clientes preferentes,\n",
        "\n",
        "(6) Terminar.\n",
        "\n",
        "En función de la opción elegida el programa tendrá que hacer lo siguiente:\n",
        "\n",
        "Preguntar los datos del cliente, crear un diccionario con los datos y añadirlo a la base de datos.\n",
        "\n",
        "Preguntar por el NIF del cliente y eliminar sus datos de la base de datos.\n",
        "\n",
        "Preguntar por el NIF del cliente y mostrar sus datos.\n",
        "\n",
        "Mostrar lista de todos los clientes de la base datos con su NIF y nombre.\n",
        "\n",
        "Mostrar la lista de clientes preferentes de la base de datos con su NIF y nombre.\n",
        "\n",
        "Terminar el programa."
      ]
    },
    {
      "cell_type": "code",
      "metadata": {
        "id": "zoCOkPzFZidk",
        "colab": {
          "base_uri": "https://localhost:8080/"
        },
        "outputId": "3ac15a0d-6c6f-42ef-a3b7-02d647ecbe89"
      },
      "source": [
        "dbClients = {}\n",
        "#nif (nombre, dirección, teléfono, correo, preferente)\n",
        "opcion = \"\"\n",
        "\n",
        "while True:\n",
        "  menu = input(\"Selecciona \\n(1) Añadir cliente\\n(2) Eliminar cliente\\n(3) Mostrar cliente\\n(4) Listar clientes\\n(5) Listar clientes preferentes\\n(6) Terminar\\nElige una opción:\")\n",
        "  if menu == \"1\":\n",
        "    nif = input(\"introduce NIF:\")\n",
        "    nombre = input(\"Nombre:\")\n",
        "    direccion = input(\"direccion:\")\n",
        "    vip = input(\"vip si o no:\")\n",
        "\n",
        "    cliente = {\"nombre\" : nombre, \"direccion\" : direccion ,\"vip\" : vip}\n",
        "    dbClients[nif] = cliente\n",
        "    print(dbClients)\n",
        "\n",
        "  if menu == \"2\":\n",
        "    nif = input(\"nif de client\")\n",
        "    if nif in dbClients:\n",
        "      del dbClients[nif]\n",
        "    else:\n",
        "      print(\"No existe el cliente\", nif)\n",
        "\n",
        "  if menu == \"3\":\n",
        "    nif = input(\"nif de client\")\n",
        "    if nif in dbClients:\n",
        "      print(\"Nif\", nif)\n",
        "      for clave, value in dbClients[nif].items():\n",
        "        print(clave.title() + \":\", value)\n",
        "    else:\n",
        "       print(\"No existe el cliente\", nif)\n",
        "\n",
        "  if menu == \"4\":\n",
        "      print(dbClients)\n",
        "      for clave, value in dbClients.items():\n",
        "            print(clave, value['nombre'])\n",
        "\n",
        "  if menu == \"5\":\n",
        "    print(\"lista de clientes:\")\n",
        "    for clave, value in dbClients.items():\n",
        "      if value['vip']:\n",
        "        print(clave, value['nombre'])\n",
        "        \n",
        "  if menu == \"6\":\n",
        "    break\n"
      ],
      "execution_count": null,
      "outputs": [
        {
          "output_type": "stream",
          "text": [
            "Selecciona \n",
            "(1) Añadir cliente\n",
            "(2) Eliminar cliente\n",
            "(3) Mostrar cliente\n",
            "(4) Listar clientes\n",
            "(5) Listar clientes preferentes\n",
            "(6) Terminar\n",
            "Elige una opción:1\n",
            "introduce NIF:23\n",
            "Nombre:dsfs\n",
            "direccion:fsdf\n",
            "vip si o no:si\n",
            "{'23': {'nombre': 'dsfs', 'direccion': 'fsdf', 'vip': 'si'}}\n",
            "Selecciona \n",
            "(1) Añadir cliente\n",
            "(2) Eliminar cliente\n",
            "(3) Mostrar cliente\n",
            "(4) Listar clientes\n",
            "(5) Listar clientes preferentes\n",
            "(6) Terminar\n",
            "Elige una opción:5\n",
            "lista de clientes:\n",
            "23 dsfs\n",
            "Selecciona \n",
            "(1) Añadir cliente\n",
            "(2) Eliminar cliente\n",
            "(3) Mostrar cliente\n",
            "(4) Listar clientes\n",
            "(5) Listar clientes preferentes\n",
            "(6) Terminar\n",
            "Elige una opción:1\n",
            "introduce NIF:23\n",
            "Nombre:ashduaish\n",
            "direccion:ndla\n",
            "vip si o no:no\n",
            "{'23': {'nombre': 'ashduaish', 'direccion': 'ndla', 'vip': 'no'}}\n",
            "Selecciona \n",
            "(1) Añadir cliente\n",
            "(2) Eliminar cliente\n",
            "(3) Mostrar cliente\n",
            "(4) Listar clientes\n",
            "(5) Listar clientes preferentes\n",
            "(6) Terminar\n",
            "Elige una opción:4\n",
            "{'23': {'nombre': 'ashduaish', 'direccion': 'ndla', 'vip': 'no'}}\n",
            "23 ashduaish\n",
            "Selecciona \n",
            "(1) Añadir cliente\n",
            "(2) Eliminar cliente\n",
            "(3) Mostrar cliente\n",
            "(4) Listar clientes\n",
            "(5) Listar clientes preferentes\n",
            "(6) Terminar\n",
            "Elige una opción:1\n",
            "introduce NIF:67\n",
            "Nombre:dfsd\n",
            "direccion:dfsd\n",
            "vip si o no:si\n",
            "{'23': {'nombre': 'ashduaish', 'direccion': 'ndla', 'vip': 'no'}, '67': {'nombre': 'dfsd', 'direccion': 'dfsd', 'vip': 'si'}}\n",
            "Selecciona \n",
            "(1) Añadir cliente\n",
            "(2) Eliminar cliente\n",
            "(3) Mostrar cliente\n",
            "(4) Listar clientes\n",
            "(5) Listar clientes preferentes\n",
            "(6) Terminar\n",
            "Elige una opción:4\n",
            "{'23': {'nombre': 'ashduaish', 'direccion': 'ndla', 'vip': 'no'}, '67': {'nombre': 'dfsd', 'direccion': 'dfsd', 'vip': 'si'}}\n",
            "23 ashduaish\n",
            "67 dfsd\n",
            "Selecciona \n",
            "(1) Añadir cliente\n",
            "(2) Eliminar cliente\n",
            "(3) Mostrar cliente\n",
            "(4) Listar clientes\n",
            "(5) Listar clientes preferentes\n",
            "(6) Terminar\n",
            "Elige una opción:5\n",
            "lista de clientes:\n",
            "23 ashduaish\n",
            "67 dfsd\n",
            "Selecciona \n",
            "(1) Añadir cliente\n",
            "(2) Eliminar cliente\n",
            "(3) Mostrar cliente\n",
            "(4) Listar clientes\n",
            "(5) Listar clientes preferentes\n",
            "(6) Terminar\n",
            "Elige una opción:6\n"
          ],
          "name": "stdout"
        }
      ]
    }
  ]
}