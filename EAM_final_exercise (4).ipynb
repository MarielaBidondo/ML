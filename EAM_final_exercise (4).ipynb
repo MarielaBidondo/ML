{
  "nbformat": 4,
  "nbformat_minor": 0,
  "metadata": {
    "kernelspec": {
      "display_name": "Python 3",
      "language": "python",
      "name": "python3"
    },
    "language_info": {
      "codemirror_mode": {
        "name": "ipython",
        "version": 3
      },
      "file_extension": ".py",
      "mimetype": "text/x-python",
      "name": "python",
      "nbconvert_exporter": "python",
      "pygments_lexer": "ipython3",
      "version": "3.6.12"
    },
    "toc-autonumbering": false,
    "colab": {
      "name": "EAM_final_exercise.ipynb",
      "provenance": []
    }
  },
  "cells": [
    {
      "cell_type": "markdown",
      "metadata": {
        "id": "fNu4FO-JvHnq"
      },
      "source": [
        "# Configuration"
      ]
    },
    {
      "cell_type": "markdown",
      "metadata": {
        "id": "cZCYndXsvHnv"
      },
      "source": [
        "Import here the libraries you will need"
      ]
    },
    {
      "cell_type": "code",
      "metadata": {
        "id": "Se1-eNnrvHnw",
        "outputId": "5f5dc7c1-8086-4821-a16f-abeb42bebaac"
      },
      "source": [
        "import datetime as dt\n",
        "import matplotlib as mpl\n",
        "import matplotlib.pyplot as plt\n",
        "import numpy as np\n",
        "import pandas as pd\n",
        "import pmdarima as pm\n",
        "import seaborn as sns\n",
        "\n",
        "from fbprophet import Prophet\n",
        "from statsmodels.graphics.tsaplots import plot_acf\n",
        "from statsmodels.tsa.arima_model import ARIMA\n",
        "from statsmodels.tsa.seasonal import seasonal_decompose\n",
        "from statsmodels.tsa.statespace.sarimax import SARIMAX\n",
        "from statsmodels.tsa.stattools import acf, adfuller, kpss, pacf"
      ],
      "execution_count": null,
      "outputs": [
        {
          "output_type": "stream",
          "text": [
            "Importing plotly failed. Interactive plots will not work.\n"
          ],
          "name": "stderr"
        }
      ]
    },
    {
      "cell_type": "markdown",
      "metadata": {
        "id": "esWwgKEvvHnx"
      },
      "source": [
        "Define the required functions"
      ]
    },
    {
      "cell_type": "code",
      "metadata": {
        "id": "xfIOs-eqvHnx"
      },
      "source": [
        "def plot_df(df, x, y, title=\"\", xlabel='Date', ylabel='Value', dpi=100):\n",
        "    plt.figure(figsize=(10,3), dpi=dpi)\n",
        "    plt.plot(x, y, color='tab:red')\n",
        "    plt.xlabel(xlabel)\n",
        "    plt.ylabel(ylabel)\n",
        "    plt.title(title)\n",
        "    plt.show()"
      ],
      "execution_count": null,
      "outputs": []
    },
    {
      "cell_type": "code",
      "metadata": {
        "id": "URW-TE6UvHny"
      },
      "source": [
        "def test_stationarity(timeseries, N):\n",
        "    \n",
        "    #Determing rolling statistics\n",
        "    rolmean = timeseries.rolling(window=N).mean()\n",
        "    rolstd = timeseries.rolling(window=N).std()\n",
        "\n",
        "    #Plot rolling statistics:\n",
        "    orig = plt.plot(timeseries, color='blue',label='Original')\n",
        "    mean = plt.plot(rolmean, color='red', label='Rolling Mean')\n",
        "    std = plt.plot(rolstd, color='black', label = 'Rolling Std')\n",
        "    plt.legend(loc='best')\n",
        "    plt.title('Rolling Mean & Standard Deviation')\n",
        "    plt.show(block=False)"
      ],
      "execution_count": null,
      "outputs": []
    },
    {
      "cell_type": "code",
      "metadata": {
        "id": "tWRF-JMxvHny"
      },
      "source": [
        "def interpret_dftest(dftest, th):\n",
        "    print('ADF Statistic: %f' % dftest[0])\n",
        "    print('p-value: %f' % dftest[1])\n",
        "    if dftest[1] <= th: print('We can reject the null hypothesis. Time series is stationary')\n",
        "    else: print('Time series is not stationary')\n",
        "    print('Critical Values:')\n",
        "    for key, value in dftest[4].items():\n",
        "        print('\\t%s: %.3f' % (key, value))"
      ],
      "execution_count": null,
      "outputs": []
    },
    {
      "cell_type": "code",
      "metadata": {
        "id": "VWqN5xHpvHny"
      },
      "source": [
        "def interpret_kpsstest(kpsstest, th):\n",
        "    print('KPSS Statistic: %f' % kpsstest[0])\n",
        "    print('p-value: %f' % kpsstest[1])\n",
        "    if kpsstest[1] > th: print('We can reject the null hypothesis. Time series is not stationary')\n",
        "    else: print('Time series is stationary')\n",
        "    print('Critical Values:')\n",
        "    for key, value in kpsstest[3].items():\n",
        "        print('\\t%s: %.3f' % (key, value))"
      ],
      "execution_count": null,
      "outputs": []
    },
    {
      "cell_type": "code",
      "metadata": {
        "id": "LOcCxfawvHny"
      },
      "source": [
        "def forecast_accuracy(predicted, real):\n",
        "    mape = np.mean(np.abs(predicted - real)/np.abs(real))  # MAPE\n",
        "    \n",
        "    return({'mape':mape})"
      ],
      "execution_count": null,
      "outputs": []
    },
    {
      "cell_type": "code",
      "metadata": {
        "id": "9-QUHpDVvHny"
      },
      "source": [
        "def obtain_order_model(ts):\n",
        "    # Obtain ACF and PCSF\n",
        "    lag_acf = acf(ts, nlags=20, fft = True)\n",
        "    lag_pacf = pacf(ts, nlags=20, method='ols')\n",
        "\n",
        "    plt.figure(figsize=(8,4))\n",
        "    #Plot ACF:    \n",
        "    plt.subplot(121)    \n",
        "    plt.plot(lag_acf, marker = '.')\n",
        "    plt.axhline(y=0,linestyle='--',color='gray')\n",
        "    plt.axhline(y=-1.96/np.sqrt(len(ts)),linestyle='--',color='gray')\n",
        "    plt.axhline(y=1.96/np.sqrt(len(ts)),linestyle='--',color='gray')\n",
        "    plt.title('Autocorrelation Function')\n",
        "\n",
        "    #Plot PACF:\n",
        "    plt.subplot(122)\n",
        "    plt.plot(lag_pacf, marker = '.')\n",
        "    plt.axhline(y=0,linestyle='--',color='gray')\n",
        "    plt.axhline(y=-1.96/np.sqrt(len(ts)),linestyle='--',color='gray')\n",
        "    plt.axhline(y=1.96/np.sqrt(len(ts)),linestyle='--',color='gray')\n",
        "    plt.title('Partial Autocorrelation Function')\n",
        "    plt.tight_layout()"
      ],
      "execution_count": null,
      "outputs": []
    },
    {
      "cell_type": "markdown",
      "metadata": {
        "id": "nyMIHJdsvHnz"
      },
      "source": [
        "Define the variables you will use later"
      ]
    },
    {
      "cell_type": "code",
      "metadata": {
        "id": "5c19Y8GlvHnz"
      },
      "source": [
        "path = 'AustralianWines.csv'"
      ],
      "execution_count": null,
      "outputs": []
    },
    {
      "cell_type": "markdown",
      "metadata": {
        "id": "uUrGHQRDvHnz"
      },
      "source": [
        "# Final exercise"
      ]
    },
    {
      "cell_type": "markdown",
      "metadata": {
        "id": "OnMMXdvKgU6E"
      },
      "source": [
        ""
      ]
    },
    {
      "cell_type": "markdown",
      "metadata": {
        "id": "NyOitBtxvHnz"
      },
      "source": [
        "Load the ts from the folder data_for_final_exercise and answer the following questions.\n",
        "\n",
        "Load data and show first row to get a first look and check date format: in this case abbreviated month and year with 2 digits.\n",
        "Also, we are missing a global variable to make the predictions because with the current data we would have 6 different time series and we\n",
        "just want one timeseries.\n",
        "Observe the names of the different columns: some with capital letters and others with spaces. It could be a good idea to set names following some rules as the ones mentioned [here](https://www.ssc.wisc.edu/sscc/pubs/DWE/book/4-2-naming-variables.html). A small though can be found [here](https://towardsdatascience.com/effective-naming-in-data-science-ea847c04f51b)"
      ]
    },
    {
      "cell_type": "code",
      "metadata": {
        "id": "fsg0vB6MvHn0",
        "outputId": "eecccc1c-a32c-4cc2-a9fc-d02f3f2f1ae5"
      },
      "source": [
        "data = pd.read_csv(path, sep=',')\n",
        "data.head(1)"
      ],
      "execution_count": null,
      "outputs": [
        {
          "output_type": "execute_result",
          "data": {
            "text/html": [
              "<div>\n",
              "<style scoped>\n",
              "    .dataframe tbody tr th:only-of-type {\n",
              "        vertical-align: middle;\n",
              "    }\n",
              "\n",
              "    .dataframe tbody tr th {\n",
              "        vertical-align: top;\n",
              "    }\n",
              "\n",
              "    .dataframe thead th {\n",
              "        text-align: right;\n",
              "    }\n",
              "</style>\n",
              "<table border=\"1\" class=\"dataframe\">\n",
              "  <thead>\n",
              "    <tr style=\"text-align: right;\">\n",
              "      <th></th>\n",
              "      <th>Month</th>\n",
              "      <th>Fortified</th>\n",
              "      <th>Red</th>\n",
              "      <th>Rose</th>\n",
              "      <th>sparkling</th>\n",
              "      <th>Sweet white</th>\n",
              "      <th>Dry white</th>\n",
              "    </tr>\n",
              "  </thead>\n",
              "  <tbody>\n",
              "    <tr>\n",
              "      <th>0</th>\n",
              "      <td>Jan-80</td>\n",
              "      <td>2585</td>\n",
              "      <td>464</td>\n",
              "      <td>112.0</td>\n",
              "      <td>1686</td>\n",
              "      <td>85</td>\n",
              "      <td>1954</td>\n",
              "    </tr>\n",
              "  </tbody>\n",
              "</table>\n",
              "</div>"
            ],
            "text/plain": [
              "    Month  Fortified  Red   Rose  sparkling  Sweet white  Dry white\n",
              "0  Jan-80       2585  464  112.0       1686           85       1954"
            ]
          },
          "metadata": {
            "tags": []
          },
          "execution_count": 9
        }
      ]
    },
    {
      "cell_type": "markdown",
      "metadata": {
        "id": "2isFWNsKvHn0"
      },
      "source": [
        "Get the shape of the dataframe and the types"
      ]
    },
    {
      "cell_type": "code",
      "metadata": {
        "id": "frsV4yxNvHn0",
        "outputId": "f9cc79ea-4879-413d-f5f6-52aaacdc2b19"
      },
      "source": [
        "data.shape"
      ],
      "execution_count": null,
      "outputs": [
        {
          "output_type": "execute_result",
          "data": {
            "text/plain": [
              "(180, 7)"
            ]
          },
          "metadata": {
            "tags": []
          },
          "execution_count": 10
        }
      ]
    },
    {
      "cell_type": "code",
      "metadata": {
        "id": "P8JyMP5wvHn0",
        "outputId": "72b0f272-6b2c-4a73-f80c-64cc1d758409"
      },
      "source": [
        "data.dtypes"
      ],
      "execution_count": null,
      "outputs": [
        {
          "output_type": "execute_result",
          "data": {
            "text/plain": [
              "Month           object\n",
              "Fortified        int64\n",
              "Red              int64\n",
              "Rose           float64\n",
              "sparkling        int64\n",
              "Sweet white      int64\n",
              "Dry white        int64\n",
              "dtype: object"
            ]
          },
          "metadata": {
            "tags": []
          },
          "execution_count": 11
        }
      ]
    },
    {
      "cell_type": "markdown",
      "metadata": {
        "id": "mj1_sKHFvHn0"
      },
      "source": [
        "Basic statistics. Please, observe that the variable 'Rose' has 178 values"
      ]
    },
    {
      "cell_type": "code",
      "metadata": {
        "id": "RVYIPlchvHn1",
        "outputId": "81f53208-93e6-41d0-ce79-bc50968332b7"
      },
      "source": [
        "data.describe()"
      ],
      "execution_count": null,
      "outputs": [
        {
          "output_type": "execute_result",
          "data": {
            "text/html": [
              "<div>\n",
              "<style scoped>\n",
              "    .dataframe tbody tr th:only-of-type {\n",
              "        vertical-align: middle;\n",
              "    }\n",
              "\n",
              "    .dataframe tbody tr th {\n",
              "        vertical-align: top;\n",
              "    }\n",
              "\n",
              "    .dataframe thead th {\n",
              "        text-align: right;\n",
              "    }\n",
              "</style>\n",
              "<table border=\"1\" class=\"dataframe\">\n",
              "  <thead>\n",
              "    <tr style=\"text-align: right;\">\n",
              "      <th></th>\n",
              "      <th>Fortified</th>\n",
              "      <th>Red</th>\n",
              "      <th>Rose</th>\n",
              "      <th>sparkling</th>\n",
              "      <th>Sweet white</th>\n",
              "      <th>Dry white</th>\n",
              "    </tr>\n",
              "  </thead>\n",
              "  <tbody>\n",
              "    <tr>\n",
              "      <th>count</th>\n",
              "      <td>180.000000</td>\n",
              "      <td>180.000000</td>\n",
              "      <td>178.000000</td>\n",
              "      <td>180.000000</td>\n",
              "      <td>180.000000</td>\n",
              "      <td>180.000000</td>\n",
              "    </tr>\n",
              "    <tr>\n",
              "      <th>mean</th>\n",
              "      <td>2998.544444</td>\n",
              "      <td>1629.727778</td>\n",
              "      <td>92.286517</td>\n",
              "      <td>2431.288889</td>\n",
              "      <td>247.105556</td>\n",
              "      <td>3240.227778</td>\n",
              "    </tr>\n",
              "    <tr>\n",
              "      <th>std</th>\n",
              "      <td>872.044220</td>\n",
              "      <td>614.933333</td>\n",
              "      <td>38.670445</td>\n",
              "      <td>1310.298480</td>\n",
              "      <td>123.318885</td>\n",
              "      <td>722.822894</td>\n",
              "    </tr>\n",
              "    <tr>\n",
              "      <th>min</th>\n",
              "      <td>1154.000000</td>\n",
              "      <td>464.000000</td>\n",
              "      <td>30.000000</td>\n",
              "      <td>1170.000000</td>\n",
              "      <td>85.000000</td>\n",
              "      <td>1954.000000</td>\n",
              "    </tr>\n",
              "    <tr>\n",
              "      <th>25%</th>\n",
              "      <td>2377.250000</td>\n",
              "      <td>1123.000000</td>\n",
              "      <td>65.000000</td>\n",
              "      <td>1605.000000</td>\n",
              "      <td>141.500000</td>\n",
              "      <td>2736.250000</td>\n",
              "    </tr>\n",
              "    <tr>\n",
              "      <th>50%</th>\n",
              "      <td>2894.500000</td>\n",
              "      <td>1559.000000</td>\n",
              "      <td>87.000000</td>\n",
              "      <td>1896.500000</td>\n",
              "      <td>223.500000</td>\n",
              "      <td>3090.000000</td>\n",
              "    </tr>\n",
              "    <tr>\n",
              "      <th>75%</th>\n",
              "      <td>3527.000000</td>\n",
              "      <td>2106.250000</td>\n",
              "      <td>112.000000</td>\n",
              "      <td>2599.000000</td>\n",
              "      <td>319.250000</td>\n",
              "      <td>3685.250000</td>\n",
              "    </tr>\n",
              "    <tr>\n",
              "      <th>max</th>\n",
              "      <td>5618.000000</td>\n",
              "      <td>3670.000000</td>\n",
              "      <td>267.000000</td>\n",
              "      <td>7242.000000</td>\n",
              "      <td>662.000000</td>\n",
              "      <td>5725.000000</td>\n",
              "    </tr>\n",
              "  </tbody>\n",
              "</table>\n",
              "</div>"
            ],
            "text/plain": [
              "         Fortified          Red        Rose    sparkling  Sweet white  \\\n",
              "count   180.000000   180.000000  178.000000   180.000000   180.000000   \n",
              "mean   2998.544444  1629.727778   92.286517  2431.288889   247.105556   \n",
              "std     872.044220   614.933333   38.670445  1310.298480   123.318885   \n",
              "min    1154.000000   464.000000   30.000000  1170.000000    85.000000   \n",
              "25%    2377.250000  1123.000000   65.000000  1605.000000   141.500000   \n",
              "50%    2894.500000  1559.000000   87.000000  1896.500000   223.500000   \n",
              "75%    3527.000000  2106.250000  112.000000  2599.000000   319.250000   \n",
              "max    5618.000000  3670.000000  267.000000  7242.000000   662.000000   \n",
              "\n",
              "         Dry white  \n",
              "count   180.000000  \n",
              "mean   3240.227778  \n",
              "std     722.822894  \n",
              "min    1954.000000  \n",
              "25%    2736.250000  \n",
              "50%    3090.000000  \n",
              "75%    3685.250000  \n",
              "max    5725.000000  "
            ]
          },
          "metadata": {
            "tags": []
          },
          "execution_count": 12
        }
      ]
    },
    {
      "cell_type": "markdown",
      "metadata": {
        "id": "TOgFEJCLvHn1"
      },
      "source": [
        "There are 2 null values for the variable 'Rose' that can be found below"
      ]
    },
    {
      "cell_type": "code",
      "metadata": {
        "id": "QKFP8ekIvHn1",
        "outputId": "3c5d05a9-6dc7-4bca-808b-bd34eff06a71"
      },
      "source": [
        "sum(data['Rose'].isnull())"
      ],
      "execution_count": null,
      "outputs": [
        {
          "output_type": "execute_result",
          "data": {
            "text/plain": [
              "2"
            ]
          },
          "metadata": {
            "tags": []
          },
          "execution_count": 13
        }
      ]
    },
    {
      "cell_type": "code",
      "metadata": {
        "id": "S9QbrM19vHn1",
        "outputId": "c9367804-bb79-4af9-e91d-8024bb08bae9"
      },
      "source": [
        "data.loc[data['Rose'].isnull()]"
      ],
      "execution_count": null,
      "outputs": [
        {
          "output_type": "execute_result",
          "data": {
            "text/html": [
              "<div>\n",
              "<style scoped>\n",
              "    .dataframe tbody tr th:only-of-type {\n",
              "        vertical-align: middle;\n",
              "    }\n",
              "\n",
              "    .dataframe tbody tr th {\n",
              "        vertical-align: top;\n",
              "    }\n",
              "\n",
              "    .dataframe thead th {\n",
              "        text-align: right;\n",
              "    }\n",
              "</style>\n",
              "<table border=\"1\" class=\"dataframe\">\n",
              "  <thead>\n",
              "    <tr style=\"text-align: right;\">\n",
              "      <th></th>\n",
              "      <th>Month</th>\n",
              "      <th>Fortified</th>\n",
              "      <th>Red</th>\n",
              "      <th>Rose</th>\n",
              "      <th>sparkling</th>\n",
              "      <th>Sweet white</th>\n",
              "      <th>Dry white</th>\n",
              "    </tr>\n",
              "  </thead>\n",
              "  <tbody>\n",
              "    <tr>\n",
              "      <th>174</th>\n",
              "      <td>Jul-94</td>\n",
              "      <td>2714</td>\n",
              "      <td>3670</td>\n",
              "      <td>NaN</td>\n",
              "      <td>2031</td>\n",
              "      <td>225</td>\n",
              "      <td>3905</td>\n",
              "    </tr>\n",
              "    <tr>\n",
              "      <th>175</th>\n",
              "      <td>Aug-94</td>\n",
              "      <td>2294</td>\n",
              "      <td>2665</td>\n",
              "      <td>NaN</td>\n",
              "      <td>1495</td>\n",
              "      <td>205</td>\n",
              "      <td>3670</td>\n",
              "    </tr>\n",
              "  </tbody>\n",
              "</table>\n",
              "</div>"
            ],
            "text/plain": [
              "      Month  Fortified   Red  Rose  sparkling  Sweet white  Dry white\n",
              "174  Jul-94       2714  3670   NaN       2031          225       3905\n",
              "175  Aug-94       2294  2665   NaN       1495          205       3670"
            ]
          },
          "metadata": {
            "tags": []
          },
          "execution_count": 14
        }
      ]
    },
    {
      "cell_type": "markdown",
      "metadata": {
        "id": "Dw9KpXzyvHn1"
      },
      "source": [
        "1.- Which is the format of the date variable? What frequency does it have?\n",
        "\n",
        "Full list of formats for datetime can be found here: https://docs.python.org/3/library/datetime.html#strftime-and-strptime-behavior"
      ]
    },
    {
      "cell_type": "code",
      "metadata": {
        "id": "26cQGXvrvHn2",
        "outputId": "ac8383d9-16e4-46b4-f3c3-d8cae2f00d65"
      },
      "source": [
        "dateparse = lambda dates: dt.datetime.strptime(dates, '%b-%y')\n",
        "data = pd.read_csv(path, sep=',', parse_dates=['Month'], index_col='Month', date_parser=dateparse)\n",
        "data.head(1)"
      ],
      "execution_count": null,
      "outputs": [
        {
          "output_type": "execute_result",
          "data": {
            "text/html": [
              "<div>\n",
              "<style scoped>\n",
              "    .dataframe tbody tr th:only-of-type {\n",
              "        vertical-align: middle;\n",
              "    }\n",
              "\n",
              "    .dataframe tbody tr th {\n",
              "        vertical-align: top;\n",
              "    }\n",
              "\n",
              "    .dataframe thead th {\n",
              "        text-align: right;\n",
              "    }\n",
              "</style>\n",
              "<table border=\"1\" class=\"dataframe\">\n",
              "  <thead>\n",
              "    <tr style=\"text-align: right;\">\n",
              "      <th></th>\n",
              "      <th>Fortified</th>\n",
              "      <th>Red</th>\n",
              "      <th>Rose</th>\n",
              "      <th>sparkling</th>\n",
              "      <th>Sweet white</th>\n",
              "      <th>Dry white</th>\n",
              "    </tr>\n",
              "    <tr>\n",
              "      <th>Month</th>\n",
              "      <th></th>\n",
              "      <th></th>\n",
              "      <th></th>\n",
              "      <th></th>\n",
              "      <th></th>\n",
              "      <th></th>\n",
              "    </tr>\n",
              "  </thead>\n",
              "  <tbody>\n",
              "    <tr>\n",
              "      <th>1980-01-01</th>\n",
              "      <td>2585</td>\n",
              "      <td>464</td>\n",
              "      <td>112.0</td>\n",
              "      <td>1686</td>\n",
              "      <td>85</td>\n",
              "      <td>1954</td>\n",
              "    </tr>\n",
              "  </tbody>\n",
              "</table>\n",
              "</div>"
            ],
            "text/plain": [
              "            Fortified  Red   Rose  sparkling  Sweet white  Dry white\n",
              "Month                                                               \n",
              "1980-01-01       2585  464  112.0       1686           85       1954"
            ]
          },
          "metadata": {
            "tags": []
          },
          "execution_count": 15
        }
      ]
    },
    {
      "cell_type": "markdown",
      "metadata": {
        "id": "WBF2R5envHn2"
      },
      "source": [
        "Now, checking the index and setting it to th first day of the month to make it easier to work later. Full list of capabilities to work with timeseries [here](https://pandas.pydata.org/docs/user_guide/timeseries.html)"
      ]
    },
    {
      "cell_type": "code",
      "metadata": {
        "id": "xPQAqCfCvHn2",
        "outputId": "a3d9ffad-ea1c-43ab-f028-4a8a009d7e24"
      },
      "source": [
        "data.index"
      ],
      "execution_count": null,
      "outputs": [
        {
          "output_type": "execute_result",
          "data": {
            "text/plain": [
              "DatetimeIndex(['1980-01-01', '1980-02-01', '1980-03-01', '1980-04-01',\n",
              "               '1980-05-01', '1980-06-01', '1980-07-01', '1980-08-01',\n",
              "               '1980-09-01', '1980-10-01',\n",
              "               ...\n",
              "               '1994-03-01', '1994-04-01', '1994-05-01', '1994-06-01',\n",
              "               '1994-07-01', '1994-08-01', '1994-09-01', '1994-10-01',\n",
              "               '1994-11-01', '1994-12-01'],\n",
              "              dtype='datetime64[ns]', name='Month', length=180, freq=None)"
            ]
          },
          "metadata": {
            "tags": []
          },
          "execution_count": 16
        }
      ]
    },
    {
      "cell_type": "code",
      "metadata": {
        "id": "bfiO5chovHn2",
        "outputId": "8545e5c6-5a51-4b6e-f159-59ab38cb12e3"
      },
      "source": [
        "data = data.asfreq('MS')\n",
        "data.index"
      ],
      "execution_count": null,
      "outputs": [
        {
          "output_type": "execute_result",
          "data": {
            "text/plain": [
              "DatetimeIndex(['1980-01-01', '1980-02-01', '1980-03-01', '1980-04-01',\n",
              "               '1980-05-01', '1980-06-01', '1980-07-01', '1980-08-01',\n",
              "               '1980-09-01', '1980-10-01',\n",
              "               ...\n",
              "               '1994-03-01', '1994-04-01', '1994-05-01', '1994-06-01',\n",
              "               '1994-07-01', '1994-08-01', '1994-09-01', '1994-10-01',\n",
              "               '1994-11-01', '1994-12-01'],\n",
              "              dtype='datetime64[ns]', name='Month', length=180, freq='MS')"
            ]
          },
          "metadata": {
            "tags": []
          },
          "execution_count": 17
        }
      ]
    },
    {
      "cell_type": "markdown",
      "metadata": {
        "id": "K5JAJAhHvHn2"
      },
      "source": [
        "Create a new column to have just one timeseries. To avoid null values on it we use the sum operator instead of the '+'"
      ]
    },
    {
      "cell_type": "code",
      "metadata": {
        "id": "d6EzDSfXvHn2",
        "outputId": "6e79bf07-a780-4c18-f536-f174de3f4e75"
      },
      "source": [
        "data['total_sales'] = data[['Fortified', 'Red', 'Rose', 'sparkling', 'Sweet white', 'Dry white']].sum(axis=1)\n",
        "data.head(1)"
      ],
      "execution_count": null,
      "outputs": [
        {
          "output_type": "execute_result",
          "data": {
            "text/html": [
              "<div>\n",
              "<style scoped>\n",
              "    .dataframe tbody tr th:only-of-type {\n",
              "        vertical-align: middle;\n",
              "    }\n",
              "\n",
              "    .dataframe tbody tr th {\n",
              "        vertical-align: top;\n",
              "    }\n",
              "\n",
              "    .dataframe thead th {\n",
              "        text-align: right;\n",
              "    }\n",
              "</style>\n",
              "<table border=\"1\" class=\"dataframe\">\n",
              "  <thead>\n",
              "    <tr style=\"text-align: right;\">\n",
              "      <th></th>\n",
              "      <th>Fortified</th>\n",
              "      <th>Red</th>\n",
              "      <th>Rose</th>\n",
              "      <th>sparkling</th>\n",
              "      <th>Sweet white</th>\n",
              "      <th>Dry white</th>\n",
              "      <th>total_sales</th>\n",
              "    </tr>\n",
              "    <tr>\n",
              "      <th>Month</th>\n",
              "      <th></th>\n",
              "      <th></th>\n",
              "      <th></th>\n",
              "      <th></th>\n",
              "      <th></th>\n",
              "      <th></th>\n",
              "      <th></th>\n",
              "    </tr>\n",
              "  </thead>\n",
              "  <tbody>\n",
              "    <tr>\n",
              "      <th>1980-01-01</th>\n",
              "      <td>2585</td>\n",
              "      <td>464</td>\n",
              "      <td>112.0</td>\n",
              "      <td>1686</td>\n",
              "      <td>85</td>\n",
              "      <td>1954</td>\n",
              "      <td>6886.0</td>\n",
              "    </tr>\n",
              "  </tbody>\n",
              "</table>\n",
              "</div>"
            ],
            "text/plain": [
              "            Fortified  Red   Rose  sparkling  Sweet white  Dry white  \\\n",
              "Month                                                                  \n",
              "1980-01-01       2585  464  112.0       1686           85       1954   \n",
              "\n",
              "            total_sales  \n",
              "Month                    \n",
              "1980-01-01       6886.0  "
            ]
          },
          "metadata": {
            "tags": []
          },
          "execution_count": 18
        }
      ]
    },
    {
      "cell_type": "markdown",
      "metadata": {
        "id": "wIZPJU1lvHn3"
      },
      "source": [
        "2.- If you plot the data, do you observe a trend or seasonal behavior?"
      ]
    },
    {
      "cell_type": "markdown",
      "metadata": {
        "id": "bkCw8gLkvHn3"
      },
      "source": [
        "There is not a clear trend but it appears to have a strong seasonal component. Also, we have to realise on how the last peak increases along time"
      ]
    },
    {
      "cell_type": "code",
      "metadata": {
        "id": "oix3iZsovHn3",
        "outputId": "0e6d6531-138b-4357-e818-7109690712db"
      },
      "source": [
        "plot_df(data, x=data.index, y=data.total_sales, title='Total Sale for australian wine') "
      ],
      "execution_count": null,
      "outputs": [
        {
          "output_type": "display_data",
          "data": {
            "image/png": "[encoded data removed]",
            "text/plain": [
              "<Figure size 1000x300 with 1 Axes>"
            ]
          },
          "metadata": {
            "tags": [],
            "needs_background": "light"
          }
        }
      ]
    },
    {
      "cell_type": "markdown",
      "metadata": {
        "id": "E0gGP2GBvHn3"
      },
      "source": [
        "Let's obtain a boxplot for trend and seasonal components. We need some extra variables: year and month and to obtain them we are going to get a new version of the dataframe without the time index"
      ]
    },
    {
      "cell_type": "code",
      "metadata": {
        "id": "heIqQzdjvHn3",
        "outputId": "5bea918a-46dd-4110-e7c6-71ab79a3ec0b"
      },
      "source": [
        "data_for_plot = data.copy()\n",
        "data_for_plot.reset_index(inplace=True)\n",
        "data_for_plot.head(1)"
      ],
      "execution_count": null,
      "outputs": [
        {
          "output_type": "execute_result",
          "data": {
            "text/html": [
              "<div>\n",
              "<style scoped>\n",
              "    .dataframe tbody tr th:only-of-type {\n",
              "        vertical-align: middle;\n",
              "    }\n",
              "\n",
              "    .dataframe tbody tr th {\n",
              "        vertical-align: top;\n",
              "    }\n",
              "\n",
              "    .dataframe thead th {\n",
              "        text-align: right;\n",
              "    }\n",
              "</style>\n",
              "<table border=\"1\" class=\"dataframe\">\n",
              "  <thead>\n",
              "    <tr style=\"text-align: right;\">\n",
              "      <th></th>\n",
              "      <th>Month</th>\n",
              "      <th>Fortified</th>\n",
              "      <th>Red</th>\n",
              "      <th>Rose</th>\n",
              "      <th>sparkling</th>\n",
              "      <th>Sweet white</th>\n",
              "      <th>Dry white</th>\n",
              "      <th>total_sales</th>\n",
              "    </tr>\n",
              "  </thead>\n",
              "  <tbody>\n",
              "    <tr>\n",
              "      <th>0</th>\n",
              "      <td>1980-01-01</td>\n",
              "      <td>2585</td>\n",
              "      <td>464</td>\n",
              "      <td>112.0</td>\n",
              "      <td>1686</td>\n",
              "      <td>85</td>\n",
              "      <td>1954</td>\n",
              "      <td>6886.0</td>\n",
              "    </tr>\n",
              "  </tbody>\n",
              "</table>\n",
              "</div>"
            ],
            "text/plain": [
              "       Month  Fortified  Red   Rose  sparkling  Sweet white  Dry white  \\\n",
              "0 1980-01-01       2585  464  112.0       1686           85       1954   \n",
              "\n",
              "   total_sales  \n",
              "0       6886.0  "
            ]
          },
          "metadata": {
            "tags": []
          },
          "execution_count": 20
        }
      ]
    },
    {
      "cell_type": "code",
      "metadata": {
        "id": "HH6rfo4OvHn3",
        "outputId": "b32c11cf-6326-4b2a-df83-71466ddc6a59"
      },
      "source": [
        "data_for_plot['year'] = [d.year for d in data_for_plot.Month]\n",
        "data_for_plot['month'] = [d.strftime('%b') for d in data_for_plot.Month]\n",
        "data_for_plot.head(1)"
      ],
      "execution_count": null,
      "outputs": [
        {
          "output_type": "execute_result",
          "data": {
            "text/html": [
              "<div>\n",
              "<style scoped>\n",
              "    .dataframe tbody tr th:only-of-type {\n",
              "        vertical-align: middle;\n",
              "    }\n",
              "\n",
              "    .dataframe tbody tr th {\n",
              "        vertical-align: top;\n",
              "    }\n",
              "\n",
              "    .dataframe thead th {\n",
              "        text-align: right;\n",
              "    }\n",
              "</style>\n",
              "<table border=\"1\" class=\"dataframe\">\n",
              "  <thead>\n",
              "    <tr style=\"text-align: right;\">\n",
              "      <th></th>\n",
              "      <th>Month</th>\n",
              "      <th>Fortified</th>\n",
              "      <th>Red</th>\n",
              "      <th>Rose</th>\n",
              "      <th>sparkling</th>\n",
              "      <th>Sweet white</th>\n",
              "      <th>Dry white</th>\n",
              "      <th>total_sales</th>\n",
              "      <th>year</th>\n",
              "      <th>month</th>\n",
              "    </tr>\n",
              "  </thead>\n",
              "  <tbody>\n",
              "    <tr>\n",
              "      <th>0</th>\n",
              "      <td>1980-01-01</td>\n",
              "      <td>2585</td>\n",
              "      <td>464</td>\n",
              "      <td>112.0</td>\n",
              "      <td>1686</td>\n",
              "      <td>85</td>\n",
              "      <td>1954</td>\n",
              "      <td>6886.0</td>\n",
              "      <td>1980</td>\n",
              "      <td>Jan</td>\n",
              "    </tr>\n",
              "  </tbody>\n",
              "</table>\n",
              "</div>"
            ],
            "text/plain": [
              "       Month  Fortified  Red   Rose  sparkling  Sweet white  Dry white  \\\n",
              "0 1980-01-01       2585  464  112.0       1686           85       1954   \n",
              "\n",
              "   total_sales  year month  \n",
              "0       6886.0  1980   Jan  "
            ]
          },
          "metadata": {
            "tags": []
          },
          "execution_count": 21
        }
      ]
    },
    {
      "cell_type": "markdown",
      "metadata": {
        "id": "y4_ENkqTvHn4"
      },
      "source": [
        "Obtain the plots and obtain some conclussions\n",
        "\n",
        "* Trend: constant values until 1986, it looks to grow and decreases again from 1989 until 1992.\n",
        "* Seasonality: two peaks (July and December)"
      ]
    },
    {
      "cell_type": "code",
      "metadata": {
        "id": "p53_wKb8vHn4",
        "outputId": "e088088a-e60c-49ec-f92b-1c2c6f5a3f49"
      },
      "source": [
        "fig, axes = plt.subplots(1, 2, figsize=(15,5), dpi= 80)\n",
        "sns.boxplot(x='year', y='total_sales', data=data_for_plot, ax=axes[0])\n",
        "sns.boxplot(x='month', y='total_sales', data=data_for_plot, ax=axes[1])\n",
        "\n",
        "axes[0].set_title('Year-wise Box Plot\\n(The Trend)', fontsize=18); \n",
        "axes[1].set_title('Month-wise Box Plot\\n(The Seasonality)', fontsize=18)\n",
        "plt.show()"
      ],
      "execution_count": null,
      "outputs": [
        {
          "output_type": "display_data",
          "data": {
            "image/png": "[encoded data removed]",
            "text/plain": [
              "<Figure size 1200x400 with 2 Axes>"
            ]
          },
          "metadata": {
            "tags": [],
            "needs_background": "light"
          }
        }
      ]
    },
    {
      "cell_type": "markdown",
      "metadata": {
        "id": "qXZZK7D3vHn4"
      },
      "source": [
        "3.- Does the ts follow an additive or a multiplicative model?"
      ]
    },
    {
      "cell_type": "markdown",
      "metadata": {
        "id": "k6_YWKlevHn4"
      },
      "source": [
        "If we suppose an additive model..."
      ]
    },
    {
      "cell_type": "code",
      "metadata": {
        "id": "vmb1NkKcvHn4",
        "outputId": "e85db626-600e-47e1-b811-6083d3b7b442"
      },
      "source": [
        "data_add = seasonal_decompose(data['total_sales'], model='additive', extrapolate_trend='freq')\n",
        "data_add.plot();"
      ],
      "execution_count": null,
      "outputs": [
        {
          "output_type": "display_data",
          "data": {
            "image/png": "[encoded data removed]",
            "text/plain": [
              "<Figure size 432x288 with 4 Axes>"
            ]
          },
          "metadata": {
            "tags": [],
            "needs_background": "light"
          }
        }
      ]
    },
    {
      "cell_type": "code",
      "metadata": {
        "id": "Y4PnqPwnvHn4",
        "outputId": "d7735210-ea8a-414d-f0d7-a97a13e15928"
      },
      "source": [
        "data_add.resid.mean(), data_add.resid.std()"
      ],
      "execution_count": null,
      "outputs": [
        {
          "output_type": "execute_result",
          "data": {
            "text/plain": [
              "(15.555246373996688, 866.0381825616965)"
            ]
          },
          "metadata": {
            "tags": []
          },
          "execution_count": 24
        }
      ]
    },
    {
      "cell_type": "markdown",
      "metadata": {
        "id": "JnAqkFgCvHn4"
      },
      "source": [
        "If we suppose a multiplicative model..."
      ]
    },
    {
      "cell_type": "code",
      "metadata": {
        "id": "5TCeUUmuvHn5",
        "outputId": "334d6c0b-6725-48a7-cf24-819a4932bd28"
      },
      "source": [
        "data_mult = seasonal_decompose(data['total_sales'], model='multiplicative', extrapolate_trend='freq')\n",
        "data_mult.plot();"
      ],
      "execution_count": null,
      "outputs": [
        {
          "output_type": "display_data",
          "data": {
            "image/png": "[encoded data removed]",
            "text/plain": [
              "<Figure size 432x288 with 4 Axes>"
            ]
          },
          "metadata": {
            "tags": [],
            "needs_background": "light"
          }
        }
      ]
    },
    {
      "cell_type": "code",
      "metadata": {
        "id": "VgAmfnOMvHn5",
        "outputId": "f3825699-c941-458d-c246-88ca0a5dbe52"
      },
      "source": [
        "data_mult.resid.mean(), data_mult.resid.std()"
      ],
      "execution_count": null,
      "outputs": [
        {
          "output_type": "execute_result",
          "data": {
            "text/plain": [
              "(1.000873086157512, 0.07641262025489622)"
            ]
          },
          "metadata": {
            "tags": []
          },
          "execution_count": 26
        }
      ]
    },
    {
      "cell_type": "markdown",
      "metadata": {
        "id": "ju4aIGUIvHn5"
      },
      "source": [
        "Comparing both values, multiplicative model is choosen because the standard deviation is smaller and it is centered in 1"
      ]
    },
    {
      "cell_type": "markdown",
      "metadata": {
        "id": "A-YlOC6XvHn5"
      },
      "source": [
        "4.- If you decompose the ts, are the trend and seasonality similar to the ones of point 2?"
      ]
    },
    {
      "cell_type": "markdown",
      "metadata": {
        "id": "CaXYWS2EvHn5"
      },
      "source": [
        "In this point I was expecting some thoughts on how the trends and seasonal components obtained in exercise 3 are consistent with the observations in exercise 2.\n",
        "\n",
        "Also, if a manual decomposition is obtained and compared to the results in exercise 2 is considered as a correct answer"
      ]
    },
    {
      "cell_type": "markdown",
      "metadata": {
        "id": "lmWSEJKMvHn6"
      },
      "source": [
        "5.- Is it stationary? If not, which steps did you apply to make it stationary?"
      ]
    },
    {
      "cell_type": "markdown",
      "metadata": {
        "id": "u2yDLZ4zvHn6"
      },
      "source": [
        "Original serie"
      ]
    },
    {
      "cell_type": "code",
      "metadata": {
        "id": "iFdtnGC2vHn6",
        "outputId": "64be1aca-fc3d-466d-e5fa-d03102906aa7"
      },
      "source": [
        "test_stationarity(data['total_sales'], 12)"
      ],
      "execution_count": null,
      "outputs": [
        {
          "output_type": "display_data",
          "data": {
            "image/png": "[encoded data removed]",
            "text/plain": [
              "<Figure size 432x288 with 1 Axes>"
            ]
          },
          "metadata": {
            "tags": [],
            "needs_background": "light"
          }
        }
      ]
    },
    {
      "cell_type": "code",
      "metadata": {
        "id": "jVfTFjIqvHn6",
        "outputId": "5fd960a3-8473-447c-aa37-c5f90eddadc6"
      },
      "source": [
        "plot_acf(data['total_sales']);"
      ],
      "execution_count": null,
      "outputs": [
        {
          "output_type": "display_data",
          "data": {
            "image/png": "[encoded data removed]",
            "text/plain": [
              "<Figure size 432x288 with 1 Axes>"
            ]
          },
          "metadata": {
            "tags": [],
            "needs_background": "light"
          }
        }
      ]
    },
    {
      "cell_type": "code",
      "metadata": {
        "id": "6iY1Lo6CvHn6",
        "outputId": "82bf6c58-47d9-4c5f-f992-3b9f33c23e37"
      },
      "source": [
        "interpret_dftest(adfuller(data.total_sales), 0.05)"
      ],
      "execution_count": null,
      "outputs": [
        {
          "output_type": "stream",
          "text": [
            "ADF Statistic: -0.978858\n",
            "p-value: 0.760897\n",
            "Time series is not stationary\n",
            "Critical Values:\n",
            "\t1%: -3.470\n",
            "\t5%: -2.879\n",
            "\t10%: -2.576\n"
          ],
          "name": "stdout"
        }
      ]
    },
    {
      "cell_type": "code",
      "metadata": {
        "id": "tinmJUfjvHn6",
        "outputId": "83139d35-a978-4f2e-b801-a66558afc4a3"
      },
      "source": [
        "interpret_kpsstest(kpss(data.total_sales), 0.05)"
      ],
      "execution_count": null,
      "outputs": [
        {
          "output_type": "stream",
          "text": [
            "KPSS Statistic: 0.683167\n",
            "p-value: 0.015076\n",
            "Time series is stationary\n",
            "Critical Values:\n",
            "\t10%: 0.347\n",
            "\t5%: 0.463\n",
            "\t2.5%: 0.574\n",
            "\t1%: 0.739\n"
          ],
          "name": "stdout"
        },
        {
          "output_type": "stream",
          "text": [
            "/Applications/anaconda3/envs/env_for_ts/lib/python3.6/site-packages/statsmodels/tsa/stattools.py:1661: FutureWarning: The behavior of using lags=None will change in the next release. Currently lags=None is the same as lags='legacy', and so a sample-size lag length is used. After the next release, the default will change to be the same as lags='auto' which uses an automatic lag length selection method. To silence this warning, either use 'auto' or 'legacy'\n",
            "  warn(msg, FutureWarning)\n"
          ],
          "name": "stderr"
        }
      ]
    },
    {
      "cell_type": "markdown",
      "metadata": {
        "id": "tpzVHv00vHn6"
      },
      "source": [
        "Seasonal differencing (N=12)"
      ]
    },
    {
      "cell_type": "code",
      "metadata": {
        "id": "j7gGE0i0vHn7",
        "outputId": "291aee0b-0641-42e1-ed78-97ad285fc4be"
      },
      "source": [
        "data['total_sales_seasonal_dif'] = data['total_sales'] - data['total_sales'].shift(12)\n",
        "data.head(1)"
      ],
      "execution_count": null,
      "outputs": [
        {
          "output_type": "execute_result",
          "data": {
            "text/html": [
              "<div>\n",
              "<style scoped>\n",
              "    .dataframe tbody tr th:only-of-type {\n",
              "        vertical-align: middle;\n",
              "    }\n",
              "\n",
              "    .dataframe tbody tr th {\n",
              "        vertical-align: top;\n",
              "    }\n",
              "\n",
              "    .dataframe thead th {\n",
              "        text-align: right;\n",
              "    }\n",
              "</style>\n",
              "<table border=\"1\" class=\"dataframe\">\n",
              "  <thead>\n",
              "    <tr style=\"text-align: right;\">\n",
              "      <th></th>\n",
              "      <th>Fortified</th>\n",
              "      <th>Red</th>\n",
              "      <th>Rose</th>\n",
              "      <th>sparkling</th>\n",
              "      <th>Sweet white</th>\n",
              "      <th>Dry white</th>\n",
              "      <th>total_sales</th>\n",
              "      <th>total_sales_seasonal_dif</th>\n",
              "    </tr>\n",
              "    <tr>\n",
              "      <th>Month</th>\n",
              "      <th></th>\n",
              "      <th></th>\n",
              "      <th></th>\n",
              "      <th></th>\n",
              "      <th></th>\n",
              "      <th></th>\n",
              "      <th></th>\n",
              "      <th></th>\n",
              "    </tr>\n",
              "  </thead>\n",
              "  <tbody>\n",
              "    <tr>\n",
              "      <th>1980-01-01</th>\n",
              "      <td>2585</td>\n",
              "      <td>464</td>\n",
              "      <td>112.0</td>\n",
              "      <td>1686</td>\n",
              "      <td>85</td>\n",
              "      <td>1954</td>\n",
              "      <td>6886.0</td>\n",
              "      <td>NaN</td>\n",
              "    </tr>\n",
              "  </tbody>\n",
              "</table>\n",
              "</div>"
            ],
            "text/plain": [
              "            Fortified  Red   Rose  sparkling  Sweet white  Dry white  \\\n",
              "Month                                                                  \n",
              "1980-01-01       2585  464  112.0       1686           85       1954   \n",
              "\n",
              "            total_sales  total_sales_seasonal_dif  \n",
              "Month                                              \n",
              "1980-01-01       6886.0                       NaN  "
            ]
          },
          "metadata": {
            "tags": []
          },
          "execution_count": 31
        }
      ]
    },
    {
      "cell_type": "code",
      "metadata": {
        "id": "I9Fgp1havHn7",
        "outputId": "3bacc56c-a3d8-4b0c-8a11-a71493986b21"
      },
      "source": [
        "test_stationarity(data['total_sales_seasonal_dif'].dropna(), 12)"
      ],
      "execution_count": null,
      "outputs": [
        {
          "output_type": "display_data",
          "data": {
            "image/png": "[encoded data removed]",
            "text/plain": [
              "<Figure size 432x288 with 1 Axes>"
            ]
          },
          "metadata": {
            "tags": [],
            "needs_background": "light"
          }
        }
      ]
    },
    {
      "cell_type": "code",
      "metadata": {
        "id": "T_Wg0LntvHn7",
        "outputId": "dfd19a61-521b-466c-89fa-6a8e27b58765"
      },
      "source": [
        "plot_acf(data['total_sales_seasonal_dif'].dropna());"
      ],
      "execution_count": null,
      "outputs": [
        {
          "output_type": "display_data",
          "data": {
            "image/png": "[encoded data removed]",
            "text/plain": [
              "<Figure size 432x288 with 1 Axes>"
            ]
          },
          "metadata": {
            "tags": [],
            "needs_background": "light"
          }
        }
      ]
    },
    {
      "cell_type": "code",
      "metadata": {
        "id": "3-rjh4ncvHn7",
        "outputId": "4494b1d5-f50e-4432-8b90-9915bedf7461"
      },
      "source": [
        "interpret_dftest(adfuller(data.total_sales_seasonal_dif.dropna()), 0.05)"
      ],
      "execution_count": null,
      "outputs": [
        {
          "output_type": "stream",
          "text": [
            "ADF Statistic: -3.608792\n",
            "p-value: 0.005595\n",
            "We can reject the null hypothesis. Time series is stationary\n",
            "Critical Values:\n",
            "\t1%: -3.473\n",
            "\t5%: -2.880\n",
            "\t10%: -2.577\n"
          ],
          "name": "stdout"
        }
      ]
    },
    {
      "cell_type": "code",
      "metadata": {
        "id": "uX3Yu2O8vHn7",
        "outputId": "c4e6383f-626e-4ec3-a24f-b74d20b30480"
      },
      "source": [
        "interpret_kpsstest(kpss(data.total_sales_seasonal_dif.dropna()), 0.05)"
      ],
      "execution_count": null,
      "outputs": [
        {
          "output_type": "stream",
          "text": [
            "KPSS Statistic: 0.082271\n",
            "p-value: 0.100000\n",
            "We can reject the null hypothesis. Time series is not stationary\n",
            "Critical Values:\n",
            "\t10%: 0.347\n",
            "\t5%: 0.463\n",
            "\t2.5%: 0.574\n",
            "\t1%: 0.739\n"
          ],
          "name": "stdout"
        },
        {
          "output_type": "stream",
          "text": [
            "/Applications/anaconda3/envs/env_for_ts/lib/python3.6/site-packages/statsmodels/tsa/stattools.py:1661: FutureWarning: The behavior of using lags=None will change in the next release. Currently lags=None is the same as lags='legacy', and so a sample-size lag length is used. After the next release, the default will change to be the same as lags='auto' which uses an automatic lag length selection method. To silence this warning, either use 'auto' or 'legacy'\n",
            "  warn(msg, FutureWarning)\n",
            "/Applications/anaconda3/envs/env_for_ts/lib/python3.6/site-packages/statsmodels/tsa/stattools.py:1687: InterpolationWarning: p-value is greater than the indicated p-value\n",
            "  warn(\"p-value is greater than the indicated p-value\", InterpolationWarning)\n"
          ],
          "name": "stderr"
        }
      ]
    },
    {
      "cell_type": "markdown",
      "metadata": {
        "id": "rqguBTplvHn7"
      },
      "source": [
        "Normal differencing (N=1)"
      ]
    },
    {
      "cell_type": "code",
      "metadata": {
        "id": "9KlCzjXAvHn8"
      },
      "source": [
        "data['total_sales_dif'] = data['total_sales'] - data['total_sales'].shift(1)"
      ],
      "execution_count": null,
      "outputs": []
    },
    {
      "cell_type": "code",
      "metadata": {
        "id": "fwbMjIV6vHn8",
        "outputId": "3fa0aeee-1046-414c-987a-d5455a26d6d6"
      },
      "source": [
        "test_stationarity(data['total_sales_dif'].dropna(), 12)"
      ],
      "execution_count": null,
      "outputs": [
        {
          "output_type": "display_data",
          "data": {
            "image/png": "[encoded data removed]",
            "text/plain": [
              "<Figure size 432x288 with 1 Axes>"
            ]
          },
          "metadata": {
            "tags": [],
            "needs_background": "light"
          }
        }
      ]
    },
    {
      "cell_type": "code",
      "metadata": {
        "id": "Zv2r4L6HvHn8",
        "outputId": "ec174130-d297-423e-ebe1-27fff6605aac"
      },
      "source": [
        "plot_acf(data['total_sales_dif'].dropna());"
      ],
      "execution_count": null,
      "outputs": [
        {
          "output_type": "display_data",
          "data": {
            "image/png": "[encoded data removed]",
            "text/plain": [
              "<Figure size 432x288 with 1 Axes>"
            ]
          },
          "metadata": {
            "tags": [],
            "needs_background": "light"
          }
        }
      ]
    },
    {
      "cell_type": "code",
      "metadata": {
        "id": "2P4LnTpDvHn8",
        "outputId": "f5ce3935-ef6e-4068-a1d7-ad62a8259d23"
      },
      "source": [
        "interpret_dftest(adfuller(data['total_sales_dif'].dropna()), 0.05)"
      ],
      "execution_count": null,
      "outputs": [
        {
          "output_type": "stream",
          "text": [
            "ADF Statistic: -32.777276\n",
            "p-value: 0.000000\n",
            "We can reject the null hypothesis. Time series is stationary\n",
            "Critical Values:\n",
            "\t1%: -3.470\n",
            "\t5%: -2.879\n",
            "\t10%: -2.576\n"
          ],
          "name": "stdout"
        }
      ]
    },
    {
      "cell_type": "code",
      "metadata": {
        "id": "sfH8H-yJvHn8",
        "outputId": "91f74be9-81cf-46d9-818f-875b638aa604"
      },
      "source": [
        "interpret_kpsstest(kpss(data['total_sales_dif'].dropna()), 0.05)"
      ],
      "execution_count": null,
      "outputs": [
        {
          "output_type": "stream",
          "text": [
            "KPSS Statistic: 0.077109\n",
            "p-value: 0.100000\n",
            "We can reject the null hypothesis. Time series is not stationary\n",
            "Critical Values:\n",
            "\t10%: 0.347\n",
            "\t5%: 0.463\n",
            "\t2.5%: 0.574\n",
            "\t1%: 0.739\n"
          ],
          "name": "stdout"
        },
        {
          "output_type": "stream",
          "text": [
            "/Applications/anaconda3/envs/env_for_ts/lib/python3.6/site-packages/statsmodels/tsa/stattools.py:1661: FutureWarning: The behavior of using lags=None will change in the next release. Currently lags=None is the same as lags='legacy', and so a sample-size lag length is used. After the next release, the default will change to be the same as lags='auto' which uses an automatic lag length selection method. To silence this warning, either use 'auto' or 'legacy'\n",
            "  warn(msg, FutureWarning)\n",
            "/Applications/anaconda3/envs/env_for_ts/lib/python3.6/site-packages/statsmodels/tsa/stattools.py:1687: InterpolationWarning: p-value is greater than the indicated p-value\n",
            "  warn(\"p-value is greater than the indicated p-value\", InterpolationWarning)\n"
          ],
          "name": "stderr"
        }
      ]
    },
    {
      "cell_type": "markdown",
      "metadata": {
        "id": "FLHQhpdYvHn8"
      },
      "source": [
        "Log and differencing"
      ]
    },
    {
      "cell_type": "code",
      "metadata": {
        "id": "gSJrlRDzvHn8"
      },
      "source": [
        "data['total_sales_log_dif'] = np.log(data['total_sales']) - np.log(data['total_sales']).shift(1)"
      ],
      "execution_count": null,
      "outputs": []
    },
    {
      "cell_type": "code",
      "metadata": {
        "id": "vZ7hdXN5vHn9",
        "outputId": "32cbdbc4-7204-4876-d844-dcbd3395f466"
      },
      "source": [
        "test_stationarity(data['total_sales_log_dif'], 12)"
      ],
      "execution_count": null,
      "outputs": [
        {
          "output_type": "display_data",
          "data": {
            "image/png": "[encoded data removed]",
            "text/plain": [
              "<Figure size 432x288 with 1 Axes>"
            ]
          },
          "metadata": {
            "tags": [],
            "needs_background": "light"
          }
        }
      ]
    },
    {
      "cell_type": "code",
      "metadata": {
        "id": "Mt3UDP_zvHn9",
        "outputId": "bf5050a1-65fd-4e28-c84c-bc11d47eed20"
      },
      "source": [
        "plot_acf(data['total_sales_log_dif'].dropna());"
      ],
      "execution_count": null,
      "outputs": [
        {
          "output_type": "display_data",
          "data": {
            "image/png": "[encoded data removed]",
            "text/plain": [
              "<Figure size 432x288 with 1 Axes>"
            ]
          },
          "metadata": {
            "tags": [],
            "needs_background": "light"
          }
        }
      ]
    },
    {
      "cell_type": "code",
      "metadata": {
        "id": "6ejxrM63vHn9",
        "outputId": "1ea470bc-c914-4287-c845-df48f45acdf0"
      },
      "source": [
        "interpret_dftest(adfuller(data['total_sales_log_dif'].dropna()), 0.05)"
      ],
      "execution_count": null,
      "outputs": [
        {
          "output_type": "stream",
          "text": [
            "ADF Statistic: -32.932569\n",
            "p-value: 0.000000\n",
            "We can reject the null hypothesis. Time series is stationary\n",
            "Critical Values:\n",
            "\t1%: -3.470\n",
            "\t5%: -2.879\n",
            "\t10%: -2.576\n"
          ],
          "name": "stdout"
        }
      ]
    },
    {
      "cell_type": "code",
      "metadata": {
        "id": "em70U1XKvHn9",
        "outputId": "b859ee39-0682-46ad-c8fa-1995293fd86c"
      },
      "source": [
        "interpret_kpsstest(kpss(data['total_sales_log_dif'].dropna()), 0.05)"
      ],
      "execution_count": null,
      "outputs": [
        {
          "output_type": "stream",
          "text": [
            "KPSS Statistic: 0.067859\n",
            "p-value: 0.100000\n",
            "We can reject the null hypothesis. Time series is not stationary\n",
            "Critical Values:\n",
            "\t10%: 0.347\n",
            "\t5%: 0.463\n",
            "\t2.5%: 0.574\n",
            "\t1%: 0.739\n"
          ],
          "name": "stdout"
        },
        {
          "output_type": "stream",
          "text": [
            "/Applications/anaconda3/envs/env_for_ts/lib/python3.6/site-packages/statsmodels/tsa/stattools.py:1661: FutureWarning: The behavior of using lags=None will change in the next release. Currently lags=None is the same as lags='legacy', and so a sample-size lag length is used. After the next release, the default will change to be the same as lags='auto' which uses an automatic lag length selection method. To silence this warning, either use 'auto' or 'legacy'\n",
            "  warn(msg, FutureWarning)\n",
            "/Applications/anaconda3/envs/env_for_ts/lib/python3.6/site-packages/statsmodels/tsa/stattools.py:1687: InterpolationWarning: p-value is greater than the indicated p-value\n",
            "  warn(\"p-value is greater than the indicated p-value\", InterpolationWarning)\n"
          ],
          "name": "stderr"
        }
      ]
    },
    {
      "cell_type": "markdown",
      "metadata": {
        "id": "K2umypqjvHn9"
      },
      "source": [
        "As a summary:\n",
        "\n",
        "Please, take into account for rolling values the magnitude of the values. KPSS test always return that the transformed timeseries is not stationary, we will discard it to take a decision.\n",
        "\n",
        "| Timeseries           | Rolling values                   | Correlogram                                 | ADF Test       | KPSS Test      |\n",
        "| ---------------------|----------------------------------|---------------------------------------------|----------------|----------------|\n",
        "| Original             | Some variations                  | Multiple lags over confident values         | Not stationary | Stationary     |\n",
        "| Seasonal dif. (N=12) | Small variations                 | Values under confident values except lag=12 | Stationary     | Not Stationary |\n",
        "| Normal dif. (N=1)    | Mean is zero but variance is not | Multiple lags over confident values         | Stationary     | Not Stationary |\n",
        "| Log + diff (N=1)     | Mean is zero but variance is not | Multiple lags over confident values         | Stationary     | Not Stationary |\n",
        "\n",
        "With the strong seasonality observed in the analysis of the timeseries the seasonal differencing is choosen"
      ]
    },
    {
      "cell_type": "markdown",
      "metadata": {
        "id": "CCj4OeHwvHn9"
      },
      "source": [
        "6.- Build a benchmark model to predict the next 6 periods. Choose an error measurement and obtain the error of the prediction?"
      ]
    },
    {
      "cell_type": "markdown",
      "metadata": {
        "id": "kDrh9m2ivHn-"
      },
      "source": [
        "Check last 7 records to obtain the required date to split data in train and test"
      ]
    },
    {
      "cell_type": "code",
      "metadata": {
        "id": "HjVWCbm4vHn-",
        "outputId": "3f0ecac3-27cc-436b-e4f9-81fea0d5060e"
      },
      "source": [
        "data.tail(7)"
      ],
      "execution_count": null,
      "outputs": [
        {
          "output_type": "execute_result",
          "data": {
            "text/html": [
              "<div>\n",
              "<style scoped>\n",
              "    .dataframe tbody tr th:only-of-type {\n",
              "        vertical-align: middle;\n",
              "    }\n",
              "\n",
              "    .dataframe tbody tr th {\n",
              "        vertical-align: top;\n",
              "    }\n",
              "\n",
              "    .dataframe thead th {\n",
              "        text-align: right;\n",
              "    }\n",
              "</style>\n",
              "<table border=\"1\" class=\"dataframe\">\n",
              "  <thead>\n",
              "    <tr style=\"text-align: right;\">\n",
              "      <th></th>\n",
              "      <th>Fortified</th>\n",
              "      <th>Red</th>\n",
              "      <th>Rose</th>\n",
              "      <th>sparkling</th>\n",
              "      <th>Sweet white</th>\n",
              "      <th>Dry white</th>\n",
              "      <th>total_sales</th>\n",
              "      <th>total_sales_seasonal_dif</th>\n",
              "      <th>total_sales_dif</th>\n",
              "      <th>total_sales_log_dif</th>\n",
              "    </tr>\n",
              "    <tr>\n",
              "      <th>Month</th>\n",
              "      <th></th>\n",
              "      <th></th>\n",
              "      <th></th>\n",
              "      <th></th>\n",
              "      <th></th>\n",
              "      <th></th>\n",
              "      <th></th>\n",
              "      <th></th>\n",
              "      <th></th>\n",
              "      <th></th>\n",
              "    </tr>\n",
              "  </thead>\n",
              "  <tbody>\n",
              "    <tr>\n",
              "      <th>1994-06-01</th>\n",
              "      <td>2592</td>\n",
              "      <td>2660</td>\n",
              "      <td>45.0</td>\n",
              "      <td>1693</td>\n",
              "      <td>227</td>\n",
              "      <td>3517</td>\n",
              "      <td>10734.0</td>\n",
              "      <td>1250.0</td>\n",
              "      <td>1055.0</td>\n",
              "      <td>0.103458</td>\n",
              "    </tr>\n",
              "    <tr>\n",
              "      <th>1994-07-01</th>\n",
              "      <td>2714</td>\n",
              "      <td>3670</td>\n",
              "      <td>NaN</td>\n",
              "      <td>2031</td>\n",
              "      <td>225</td>\n",
              "      <td>3905</td>\n",
              "      <td>12545.0</td>\n",
              "      <td>564.0</td>\n",
              "      <td>1811.0</td>\n",
              "      <td>0.155906</td>\n",
              "    </tr>\n",
              "    <tr>\n",
              "      <th>1994-08-01</th>\n",
              "      <td>2294</td>\n",
              "      <td>2665</td>\n",
              "      <td>NaN</td>\n",
              "      <td>1495</td>\n",
              "      <td>205</td>\n",
              "      <td>3670</td>\n",
              "      <td>10329.0</td>\n",
              "      <td>-3489.0</td>\n",
              "      <td>-2216.0</td>\n",
              "      <td>-0.194367</td>\n",
              "    </tr>\n",
              "    <tr>\n",
              "      <th>1994-09-01</th>\n",
              "      <td>2416</td>\n",
              "      <td>2639</td>\n",
              "      <td>46.0</td>\n",
              "      <td>2968</td>\n",
              "      <td>259</td>\n",
              "      <td>4221</td>\n",
              "      <td>12549.0</td>\n",
              "      <td>3610.0</td>\n",
              "      <td>2220.0</td>\n",
              "      <td>0.194686</td>\n",
              "    </tr>\n",
              "    <tr>\n",
              "      <th>1994-10-01</th>\n",
              "      <td>2016</td>\n",
              "      <td>2226</td>\n",
              "      <td>51.0</td>\n",
              "      <td>3385</td>\n",
              "      <td>254</td>\n",
              "      <td>4404</td>\n",
              "      <td>12336.0</td>\n",
              "      <td>1137.0</td>\n",
              "      <td>-213.0</td>\n",
              "      <td>-0.017119</td>\n",
              "    </tr>\n",
              "    <tr>\n",
              "      <th>1994-11-01</th>\n",
              "      <td>2799</td>\n",
              "      <td>2586</td>\n",
              "      <td>63.0</td>\n",
              "      <td>3729</td>\n",
              "      <td>275</td>\n",
              "      <td>5086</td>\n",
              "      <td>14538.0</td>\n",
              "      <td>669.0</td>\n",
              "      <td>2202.0</td>\n",
              "      <td>0.164244</td>\n",
              "    </tr>\n",
              "    <tr>\n",
              "      <th>1994-12-01</th>\n",
              "      <td>2467</td>\n",
              "      <td>2684</td>\n",
              "      <td>84.0</td>\n",
              "      <td>5999</td>\n",
              "      <td>394</td>\n",
              "      <td>5725</td>\n",
              "      <td>17353.0</td>\n",
              "      <td>-442.0</td>\n",
              "      <td>2815.0</td>\n",
              "      <td>0.176999</td>\n",
              "    </tr>\n",
              "  </tbody>\n",
              "</table>\n",
              "</div>"
            ],
            "text/plain": [
              "            Fortified   Red  Rose  sparkling  Sweet white  Dry white  \\\n",
              "Month                                                                  \n",
              "1994-06-01       2592  2660  45.0       1693          227       3517   \n",
              "1994-07-01       2714  3670   NaN       2031          225       3905   \n",
              "1994-08-01       2294  2665   NaN       1495          205       3670   \n",
              "1994-09-01       2416  2639  46.0       2968          259       4221   \n",
              "1994-10-01       2016  2226  51.0       3385          254       4404   \n",
              "1994-11-01       2799  2586  63.0       3729          275       5086   \n",
              "1994-12-01       2467  2684  84.0       5999          394       5725   \n",
              "\n",
              "            total_sales  total_sales_seasonal_dif  total_sales_dif  \\\n",
              "Month                                                                \n",
              "1994-06-01      10734.0                    1250.0           1055.0   \n",
              "1994-07-01      12545.0                     564.0           1811.0   \n",
              "1994-08-01      10329.0                   -3489.0          -2216.0   \n",
              "1994-09-01      12549.0                    3610.0           2220.0   \n",
              "1994-10-01      12336.0                    1137.0           -213.0   \n",
              "1994-11-01      14538.0                     669.0           2202.0   \n",
              "1994-12-01      17353.0                    -442.0           2815.0   \n",
              "\n",
              "            total_sales_log_dif  \n",
              "Month                            \n",
              "1994-06-01             0.103458  \n",
              "1994-07-01             0.155906  \n",
              "1994-08-01            -0.194367  \n",
              "1994-09-01             0.194686  \n",
              "1994-10-01            -0.017119  \n",
              "1994-11-01             0.164244  \n",
              "1994-12-01             0.176999  "
            ]
          },
          "metadata": {
            "tags": []
          },
          "execution_count": 46
        }
      ]
    },
    {
      "cell_type": "markdown",
      "metadata": {
        "id": "YxF5dQGtvHn-"
      },
      "source": [
        "Obtain train and test"
      ]
    },
    {
      "cell_type": "code",
      "metadata": {
        "id": "cCex53BTvHn-",
        "outputId": "a0ebac16-8f2d-4402-ca64-502ecc3a3c3b"
      },
      "source": [
        "data_train = data[:'1994-06-01']\n",
        "data_test = data['1994-07-01':]\n",
        "data_train.shape, data_test.shape"
      ],
      "execution_count": null,
      "outputs": [
        {
          "output_type": "execute_result",
          "data": {
            "text/plain": [
              "((174, 10), (6, 10))"
            ]
          },
          "metadata": {
            "tags": []
          },
          "execution_count": 47
        }
      ]
    },
    {
      "cell_type": "markdown",
      "metadata": {
        "id": "pTA0NwWWvHn_"
      },
      "source": [
        "Due to the strong seasonality we choose Seasonal naive as a benchmark\n",
        "\n",
        "* **Seasonal Naive: 0.28092**"
      ]
    },
    {
      "cell_type": "code",
      "metadata": {
        "id": "hi7NrXzvvHn_",
        "outputId": "ee647643-387f-487b-e72a-adf7c5e8c811"
      },
      "source": [
        "data_test['y_hat_seasonal_naive'] = data_train['total_sales'].iloc[-6:].values\n",
        "forecast_accuracy(data_test['y_hat_seasonal_naive'], data_test['total_sales'])"
      ],
      "execution_count": null,
      "outputs": [
        {
          "output_type": "stream",
          "text": [
            "/Applications/anaconda3/envs/env_for_ts/lib/python3.6/site-packages/ipykernel_launcher.py:1: SettingWithCopyWarning: \n",
            "A value is trying to be set on a copy of a slice from a DataFrame.\n",
            "Try using .loc[row_indexer,col_indexer] = value instead\n",
            "\n",
            "See the caveats in the documentation: https://pandas.pydata.org/pandas-docs/stable/user_guide/indexing.html#returning-a-view-versus-a-copy\n",
            "  \"\"\"Entry point for launching an IPython kernel.\n"
          ],
          "name": "stderr"
        },
        {
          "output_type": "execute_result",
          "data": {
            "text/plain": [
              "{'mape': 0.28092677951429845}"
            ]
          },
          "metadata": {
            "tags": []
          },
          "execution_count": 48
        }
      ]
    },
    {
      "cell_type": "markdown",
      "metadata": {
        "id": "7T6j96F4vHn_"
      },
      "source": [
        "7.- Build an AR or a MA model. How does the error change?"
      ]
    },
    {
      "cell_type": "markdown",
      "metadata": {
        "id": "HEcy5V2TvHn_"
      },
      "source": [
        "First, let's obtain the potential orders for models AR and MA"
      ]
    },
    {
      "cell_type": "code",
      "metadata": {
        "id": "cdHX_ndNvHn_",
        "colab": {
          "base_uri": "https://localhost:8080/",
          "height": 164
        },
        "outputId": "c40415d0-2c6c-44d3-d052-cd5676c32b04"
      },
      "source": [
        "obtain_order_model(data_train['total_sales_seasonal_dif'].dropna())"
      ],
      "execution_count": null,
      "outputs": [
        {
          "output_type": "error",
          "ename": "NameError",
          "evalue": "ignored",
          "traceback": [
            "\u001b[0;31m---------------------------------------------------------------------------\u001b[0m",
            "\u001b[0;31mNameError\u001b[0m                                 Traceback (most recent call last)",
            "\u001b[0;32m<ipython-input-1-d48243f3c8e7>\u001b[0m in \u001b[0;36m<module>\u001b[0;34m()\u001b[0m\n\u001b[0;32m----> 1\u001b[0;31m \u001b[0mobtain_order_model\u001b[0m\u001b[0;34m(\u001b[0m\u001b[0mdata_train\u001b[0m\u001b[0;34m[\u001b[0m\u001b[0;34m'total_sales_seasonal_dif'\u001b[0m\u001b[0;34m]\u001b[0m\u001b[0;34m.\u001b[0m\u001b[0mdropna\u001b[0m\u001b[0;34m(\u001b[0m\u001b[0;34m)\u001b[0m\u001b[0;34m)\u001b[0m\u001b[0;34m\u001b[0m\u001b[0;34m\u001b[0m\u001b[0m\n\u001b[0m",
            "\u001b[0;31mNameError\u001b[0m: name 'obtain_order_model' is not defined"
          ]
        }
      ]
    },
    {
      "cell_type": "code",
      "metadata": {
        "id": "H4JtBZG-vHn_"
      },
      "source": [
        "period_forecast = 6"
      ],
      "execution_count": null,
      "outputs": []
    },
    {
      "cell_type": "markdown",
      "metadata": {
        "id": "ErNS40r1vHn_"
      },
      "source": [
        "AR\n",
        "\n",
        "PACF suggests order 9  or 12\n",
        "\n",
        "* AR(1): 0.99267\n",
        "* AR(2): 0.99442\n",
        "* AR(8): 0.98569\n",
        "* **AR(9): 0.98090**\n",
        "* AR(10): 0.98149\n",
        "* AR(11): 0.98339\n",
        "* AR(12): 0.99532\n",
        "* AR(13): 0.99807"
      ]
    },
    {
      "cell_type": "code",
      "metadata": {
        "id": "qd2F5t-CvHoA",
        "outputId": "c989782d-4df3-45cb-f1ca-aaf05c7006fb"
      },
      "source": [
        "model_ar = ARIMA(data_train['total_sales_seasonal_dif'].dropna(), order=(9, 0, 0))  \n",
        "model_ar_fitted = model_ar.fit(disp=-1)\n",
        "model_ar_fitted.plot_predict(dynamic=False);"
      ],
      "execution_count": null,
      "outputs": [
        {
          "output_type": "display_data",
          "data": {
            "image/png": "[encoded data removed]",
            "text/plain": [
              "<Figure size 432x288 with 1 Axes>"
            ]
          },
          "metadata": {
            "tags": [],
            "needs_background": "light"
          }
        }
      ]
    },
    {
      "cell_type": "code",
      "metadata": {
        "id": "uERzOMa6vHoA",
        "outputId": "afb7fe93-3b11-40d1-f8eb-0a52a7250ce9"
      },
      "source": [
        "forecast, se, confidence = model_ar_fitted.forecast(period_forecast, alpha=0.05)\n",
        "data_test['y_hat_ar'] = forecast\n",
        "forecast_accuracy(data_test['y_hat_ar'], data_test['total_sales'])"
      ],
      "execution_count": null,
      "outputs": [
        {
          "output_type": "stream",
          "text": [
            "/Applications/anaconda3/envs/env_for_ts/lib/python3.6/site-packages/ipykernel_launcher.py:2: SettingWithCopyWarning: \n",
            "A value is trying to be set on a copy of a slice from a DataFrame.\n",
            "Try using .loc[row_indexer,col_indexer] = value instead\n",
            "\n",
            "See the caveats in the documentation: https://pandas.pydata.org/pandas-docs/stable/user_guide/indexing.html#returning-a-view-versus-a-copy\n",
            "  \n"
          ],
          "name": "stderr"
        },
        {
          "output_type": "execute_result",
          "data": {
            "text/plain": [
              "{'mape': 0.9809081848353639}"
            ]
          },
          "metadata": {
            "tags": []
          },
          "execution_count": 52
        }
      ]
    },
    {
      "cell_type": "markdown",
      "metadata": {
        "id": "-_8QzIAMvHoA"
      },
      "source": [
        "MA\n",
        "\n",
        "ACF suggests order = 12\n",
        "\n",
        "* MA(8): 0.98527\n",
        "* **MA(9): 0.98119**\n",
        "* MA(10): 0.98127\n",
        "* MA(11): 0.98553\n",
        "* MA(12): 1.00228"
      ]
    },
    {
      "cell_type": "code",
      "metadata": {
        "id": "7H5dJ0QlvHoA",
        "outputId": "966e61e9-9e5e-411f-ed96-946a0ef90218"
      },
      "source": [
        "model_ma = ARIMA(data_train['total_sales_seasonal_dif'].dropna(), order=(0, 0, 9))  \n",
        "model_ma_fitted = model_ma.fit(disp=-1)\n",
        "model_ma_fitted.plot_predict(dynamic=False);"
      ],
      "execution_count": null,
      "outputs": [
        {
          "output_type": "display_data",
          "data": {
            "image/png": "[encoded data removed]",
            "text/plain": [
              "<Figure size 432x288 with 1 Axes>"
            ]
          },
          "metadata": {
            "tags": [],
            "needs_background": "light"
          }
        }
      ]
    },
    {
      "cell_type": "code",
      "metadata": {
        "id": "r7MgiPARvHoA",
        "outputId": "67fd425d-c768-4f21-d7f5-ecc374cc21ea"
      },
      "source": [
        "forecast, se, confidence = model_ma_fitted.forecast(period_forecast, alpha=0.05)\n",
        "data_test['y_hat_ma'] = forecast\n",
        "forecast_accuracy(data_test['y_hat_ma'], data_test['total_sales'])"
      ],
      "execution_count": null,
      "outputs": [
        {
          "output_type": "stream",
          "text": [
            "/Applications/anaconda3/envs/env_for_ts/lib/python3.6/site-packages/ipykernel_launcher.py:2: SettingWithCopyWarning: \n",
            "A value is trying to be set on a copy of a slice from a DataFrame.\n",
            "Try using .loc[row_indexer,col_indexer] = value instead\n",
            "\n",
            "See the caveats in the documentation: https://pandas.pydata.org/pandas-docs/stable/user_guide/indexing.html#returning-a-view-versus-a-copy\n",
            "  \n"
          ],
          "name": "stderr"
        },
        {
          "output_type": "execute_result",
          "data": {
            "text/plain": [
              "{'mape': 0.9811905107272225}"
            ]
          },
          "metadata": {
            "tags": []
          },
          "execution_count": 54
        }
      ]
    },
    {
      "cell_type": "markdown",
      "metadata": {
        "id": "pjQSzhZWvHoA"
      },
      "source": [
        "ARMA\n",
        "\n",
        "The combination of high orders for both models normally produce an error because it does not converge o there is a zero problem in someplace\n",
        "\n",
        "* ARMA(1, 0, 1): 0.99293\n",
        "* ARMA(2, 0, 1): 0.99555\n",
        "* ARMA(3, 0, 1): 0.99498\n",
        "* ARMA(1, 0, 2): 0.99539\n",
        "* ARMA(1, 0, 3): 0.99502\n",
        "* ARMA(1, 0, 4): 0.98519\n",
        "* **ARMA(1, 0, 5): 0.98211**\n",
        "* ARMA(2, 0, 5): 0.99312\n",
        "* ARMA(9, 0, 9): 0.9836"
      ]
    },
    {
      "cell_type": "code",
      "metadata": {
        "id": "4tPjqKeuvHoB",
        "outputId": "1eae173a-2743-477c-ff5d-4cd97590257d"
      },
      "source": [
        "model_arma = ARIMA(data_train['total_sales_seasonal_dif'].dropna(), order=(1, 0, 5))  \n",
        "model_arma_fitted = model_arma.fit(disp=-1)\n",
        "model_arma_fitted.plot_predict(dynamic=False);"
      ],
      "execution_count": null,
      "outputs": [
        {
          "output_type": "display_data",
          "data": {
            "image/png": "[encoded data removed]",
            "text/plain": [
              "<Figure size 432x288 with 1 Axes>"
            ]
          },
          "metadata": {
            "tags": [],
            "needs_background": "light"
          }
        }
      ]
    },
    {
      "cell_type": "code",
      "metadata": {
        "id": "QYfsVURNvHoB",
        "outputId": "4fc25c7b-566d-4f31-ef44-2f6d976c3b40"
      },
      "source": [
        "forecast, se, confidence = model_arma_fitted.forecast(period_forecast, alpha=0.05)\n",
        "data_test['y_hat_arma'] = forecast\n",
        "forecast_accuracy(data_test['y_hat_arma'], data_test['total_sales'])"
      ],
      "execution_count": null,
      "outputs": [
        {
          "output_type": "stream",
          "text": [
            "/Applications/anaconda3/envs/env_for_ts/lib/python3.6/site-packages/ipykernel_launcher.py:2: SettingWithCopyWarning: \n",
            "A value is trying to be set on a copy of a slice from a DataFrame.\n",
            "Try using .loc[row_indexer,col_indexer] = value instead\n",
            "\n",
            "See the caveats in the documentation: https://pandas.pydata.org/pandas-docs/stable/user_guide/indexing.html#returning-a-view-versus-a-copy\n",
            "  \n"
          ],
          "name": "stderr"
        },
        {
          "output_type": "execute_result",
          "data": {
            "text/plain": [
              "{'mape': 0.9821131874502868}"
            ]
          },
          "metadata": {
            "tags": []
          },
          "execution_count": 56
        }
      ]
    },
    {
      "cell_type": "markdown",
      "metadata": {
        "id": "Xqm7P3j1vHoB"
      },
      "source": [
        "8.- Build an ARIMA or SARIMA model. How does it affect to the error?"
      ]
    },
    {
      "cell_type": "markdown",
      "metadata": {
        "id": "j9Pq3u0kvHoB"
      },
      "source": [
        "ARIMA\n",
        "\n",
        "* ARIMA(1, 1, 1): 0.16837\n",
        "* ARIMA(2, 1, 1): 0.16756\n",
        "* ARIMA(3, 1, 1): 0.16773\n",
        "* ARIMA(1, 1, 2): 0.16314\n",
        "* **ARIMA(2, 1, 2): 0.14526**\n",
        "* ARIMA(2, 1, 3): MAPE = 0.18033"
      ]
    },
    {
      "cell_type": "code",
      "metadata": {
        "id": "n_lEE8qbvHoB",
        "outputId": "f5179a0b-368b-4b12-c527-714fc848d25c"
      },
      "source": [
        "model_arima = ARIMA(data_train['total_sales'].dropna(), order=(2, 1, 2))  \n",
        "model_arima_fitted = model_arima.fit(disp=-1)\n",
        "model_arima_fitted.plot_predict(dynamic=False);"
      ],
      "execution_count": null,
      "outputs": [
        {
          "output_type": "display_data",
          "data": {
            "image/png": "[encoded data removed]",
            "text/plain": [
              "<Figure size 432x288 with 1 Axes>"
            ]
          },
          "metadata": {
            "tags": [],
            "needs_background": "light"
          }
        }
      ]
    },
    {
      "cell_type": "code",
      "metadata": {
        "id": "ymLPEhiJvHoC",
        "outputId": "f9242146-94cf-41e7-cd45-23efbab22002"
      },
      "source": [
        "forecast, se, confidence = model_arima_fitted.forecast(period_forecast, alpha=0.05)\n",
        "data_test['y_hat_arima'] = forecast\n",
        "forecast_accuracy(data_test['y_hat_arima'], data_test['total_sales'])"
      ],
      "execution_count": null,
      "outputs": [
        {
          "output_type": "stream",
          "text": [
            "/Applications/anaconda3/envs/env_for_ts/lib/python3.6/site-packages/ipykernel_launcher.py:2: SettingWithCopyWarning: \n",
            "A value is trying to be set on a copy of a slice from a DataFrame.\n",
            "Try using .loc[row_indexer,col_indexer] = value instead\n",
            "\n",
            "See the caveats in the documentation: https://pandas.pydata.org/pandas-docs/stable/user_guide/indexing.html#returning-a-view-versus-a-copy\n",
            "  \n"
          ],
          "name": "stderr"
        },
        {
          "output_type": "execute_result",
          "data": {
            "text/plain": [
              "{'mape': 0.14526260205667518}"
            ]
          },
          "metadata": {
            "tags": []
          },
          "execution_count": 58
        }
      ]
    },
    {
      "cell_type": "markdown",
      "metadata": {
        "id": "qAgiqkVSvHoC"
      },
      "source": [
        "SARIMA model\n",
        "\n",
        "* ARIMA(1, 1, 1) (1, 1, 1, 12): 0.09877\n",
        "* ARIMA(2, 1, 1) (1, 1, 1, 12): 0.09866\n",
        "* ARIMA(3, 1, 1) (1, 1, 1, 12): 0.10118\n",
        "* ARIMA(2, 1, 2) (1, 1, 1, 12): 0.10380\n",
        "* **ARIMA(2, 1, 1) (2, 1, 1, 12): 0.09503**\n",
        "* ARIMA(2, 1, 1) (3, 1, 1, 12): 0.09936\n",
        "* ARIMA(2, 1, 1) (2, 1, 2, 12): 0.09746\n"
      ]
    },
    {
      "cell_type": "code",
      "metadata": {
        "id": "1s0CH5_nvHoC",
        "outputId": "785d66c0-72c3-4a9c-f353-1e9a6ed9ae47"
      },
      "source": [
        "model_sarima = SARIMAX(data_train['total_sales'].dropna(), order=(2, 1, 1), seasonal_order=(2, 1, 1, 12))\n",
        "model_sarima_fit = model_sarima.fit()"
      ],
      "execution_count": null,
      "outputs": [
        {
          "output_type": "stream",
          "text": [
            "/Applications/anaconda3/envs/env_for_ts/lib/python3.6/site-packages/statsmodels/base/model.py:568: ConvergenceWarning: Maximum Likelihood optimization failed to converge. Check mle_retvals\n",
            "  \"Check mle_retvals\", ConvergenceWarning)\n"
          ],
          "name": "stderr"
        }
      ]
    },
    {
      "cell_type": "code",
      "metadata": {
        "id": "0lTXpQ8ovHoC",
        "outputId": "f2054377-3f73-47a9-cd12-f5293fe81596"
      },
      "source": [
        "forecast = model_sarima_fit.forecast(steps=6)\n",
        "data_test['y_hat_sarima'] = forecast\n",
        "forecast_accuracy(data_test.y_hat_sarima, data_test.total_sales)"
      ],
      "execution_count": null,
      "outputs": [
        {
          "output_type": "stream",
          "text": [
            "/Applications/anaconda3/envs/env_for_ts/lib/python3.6/site-packages/ipykernel_launcher.py:2: SettingWithCopyWarning: \n",
            "A value is trying to be set on a copy of a slice from a DataFrame.\n",
            "Try using .loc[row_indexer,col_indexer] = value instead\n",
            "\n",
            "See the caveats in the documentation: https://pandas.pydata.org/pandas-docs/stable/user_guide/indexing.html#returning-a-view-versus-a-copy\n",
            "  \n"
          ],
          "name": "stderr"
        },
        {
          "output_type": "execute_result",
          "data": {
            "text/plain": [
              "{'mape': 0.09503331805556196}"
            ]
          },
          "metadata": {
            "tags": []
          },
          "execution_count": 60
        }
      ]
    },
    {
      "cell_type": "markdown",
      "metadata": {
        "id": "BtzV65MrvHoC"
      },
      "source": [
        "9.- If you use auto_arima functionality, does the new model have the same parameters? How does it affect to the error?"
      ]
    },
    {
      "cell_type": "markdown",
      "metadata": {
        "id": "kRHE8WgtvHoC"
      },
      "source": [
        "Autoarima witouth seasonality\n",
        "\n",
        "* **Autoarima: ARIMA(2,0,0)(0,0,0)[0]: 0.18940**"
      ]
    },
    {
      "cell_type": "code",
      "metadata": {
        "id": "n0zqivrJvHoC",
        "outputId": "c65a5b72-8599-4575-b6a7-0ae28011cb6b"
      },
      "source": [
        "model_autoarima = pm.auto_arima(data_train.total_sales, \n",
        "                                start_p=1, start_q=1, # initial values of p and q\n",
        "                                test='adf',       # use adftest to find optimal 'd'\n",
        "                                max_p=10, max_q=10, # maximum p and q\n",
        "                                m=1,              # frequency of series, 1 means no seasonal data\n",
        "                                d=None,           # let model determine 'd'\n",
        "                                seasonal=False,   # No Seasonality\n",
        "                                start_P=0,\n",
        "                                D=0,\n",
        "                                trace=True,\n",
        "                                error_action='ignore',\n",
        "                                suppress_warnings=True,\n",
        "                                stepwise=True)"
      ],
      "execution_count": null,
      "outputs": [
        {
          "output_type": "stream",
          "text": [
            "Performing stepwise search to minimize aic\n",
            " ARIMA(1,0,1)(0,0,0)[0]             : AIC=inf, Time=0.12 sec\n",
            " ARIMA(0,0,0)(0,0,0)[0]             : AIC=3729.251, Time=0.00 sec\n",
            " ARIMA(1,0,0)(0,0,0)[0]             : AIC=3307.842, Time=0.01 sec\n",
            " ARIMA(0,0,1)(0,0,0)[0]             : AIC=3563.354, Time=0.03 sec\n",
            " ARIMA(2,0,0)(0,0,0)[0]             : AIC=3297.569, Time=0.03 sec\n",
            " ARIMA(3,0,0)(0,0,0)[0]             : AIC=3272.807, Time=0.06 sec\n",
            " ARIMA(4,0,0)(0,0,0)[0]             : AIC=inf, Time=0.05 sec\n",
            " ARIMA(3,0,1)(0,0,0)[0]             : AIC=inf, Time=0.15 sec\n",
            " ARIMA(2,0,1)(0,0,0)[0]             : AIC=inf, Time=0.10 sec\n",
            " ARIMA(4,0,1)(0,0,0)[0]             : AIC=3231.108, Time=0.14 sec\n",
            " ARIMA(5,0,1)(0,0,0)[0]             : AIC=3258.898, Time=0.12 sec\n",
            " ARIMA(4,0,2)(0,0,0)[0]             : AIC=inf, Time=0.10 sec\n",
            " ARIMA(3,0,2)(0,0,0)[0]             : AIC=inf, Time=0.13 sec\n",
            " ARIMA(5,0,0)(0,0,0)[0]             : AIC=inf, Time=0.04 sec\n",
            " ARIMA(5,0,2)(0,0,0)[0]             : AIC=3232.606, Time=0.25 sec\n",
            " ARIMA(4,0,1)(0,0,0)[0] intercept   : AIC=3219.764, Time=0.06 sec\n",
            " ARIMA(3,0,1)(0,0,0)[0] intercept   : AIC=3218.023, Time=0.07 sec\n",
            " ARIMA(2,0,1)(0,0,0)[0] intercept   : AIC=3216.028, Time=0.03 sec\n",
            " ARIMA(1,0,1)(0,0,0)[0] intercept   : AIC=3218.508, Time=0.02 sec\n",
            " ARIMA(2,0,0)(0,0,0)[0] intercept   : AIC=3214.030, Time=0.02 sec\n",
            " ARIMA(1,0,0)(0,0,0)[0] intercept   : AIC=3220.507, Time=0.02 sec\n",
            " ARIMA(3,0,0)(0,0,0)[0] intercept   : AIC=3216.037, Time=0.03 sec\n",
            "\n",
            "Best model:  ARIMA(2,0,0)(0,0,0)[0] intercept\n",
            "Total fit time: 1.627 seconds\n"
          ],
          "name": "stdout"
        }
      ]
    },
    {
      "cell_type": "code",
      "metadata": {
        "id": "pu3L-GVKvHoD",
        "outputId": "6f18e54f-e5d2-4c43-ef7b-2f1b965efd66"
      },
      "source": [
        "forecast, confidence = model_autoarima.predict(n_periods=period_forecast, return_conf_int=True)\n",
        "data_test['y_hat_autoarima'] = forecast\n",
        "forecast_accuracy(data_test['y_hat_autoarima'], data_test['total_sales'])"
      ],
      "execution_count": null,
      "outputs": [
        {
          "output_type": "stream",
          "text": [
            "/Applications/anaconda3/envs/env_for_ts/lib/python3.6/site-packages/ipykernel_launcher.py:2: SettingWithCopyWarning: \n",
            "A value is trying to be set on a copy of a slice from a DataFrame.\n",
            "Try using .loc[row_indexer,col_indexer] = value instead\n",
            "\n",
            "See the caveats in the documentation: https://pandas.pydata.org/pandas-docs/stable/user_guide/indexing.html#returning-a-view-versus-a-copy\n",
            "  \n"
          ],
          "name": "stderr"
        },
        {
          "output_type": "execute_result",
          "data": {
            "text/plain": [
              "{'mape': 0.18940319501865344}"
            ]
          },
          "metadata": {
            "tags": []
          },
          "execution_count": 62
        }
      ]
    },
    {
      "cell_type": "markdown",
      "metadata": {
        "id": "KXEQcwzOvHoD"
      },
      "source": [
        "**Autoarima with seasonality**\n",
        "\n",
        "It takes longer to fit\n",
        "* **Autoarima:  ARIMA(0,0,0)(0,5,0)[12]: 0.35521**"
      ]
    },
    {
      "cell_type": "code",
      "metadata": {
        "id": "CemzaRu3vHoD",
        "outputId": "a8f47b51-f0fd-42b0-e220-bf776b89ce0f"
      },
      "source": [
        "model_y_hat_autoarima_seasonality = pm.auto_arima(data_train.total_sales,\n",
        "                                                  start_p=1, start_q=1, # initial values of p and q\n",
        "                                                  test='adf',           # use adftest to find optimal 'd'\n",
        "                                                  max_p=5, max_q=5,     # maximum p and q (adjusted)\n",
        "                                                  m=12,                 # month wise series\n",
        "                                                  d=None,               # let model determine 'd'\n",
        "                                                  seasonal=True,        # For seasonal arima\n",
        "                                                  start_P=0,\n",
        "                                                  D=5,                  # For seasonal arima\n",
        "                                                  trace=True,\n",
        "                                                  error_action='ignore',\n",
        "                                                  suppress_warnings=True,\n",
        "                                                  stepwise=True)"
      ],
      "execution_count": null,
      "outputs": [
        {
          "output_type": "stream",
          "text": [
            "Performing stepwise search to minimize aic\n",
            " ARIMA(1,0,1)(0,5,1)[12]             : AIC=2248.815, Time=58.58 sec\n",
            " ARIMA(0,0,0)(0,5,0)[12]             : AIC=2186.337, Time=2.91 sec\n",
            " ARIMA(1,0,0)(1,5,0)[12]             : AIC=inf, Time=23.47 sec\n",
            " ARIMA(0,0,1)(0,5,1)[12]             : AIC=inf, Time=14.06 sec\n",
            " ARIMA(0,0,0)(1,5,0)[12]             : AIC=inf, Time=9.58 sec\n",
            " ARIMA(0,0,0)(0,5,1)[12]             : AIC=inf, Time=8.51 sec\n",
            " ARIMA(0,0,0)(1,5,1)[12]             : AIC=inf, Time=11.29 sec\n",
            " ARIMA(1,0,0)(0,5,0)[12]             : AIC=inf, Time=5.49 sec\n",
            " ARIMA(0,0,1)(0,5,0)[12]             : AIC=inf, Time=5.59 sec\n",
            " ARIMA(1,0,1)(0,5,0)[12]             : AIC=2246.177, Time=12.46 sec\n",
            " ARIMA(0,0,0)(0,5,0)[12] intercept   : AIC=2181.784, Time=5.39 sec\n",
            " ARIMA(0,0,0)(1,5,0)[12] intercept   : AIC=inf, Time=25.57 sec\n",
            " ARIMA(0,0,0)(0,5,1)[12] intercept   : AIC=inf, Time=14.03 sec\n",
            " ARIMA(0,0,0)(1,5,1)[12] intercept   : AIC=2620.988, Time=30.01 sec\n",
            " ARIMA(1,0,0)(0,5,0)[12] intercept   : AIC=inf, Time=9.32 sec\n",
            " ARIMA(0,0,1)(0,5,0)[12] intercept   : AIC=inf, Time=8.59 sec\n",
            " ARIMA(1,0,1)(0,5,0)[12] intercept   : AIC=2426.442, Time=14.17 sec\n",
            "\n",
            "Best model:  ARIMA(0,0,0)(0,5,0)[12] intercept\n",
            "Total fit time: 259.048 seconds\n"
          ],
          "name": "stdout"
        }
      ]
    },
    {
      "cell_type": "code",
      "metadata": {
        "id": "SXwsZEX0vHoD",
        "outputId": "12816211-a61d-46e9-f3c9-dbc6182488a4"
      },
      "source": [
        "forecast, confidence = model_y_hat_autoarima_seasonality.predict(n_periods=6, return_conf_int=True)\n",
        "data_test['y_hat_autoarima_seasonality'] = pd.Series(forecast, index=data_test.index)\n",
        "forecast_accuracy(data_test.y_hat_autoarima_seasonality, data_test.total_sales)"
      ],
      "execution_count": null,
      "outputs": [
        {
          "output_type": "stream",
          "text": [
            "/Applications/anaconda3/envs/env_for_ts/lib/python3.6/site-packages/ipykernel_launcher.py:2: SettingWithCopyWarning: \n",
            "A value is trying to be set on a copy of a slice from a DataFrame.\n",
            "Try using .loc[row_indexer,col_indexer] = value instead\n",
            "\n",
            "See the caveats in the documentation: https://pandas.pydata.org/pandas-docs/stable/user_guide/indexing.html#returning-a-view-versus-a-copy\n",
            "  \n"
          ],
          "name": "stderr"
        },
        {
          "output_type": "execute_result",
          "data": {
            "text/plain": [
              "{'mape': 0.3552127045028093}"
            ]
          },
          "metadata": {
            "tags": []
          },
          "execution_count": 75
        }
      ]
    },
    {
      "cell_type": "markdown",
      "metadata": {
        "id": "em4-n_h_vHoD"
      },
      "source": [
        "10.- If you build a model with Prophet, does the error increase or decrease?"
      ]
    },
    {
      "cell_type": "markdown",
      "metadata": {
        "id": "yAmqj36xvHoD"
      },
      "source": [
        "Prophet\n",
        "\n",
        "* Prophet with seasonality: 0.09957"
      ]
    },
    {
      "cell_type": "markdown",
      "metadata": {
        "id": "6lU0BcQgvHoD"
      },
      "source": [
        "Load data and create global variable named y according to Prophet requeriments"
      ]
    },
    {
      "cell_type": "code",
      "metadata": {
        "id": "Vxez0D0FvHoE",
        "outputId": "d8565d18-e929-4144-ec78-023a749cbd62"
      },
      "source": [
        "data_for_prophet = pd.read_csv(path, sep=',')\n",
        "data_for_prophet['y'] = data_for_prophet[['Fortified', 'Red', 'Rose', 'sparkling', 'Sweet white', 'Dry white']].sum(axis=1)\n",
        "data_for_prophet.head(1)"
      ],
      "execution_count": null,
      "outputs": [
        {
          "output_type": "execute_result",
          "data": {
            "text/html": [
              "<div>\n",
              "<style scoped>\n",
              "    .dataframe tbody tr th:only-of-type {\n",
              "        vertical-align: middle;\n",
              "    }\n",
              "\n",
              "    .dataframe tbody tr th {\n",
              "        vertical-align: top;\n",
              "    }\n",
              "\n",
              "    .dataframe thead th {\n",
              "        text-align: right;\n",
              "    }\n",
              "</style>\n",
              "<table border=\"1\" class=\"dataframe\">\n",
              "  <thead>\n",
              "    <tr style=\"text-align: right;\">\n",
              "      <th></th>\n",
              "      <th>Month</th>\n",
              "      <th>Fortified</th>\n",
              "      <th>Red</th>\n",
              "      <th>Rose</th>\n",
              "      <th>sparkling</th>\n",
              "      <th>Sweet white</th>\n",
              "      <th>Dry white</th>\n",
              "      <th>y</th>\n",
              "    </tr>\n",
              "  </thead>\n",
              "  <tbody>\n",
              "    <tr>\n",
              "      <th>0</th>\n",
              "      <td>Jan-80</td>\n",
              "      <td>2585</td>\n",
              "      <td>464</td>\n",
              "      <td>112.0</td>\n",
              "      <td>1686</td>\n",
              "      <td>85</td>\n",
              "      <td>1954</td>\n",
              "      <td>6886.0</td>\n",
              "    </tr>\n",
              "  </tbody>\n",
              "</table>\n",
              "</div>"
            ],
            "text/plain": [
              "    Month  Fortified  Red   Rose  sparkling  Sweet white  Dry white       y\n",
              "0  Jan-80       2585  464  112.0       1686           85       1954  6886.0"
            ]
          },
          "metadata": {
            "tags": []
          },
          "execution_count": 65
        }
      ]
    },
    {
      "cell_type": "markdown",
      "metadata": {
        "id": "eZlwfJDGvHoE"
      },
      "source": [
        "Change format of the date variable"
      ]
    },
    {
      "cell_type": "code",
      "metadata": {
        "id": "yfdp7AOdvHoE",
        "outputId": "db51e961-6f67-4471-967a-82c77d902b17"
      },
      "source": [
        "data_for_prophet['Month'] = pd.DatetimeIndex(data_for_prophet['Month'])\n",
        "data_for_prophet.head(1)"
      ],
      "execution_count": null,
      "outputs": [
        {
          "output_type": "execute_result",
          "data": {
            "text/html": [
              "<div>\n",
              "<style scoped>\n",
              "    .dataframe tbody tr th:only-of-type {\n",
              "        vertical-align: middle;\n",
              "    }\n",
              "\n",
              "    .dataframe tbody tr th {\n",
              "        vertical-align: top;\n",
              "    }\n",
              "\n",
              "    .dataframe thead th {\n",
              "        text-align: right;\n",
              "    }\n",
              "</style>\n",
              "<table border=\"1\" class=\"dataframe\">\n",
              "  <thead>\n",
              "    <tr style=\"text-align: right;\">\n",
              "      <th></th>\n",
              "      <th>Month</th>\n",
              "      <th>Fortified</th>\n",
              "      <th>Red</th>\n",
              "      <th>Rose</th>\n",
              "      <th>sparkling</th>\n",
              "      <th>Sweet white</th>\n",
              "      <th>Dry white</th>\n",
              "      <th>y</th>\n",
              "    </tr>\n",
              "  </thead>\n",
              "  <tbody>\n",
              "    <tr>\n",
              "      <th>0</th>\n",
              "      <td>1980-01-01</td>\n",
              "      <td>2585</td>\n",
              "      <td>464</td>\n",
              "      <td>112.0</td>\n",
              "      <td>1686</td>\n",
              "      <td>85</td>\n",
              "      <td>1954</td>\n",
              "      <td>6886.0</td>\n",
              "    </tr>\n",
              "  </tbody>\n",
              "</table>\n",
              "</div>"
            ],
            "text/plain": [
              "       Month  Fortified  Red   Rose  sparkling  Sweet white  Dry white       y\n",
              "0 1980-01-01       2585  464  112.0       1686           85       1954  6886.0"
            ]
          },
          "metadata": {
            "tags": []
          },
          "execution_count": 66
        }
      ]
    },
    {
      "cell_type": "markdown",
      "metadata": {
        "id": "Hx5SPO6SvHoE"
      },
      "source": [
        "Change column names"
      ]
    },
    {
      "cell_type": "code",
      "metadata": {
        "id": "WvVJzxnKvHoE"
      },
      "source": [
        "data_for_prophet = data_for_prophet.rename(columns={'Month': 'ds'})"
      ],
      "execution_count": null,
      "outputs": []
    },
    {
      "cell_type": "code",
      "metadata": {
        "id": "V7WKSo31vHoE"
      },
      "source": [
        "model_prophet = Prophet(\n",
        "    interval_width = 0.95,         # confidence interval\n",
        "    yearly_seasonality = True,\n",
        "    weekly_seasonality = False,\n",
        "    daily_seasonality = False,\n",
        "    holidays = None,               # include holidays or event date\n",
        ")"
      ],
      "execution_count": null,
      "outputs": []
    },
    {
      "cell_type": "code",
      "metadata": {
        "id": "z7dgRDBgvHoE",
        "outputId": "cf475e31-c4b3-4693-eaef-e4a2bd0c5315"
      },
      "source": [
        "model_prophet.fit(data_for_prophet[:-6])"
      ],
      "execution_count": null,
      "outputs": [
        {
          "output_type": "execute_result",
          "data": {
            "text/plain": [
              "<fbprophet.forecaster.Prophet at 0x7fae57869fd0>"
            ]
          },
          "metadata": {
            "tags": []
          },
          "execution_count": 69
        }
      ]
    },
    {
      "cell_type": "code",
      "metadata": {
        "id": "toahOBO5vHoF"
      },
      "source": [
        "future_dates = model_prophet.make_future_dataframe(periods=6, freq='MS')"
      ],
      "execution_count": null,
      "outputs": []
    },
    {
      "cell_type": "code",
      "metadata": {
        "id": "QS2piZBHvHoF",
        "outputId": "c2684275-8707-474c-d840-88088a3e047a"
      },
      "source": [
        "forecast = model_prophet.predict(future_dates)\n",
        "forecast.head(3)"
      ],
      "execution_count": null,
      "outputs": [
        {
          "output_type": "execute_result",
          "data": {
            "text/html": [
              "<div>\n",
              "<style scoped>\n",
              "    .dataframe tbody tr th:only-of-type {\n",
              "        vertical-align: middle;\n",
              "    }\n",
              "\n",
              "    .dataframe tbody tr th {\n",
              "        vertical-align: top;\n",
              "    }\n",
              "\n",
              "    .dataframe thead th {\n",
              "        text-align: right;\n",
              "    }\n",
              "</style>\n",
              "<table border=\"1\" class=\"dataframe\">\n",
              "  <thead>\n",
              "    <tr style=\"text-align: right;\">\n",
              "      <th></th>\n",
              "      <th>ds</th>\n",
              "      <th>trend</th>\n",
              "      <th>yhat_lower</th>\n",
              "      <th>yhat_upper</th>\n",
              "      <th>trend_lower</th>\n",
              "      <th>trend_upper</th>\n",
              "      <th>additive_terms</th>\n",
              "      <th>additive_terms_lower</th>\n",
              "      <th>additive_terms_upper</th>\n",
              "      <th>yearly</th>\n",
              "      <th>yearly_lower</th>\n",
              "      <th>yearly_upper</th>\n",
              "      <th>multiplicative_terms</th>\n",
              "      <th>multiplicative_terms_lower</th>\n",
              "      <th>multiplicative_terms_upper</th>\n",
              "      <th>yhat</th>\n",
              "    </tr>\n",
              "  </thead>\n",
              "  <tbody>\n",
              "    <tr>\n",
              "      <th>0</th>\n",
              "      <td>1980-01-01</td>\n",
              "      <td>10227.573955</td>\n",
              "      <td>4742.008086</td>\n",
              "      <td>8010.704690</td>\n",
              "      <td>10227.573955</td>\n",
              "      <td>10227.573955</td>\n",
              "      <td>-3826.861792</td>\n",
              "      <td>-3826.861792</td>\n",
              "      <td>-3826.861792</td>\n",
              "      <td>-3826.861792</td>\n",
              "      <td>-3826.861792</td>\n",
              "      <td>-3826.861792</td>\n",
              "      <td>0.0</td>\n",
              "      <td>0.0</td>\n",
              "      <td>0.0</td>\n",
              "      <td>6400.712163</td>\n",
              "    </tr>\n",
              "    <tr>\n",
              "      <th>1</th>\n",
              "      <td>1980-02-01</td>\n",
              "      <td>10233.630258</td>\n",
              "      <td>5954.436232</td>\n",
              "      <td>9401.969069</td>\n",
              "      <td>10233.630258</td>\n",
              "      <td>10233.630258</td>\n",
              "      <td>-2583.639657</td>\n",
              "      <td>-2583.639657</td>\n",
              "      <td>-2583.639657</td>\n",
              "      <td>-2583.639657</td>\n",
              "      <td>-2583.639657</td>\n",
              "      <td>-2583.639657</td>\n",
              "      <td>0.0</td>\n",
              "      <td>0.0</td>\n",
              "      <td>0.0</td>\n",
              "      <td>7649.990601</td>\n",
              "    </tr>\n",
              "    <tr>\n",
              "      <th>2</th>\n",
              "      <td>1980-03-01</td>\n",
              "      <td>10239.295832</td>\n",
              "      <td>7242.610930</td>\n",
              "      <td>10521.071420</td>\n",
              "      <td>10239.295832</td>\n",
              "      <td>10239.295832</td>\n",
              "      <td>-1343.313574</td>\n",
              "      <td>-1343.313574</td>\n",
              "      <td>-1343.313574</td>\n",
              "      <td>-1343.313574</td>\n",
              "      <td>-1343.313574</td>\n",
              "      <td>-1343.313574</td>\n",
              "      <td>0.0</td>\n",
              "      <td>0.0</td>\n",
              "      <td>0.0</td>\n",
              "      <td>8895.982259</td>\n",
              "    </tr>\n",
              "  </tbody>\n",
              "</table>\n",
              "</div>"
            ],
            "text/plain": [
              "          ds         trend   yhat_lower    yhat_upper   trend_lower  \\\n",
              "0 1980-01-01  10227.573955  4742.008086   8010.704690  10227.573955   \n",
              "1 1980-02-01  10233.630258  5954.436232   9401.969069  10233.630258   \n",
              "2 1980-03-01  10239.295832  7242.610930  10521.071420  10239.295832   \n",
              "\n",
              "    trend_upper  additive_terms  additive_terms_lower  additive_terms_upper  \\\n",
              "0  10227.573955    -3826.861792          -3826.861792          -3826.861792   \n",
              "1  10233.630258    -2583.639657          -2583.639657          -2583.639657   \n",
              "2  10239.295832    -1343.313574          -1343.313574          -1343.313574   \n",
              "\n",
              "        yearly  yearly_lower  yearly_upper  multiplicative_terms  \\\n",
              "0 -3826.861792  -3826.861792  -3826.861792                   0.0   \n",
              "1 -2583.639657  -2583.639657  -2583.639657                   0.0   \n",
              "2 -1343.313574  -1343.313574  -1343.313574                   0.0   \n",
              "\n",
              "   multiplicative_terms_lower  multiplicative_terms_upper         yhat  \n",
              "0                         0.0                         0.0  6400.712163  \n",
              "1                         0.0                         0.0  7649.990601  \n",
              "2                         0.0                         0.0  8895.982259  "
            ]
          },
          "metadata": {
            "tags": []
          },
          "execution_count": 71
        }
      ]
    },
    {
      "cell_type": "code",
      "metadata": {
        "id": "XzrX7u5svHoF",
        "outputId": "8b7a52e9-af0a-404e-8428-dedcbf0378bd"
      },
      "source": [
        "forecast.tail(3)"
      ],
      "execution_count": null,
      "outputs": [
        {
          "output_type": "execute_result",
          "data": {
            "text/html": [
              "<div>\n",
              "<style scoped>\n",
              "    .dataframe tbody tr th:only-of-type {\n",
              "        vertical-align: middle;\n",
              "    }\n",
              "\n",
              "    .dataframe tbody tr th {\n",
              "        vertical-align: top;\n",
              "    }\n",
              "\n",
              "    .dataframe thead th {\n",
              "        text-align: right;\n",
              "    }\n",
              "</style>\n",
              "<table border=\"1\" class=\"dataframe\">\n",
              "  <thead>\n",
              "    <tr style=\"text-align: right;\">\n",
              "      <th></th>\n",
              "      <th>ds</th>\n",
              "      <th>trend</th>\n",
              "      <th>yhat_lower</th>\n",
              "      <th>yhat_upper</th>\n",
              "      <th>trend_lower</th>\n",
              "      <th>trend_upper</th>\n",
              "      <th>additive_terms</th>\n",
              "      <th>additive_terms_lower</th>\n",
              "      <th>additive_terms_upper</th>\n",
              "      <th>yearly</th>\n",
              "      <th>yearly_lower</th>\n",
              "      <th>yearly_upper</th>\n",
              "      <th>multiplicative_terms</th>\n",
              "      <th>multiplicative_terms_lower</th>\n",
              "      <th>multiplicative_terms_upper</th>\n",
              "      <th>yhat</th>\n",
              "    </tr>\n",
              "  </thead>\n",
              "  <tbody>\n",
              "    <tr>\n",
              "      <th>177</th>\n",
              "      <td>1994-10-01</td>\n",
              "      <td>11107.762833</td>\n",
              "      <td>9515.041798</td>\n",
              "      <td>12958.933105</td>\n",
              "      <td>11107.204072</td>\n",
              "      <td>11108.313077</td>\n",
              "      <td>153.233228</td>\n",
              "      <td>153.233228</td>\n",
              "      <td>153.233228</td>\n",
              "      <td>153.233228</td>\n",
              "      <td>153.233228</td>\n",
              "      <td>153.233228</td>\n",
              "      <td>0.0</td>\n",
              "      <td>0.0</td>\n",
              "      <td>0.0</td>\n",
              "      <td>11260.996061</td>\n",
              "    </tr>\n",
              "    <tr>\n",
              "      <th>178</th>\n",
              "      <td>1994-11-01</td>\n",
              "      <td>11111.335741</td>\n",
              "      <td>11971.777333</td>\n",
              "      <td>15440.604508</td>\n",
              "      <td>11110.465083</td>\n",
              "      <td>11112.180470</td>\n",
              "      <td>2607.972557</td>\n",
              "      <td>2607.972557</td>\n",
              "      <td>2607.972557</td>\n",
              "      <td>2607.972557</td>\n",
              "      <td>2607.972557</td>\n",
              "      <td>2607.972557</td>\n",
              "      <td>0.0</td>\n",
              "      <td>0.0</td>\n",
              "      <td>0.0</td>\n",
              "      <td>13719.308298</td>\n",
              "    </tr>\n",
              "    <tr>\n",
              "      <th>179</th>\n",
              "      <td>1994-12-01</td>\n",
              "      <td>11114.793395</td>\n",
              "      <td>14646.486227</td>\n",
              "      <td>18032.803212</td>\n",
              "      <td>11113.727855</td>\n",
              "      <td>11115.966237</td>\n",
              "      <td>5187.461146</td>\n",
              "      <td>5187.461146</td>\n",
              "      <td>5187.461146</td>\n",
              "      <td>5187.461146</td>\n",
              "      <td>5187.461146</td>\n",
              "      <td>5187.461146</td>\n",
              "      <td>0.0</td>\n",
              "      <td>0.0</td>\n",
              "      <td>0.0</td>\n",
              "      <td>16302.254541</td>\n",
              "    </tr>\n",
              "  </tbody>\n",
              "</table>\n",
              "</div>"
            ],
            "text/plain": [
              "            ds         trend    yhat_lower    yhat_upper   trend_lower  \\\n",
              "177 1994-10-01  11107.762833   9515.041798  12958.933105  11107.204072   \n",
              "178 1994-11-01  11111.335741  11971.777333  15440.604508  11110.465083   \n",
              "179 1994-12-01  11114.793395  14646.486227  18032.803212  11113.727855   \n",
              "\n",
              "      trend_upper  additive_terms  additive_terms_lower  additive_terms_upper  \\\n",
              "177  11108.313077      153.233228            153.233228            153.233228   \n",
              "178  11112.180470     2607.972557           2607.972557           2607.972557   \n",
              "179  11115.966237     5187.461146           5187.461146           5187.461146   \n",
              "\n",
              "          yearly  yearly_lower  yearly_upper  multiplicative_terms  \\\n",
              "177   153.233228    153.233228    153.233228                   0.0   \n",
              "178  2607.972557   2607.972557   2607.972557                   0.0   \n",
              "179  5187.461146   5187.461146   5187.461146                   0.0   \n",
              "\n",
              "     multiplicative_terms_lower  multiplicative_terms_upper          yhat  \n",
              "177                         0.0                         0.0  11260.996061  \n",
              "178                         0.0                         0.0  13719.308298  \n",
              "179                         0.0                         0.0  16302.254541  "
            ]
          },
          "metadata": {
            "tags": []
          },
          "execution_count": 72
        }
      ]
    },
    {
      "cell_type": "code",
      "metadata": {
        "id": "2CstKaiyvHoF",
        "outputId": "a7c5d76d-75ff-4b87-cbd7-6d26634c1484"
      },
      "source": [
        "data_test['y_hat_prophet'] = forecast['yhat'][-6:].values\n",
        "data_test.head(6)"
      ],
      "execution_count": null,
      "outputs": [
        {
          "output_type": "stream",
          "text": [
            "/Applications/anaconda3/envs/env_for_ts/lib/python3.6/site-packages/ipykernel_launcher.py:1: SettingWithCopyWarning: \n",
            "A value is trying to be set on a copy of a slice from a DataFrame.\n",
            "Try using .loc[row_indexer,col_indexer] = value instead\n",
            "\n",
            "See the caveats in the documentation: https://pandas.pydata.org/pandas-docs/stable/user_guide/indexing.html#returning-a-view-versus-a-copy\n",
            "  \"\"\"Entry point for launching an IPython kernel.\n"
          ],
          "name": "stderr"
        },
        {
          "output_type": "execute_result",
          "data": {
            "text/html": [
              "<div>\n",
              "<style scoped>\n",
              "    .dataframe tbody tr th:only-of-type {\n",
              "        vertical-align: middle;\n",
              "    }\n",
              "\n",
              "    .dataframe tbody tr th {\n",
              "        vertical-align: top;\n",
              "    }\n",
              "\n",
              "    .dataframe thead th {\n",
              "        text-align: right;\n",
              "    }\n",
              "</style>\n",
              "<table border=\"1\" class=\"dataframe\">\n",
              "  <thead>\n",
              "    <tr style=\"text-align: right;\">\n",
              "      <th></th>\n",
              "      <th>Fortified</th>\n",
              "      <th>Red</th>\n",
              "      <th>Rose</th>\n",
              "      <th>sparkling</th>\n",
              "      <th>Sweet white</th>\n",
              "      <th>Dry white</th>\n",
              "      <th>total_sales</th>\n",
              "      <th>total_sales_seasonal_dif</th>\n",
              "      <th>total_sales_dif</th>\n",
              "      <th>total_sales_log_dif</th>\n",
              "      <th>y_hat_seasonal_naive</th>\n",
              "      <th>y_hat_ar</th>\n",
              "      <th>y_hat_ma</th>\n",
              "      <th>y_hat_arma</th>\n",
              "      <th>y_hat_arima</th>\n",
              "      <th>y_hat_sarima</th>\n",
              "      <th>y_hat_autoarima</th>\n",
              "      <th>y_hat_autoarima_seasonality</th>\n",
              "      <th>y_hat_prophet</th>\n",
              "    </tr>\n",
              "    <tr>\n",
              "      <th>Month</th>\n",
              "      <th></th>\n",
              "      <th></th>\n",
              "      <th></th>\n",
              "      <th></th>\n",
              "      <th></th>\n",
              "      <th></th>\n",
              "      <th></th>\n",
              "      <th></th>\n",
              "      <th></th>\n",
              "      <th></th>\n",
              "      <th></th>\n",
              "      <th></th>\n",
              "      <th></th>\n",
              "      <th></th>\n",
              "      <th></th>\n",
              "      <th></th>\n",
              "      <th></th>\n",
              "      <th></th>\n",
              "      <th></th>\n",
              "    </tr>\n",
              "  </thead>\n",
              "  <tbody>\n",
              "    <tr>\n",
              "      <th>1994-07-01</th>\n",
              "      <td>2714</td>\n",
              "      <td>3670</td>\n",
              "      <td>NaN</td>\n",
              "      <td>2031</td>\n",
              "      <td>225</td>\n",
              "      <td>3905</td>\n",
              "      <td>12545.0</td>\n",
              "      <td>564.0</td>\n",
              "      <td>1811.0</td>\n",
              "      <td>0.155906</td>\n",
              "      <td>5837.0</td>\n",
              "      <td>236.810033</td>\n",
              "      <td>527.044481</td>\n",
              "      <td>378.899003</td>\n",
              "      <td>11922.378854</td>\n",
              "      <td>12591.814427</td>\n",
              "      <td>10787.987267</td>\n",
              "      <td>10787.987267</td>\n",
              "      <td>12317.824056</td>\n",
              "    </tr>\n",
              "    <tr>\n",
              "      <th>1994-08-01</th>\n",
              "      <td>2294</td>\n",
              "      <td>2665</td>\n",
              "      <td>NaN</td>\n",
              "      <td>1495</td>\n",
              "      <td>205</td>\n",
              "      <td>3670</td>\n",
              "      <td>10329.0</td>\n",
              "      <td>-3489.0</td>\n",
              "      <td>-2216.0</td>\n",
              "      <td>-0.194367</td>\n",
              "      <td>9264.0</td>\n",
              "      <td>203.839892</td>\n",
              "      <td>-272.431447</td>\n",
              "      <td>138.033074</td>\n",
              "      <td>12207.043726</td>\n",
              "      <td>12848.523451</td>\n",
              "      <td>10565.448378</td>\n",
              "      <td>10565.448378</td>\n",
              "      <td>12578.165017</td>\n",
              "    </tr>\n",
              "    <tr>\n",
              "      <th>1994-09-01</th>\n",
              "      <td>2416</td>\n",
              "      <td>2639</td>\n",
              "      <td>46.0</td>\n",
              "      <td>2968</td>\n",
              "      <td>259</td>\n",
              "      <td>4221</td>\n",
              "      <td>12549.0</td>\n",
              "      <td>3610.0</td>\n",
              "      <td>2220.0</td>\n",
              "      <td>0.194686</td>\n",
              "      <td>9869.0</td>\n",
              "      <td>113.966809</td>\n",
              "      <td>-104.429428</td>\n",
              "      <td>130.929529</td>\n",
              "      <td>12038.975676</td>\n",
              "      <td>10000.181606</td>\n",
              "      <td>10504.560494</td>\n",
              "      <td>10504.560494</td>\n",
              "      <td>10571.187075</td>\n",
              "    </tr>\n",
              "    <tr>\n",
              "      <th>1994-10-01</th>\n",
              "      <td>2016</td>\n",
              "      <td>2226</td>\n",
              "      <td>51.0</td>\n",
              "      <td>3385</td>\n",
              "      <td>254</td>\n",
              "      <td>4404</td>\n",
              "      <td>12336.0</td>\n",
              "      <td>1137.0</td>\n",
              "      <td>-213.0</td>\n",
              "      <td>-0.017119</td>\n",
              "      <td>10874.0</td>\n",
              "      <td>286.900465</td>\n",
              "      <td>768.594022</td>\n",
              "      <td>209.369303</td>\n",
              "      <td>11750.439917</td>\n",
              "      <td>11592.983253</td>\n",
              "      <td>10540.626851</td>\n",
              "      <td>10540.626851</td>\n",
              "      <td>11260.996061</td>\n",
              "    </tr>\n",
              "    <tr>\n",
              "      <th>1994-11-01</th>\n",
              "      <td>2799</td>\n",
              "      <td>2586</td>\n",
              "      <td>63.0</td>\n",
              "      <td>3729</td>\n",
              "      <td>275</td>\n",
              "      <td>5086</td>\n",
              "      <td>14538.0</td>\n",
              "      <td>669.0</td>\n",
              "      <td>2202.0</td>\n",
              "      <td>0.164244</td>\n",
              "      <td>9679.0</td>\n",
              "      <td>393.357515</td>\n",
              "      <td>553.477914</td>\n",
              "      <td>321.136896</td>\n",
              "      <td>11514.577197</td>\n",
              "      <td>14159.025270</td>\n",
              "      <td>10562.078908</td>\n",
              "      <td>10562.078908</td>\n",
              "      <td>13719.308298</td>\n",
              "    </tr>\n",
              "    <tr>\n",
              "      <th>1994-12-01</th>\n",
              "      <td>2467</td>\n",
              "      <td>2684</td>\n",
              "      <td>84.0</td>\n",
              "      <td>5999</td>\n",
              "      <td>394</td>\n",
              "      <td>5725</td>\n",
              "      <td>17353.0</td>\n",
              "      <td>-442.0</td>\n",
              "      <td>2815.0</td>\n",
              "      <td>0.176999</td>\n",
              "      <td>10734.0</td>\n",
              "      <td>287.074434</td>\n",
              "      <td>89.639834</td>\n",
              "      <td>247.434303</td>\n",
              "      <td>11382.785929</td>\n",
              "      <td>17927.945021</td>\n",
              "      <td>10558.778806</td>\n",
              "      <td>10558.778806</td>\n",
              "      <td>16302.254541</td>\n",
              "    </tr>\n",
              "  </tbody>\n",
              "</table>\n",
              "</div>"
            ],
            "text/plain": [
              "            Fortified   Red  Rose  sparkling  Sweet white  Dry white  \\\n",
              "Month                                                                  \n",
              "1994-07-01       2714  3670   NaN       2031          225       3905   \n",
              "1994-08-01       2294  2665   NaN       1495          205       3670   \n",
              "1994-09-01       2416  2639  46.0       2968          259       4221   \n",
              "1994-10-01       2016  2226  51.0       3385          254       4404   \n",
              "1994-11-01       2799  2586  63.0       3729          275       5086   \n",
              "1994-12-01       2467  2684  84.0       5999          394       5725   \n",
              "\n",
              "            total_sales  total_sales_seasonal_dif  total_sales_dif  \\\n",
              "Month                                                                \n",
              "1994-07-01      12545.0                     564.0           1811.0   \n",
              "1994-08-01      10329.0                   -3489.0          -2216.0   \n",
              "1994-09-01      12549.0                    3610.0           2220.0   \n",
              "1994-10-01      12336.0                    1137.0           -213.0   \n",
              "1994-11-01      14538.0                     669.0           2202.0   \n",
              "1994-12-01      17353.0                    -442.0           2815.0   \n",
              "\n",
              "            total_sales_log_dif  y_hat_seasonal_naive    y_hat_ar    y_hat_ma  \\\n",
              "Month                                                                           \n",
              "1994-07-01             0.155906                5837.0  236.810033  527.044481   \n",
              "1994-08-01            -0.194367                9264.0  203.839892 -272.431447   \n",
              "1994-09-01             0.194686                9869.0  113.966809 -104.429428   \n",
              "1994-10-01            -0.017119               10874.0  286.900465  768.594022   \n",
              "1994-11-01             0.164244                9679.0  393.357515  553.477914   \n",
              "1994-12-01             0.176999               10734.0  287.074434   89.639834   \n",
              "\n",
              "            y_hat_arma   y_hat_arima  y_hat_sarima  y_hat_autoarima  \\\n",
              "Month                                                                 \n",
              "1994-07-01  378.899003  11922.378854  12591.814427     10787.987267   \n",
              "1994-08-01  138.033074  12207.043726  12848.523451     10565.448378   \n",
              "1994-09-01  130.929529  12038.975676  10000.181606     10504.560494   \n",
              "1994-10-01  209.369303  11750.439917  11592.983253     10540.626851   \n",
              "1994-11-01  321.136896  11514.577197  14159.025270     10562.078908   \n",
              "1994-12-01  247.434303  11382.785929  17927.945021     10558.778806   \n",
              "\n",
              "            y_hat_autoarima_seasonality  y_hat_prophet  \n",
              "Month                                                   \n",
              "1994-07-01                 10787.987267   12317.824056  \n",
              "1994-08-01                 10565.448378   12578.165017  \n",
              "1994-09-01                 10504.560494   10571.187075  \n",
              "1994-10-01                 10540.626851   11260.996061  \n",
              "1994-11-01                 10562.078908   13719.308298  \n",
              "1994-12-01                 10558.778806   16302.254541  "
            ]
          },
          "metadata": {
            "tags": []
          },
          "execution_count": 73
        }
      ]
    },
    {
      "cell_type": "code",
      "metadata": {
        "id": "DSeMa16LvHoF",
        "outputId": "06f58110-b8e9-4d25-9321-4763231bb724"
      },
      "source": [
        "forecast_accuracy(data_test['y_hat_prophet'], data_test['total_sales'])"
      ],
      "execution_count": null,
      "outputs": [
        {
          "output_type": "execute_result",
          "data": {
            "text/plain": [
              "{'mape': 0.09957955442886159}"
            ]
          },
          "metadata": {
            "tags": []
          },
          "execution_count": 74
        }
      ]
    },
    {
      "cell_type": "markdown",
      "metadata": {
        "id": "d7PCmVU9vHoF"
      },
      "source": [
        "# Summary\n",
        "\n",
        "If we collect the best solution for each case:\n",
        "* Seasonal Naive: 0.28092\n",
        "* AR(9): 0.98090\n",
        "* MA(9): 0.98119\n",
        "* ARMA(1, 0, 5): 0.98211\n",
        "* ARIMA(2, 1, 2): 0.14526\n",
        "* **ARIMA(2, 1, 1) (2, 1, 1, 12): 0.09503**\n",
        "* ARIMA(2,0,0)(0,0,0)[0]: 0.18940 (autoarima)\n",
        "* ARIMA(0,0,0)(0,5,0)[12]: 0.35521 (autoarima)\n",
        "* Prophet with seasonality: 0.09957"
      ]
    }
  ]
}